{
 "cells": [
  {
   "cell_type": "code",
   "execution_count": 1,
   "id": "d61036d6",
   "metadata": {},
   "outputs": [],
   "source": [
    "from main import load_edgelist\n",
    "from typing import List, Dict\n",
    "from paco import TimeStampedLinkList, paco\n",
    "from time import time\n",
    "from tqdm import tqdm\n",
    "import matplotlib.pyplot as plt\n",
    "from baseline import create_temporal_network, get_total_causal_paths\n",
    "import pandas as pd"
   ]
  },
  {
   "cell_type": "code",
   "execution_count": 2,
   "id": "eab5d1b0",
   "metadata": {},
   "outputs": [],
   "source": [
    "dataset = pd.read_csv('soc-sign-bitcoinotc.csv', header=None)\n",
    "dataset.columns = ['source', 'target', 'rating', 'timestamp']\n",
    "edge_list = [(int(row['source']), int(row['target']), int(row['timestamp'])) for _, row in dataset.iterrows()]"
   ]
  },
  {
   "cell_type": "code",
   "execution_count": 3,
   "id": "69d78f9f",
   "metadata": {},
   "outputs": [],
   "source": [
    "data = TimeStampedLinkList.from_edgelist(edge_list)"
   ]
  },
  {
   "cell_type": "code",
   "execution_count": 4,
   "id": "269cd382",
   "metadata": {},
   "outputs": [],
   "source": [
    "# delta, K\n",
    "fixed_k_config = [\n",
    "    (1, 3),\n",
    "    (2, 3),\n",
    "    (3, 3),\n",
    "    (5, 3),\n",
    "    (10, 3),\n",
    "    (15, 3)\n",
    "]"
   ]
  },
  {
   "cell_type": "markdown",
   "id": "5d728d8a",
   "metadata": {},
   "source": [
    "## PaCo"
   ]
  },
  {
   "cell_type": "code",
   "execution_count": 5,
   "id": "5e62b757",
   "metadata": {},
   "outputs": [],
   "source": [
    "def execute_paco(delta, k):\n",
    "    start = time()\n",
    "    C = paco(data, delta, k)\n",
    "    end = time()\n",
    "    \n",
    "    count = sum(C.values())\n",
    "    return count, end-start"
   ]
  },
  {
   "cell_type": "code",
   "execution_count": 6,
   "id": "b3527ef2",
   "metadata": {},
   "outputs": [
    {
     "name": "stderr",
     "output_type": "stream",
     "text": [
      "100%|█████████████████████████████████████████████████████████████████████████████████████████████████████████████████████████████████████████████████████████████████████████████████| 6/6 [00:00<00:00, 11.16it/s]\n"
     ]
    }
   ],
   "source": [
    "results = []\n",
    "for delta_sec, k in tqdm(fixed_k_config):\n",
    "    result = execute_paco(delta_sec, k)\n",
    "    results.append(result)"
   ]
  },
  {
   "cell_type": "code",
   "execution_count": 7,
   "id": "bca8fb2f",
   "metadata": {},
   "outputs": [],
   "source": [
    "#runtimes_min = [runtime_sec / 60 for _, runtime_sec in results]\n",
    "#deltas_min = [delta_sec / 60 for delta_sec, _ in fixed_k_config]\n",
    "_, paco_runtimes_sec = zip(*results)\n",
    "paco_deltas_sec, _ = zip(*fixed_k_config)"
   ]
  },
  {
   "cell_type": "markdown",
   "id": "b52791d9",
   "metadata": {},
   "source": [
    "## Baseline"
   ]
  },
  {
   "cell_type": "code",
   "execution_count": 8,
   "id": "f01fae16",
   "metadata": {},
   "outputs": [
    {
     "name": "stderr",
     "output_type": "stream",
     "text": [
      "100%|██████████████████████████████████████████████████████████████████████████████████████████████████████████████████████████████████████████████████████████████████████| 35592/35592 [00:01<00:00, 31383.50it/s]\n"
     ]
    }
   ],
   "source": [
    "t = create_temporal_network(edge_list)"
   ]
  },
  {
   "cell_type": "code",
   "execution_count": 9,
   "id": "653c0dcb",
   "metadata": {},
   "outputs": [
    {
     "name": "stderr",
     "output_type": "stream",
     "text": [
      "\r",
      "  0%|                                                                                                                                                                                         | 0/6 [00:00<?, ?it/s]"
     ]
    },
    {
     "name": "stdout",
     "output_type": "stream",
     "text": [
      "2023-12-17 23:52:53 [Severity.INFO]\tConstructing time-unfolded DAG ...\n",
      "2023-12-17 23:52:53 [Severity.INFO]\tfinished.\n",
      "Directed Acyclic Graph\n",
      "Nodes:\t\t71009\n",
      "Roots:\t\t35417\n",
      "Leaves:\t\t35542\n",
      "Links:\t\t35592\n",
      "Acyclic:\tNone\n",
      "\n",
      "2023-12-17 23:52:53 [Severity.INFO]\tGenerating causal trees for 35417 root nodes ...\n",
      "2023-12-17 23:52:54 [Severity.INFO]\tfinished.\n"
     ]
    },
    {
     "name": "stderr",
     "output_type": "stream",
     "text": [
      "\r",
      " 17%|█████████████████████████████▌                                                                                                                                                   | 1/6 [00:01<00:05,  1.08s/it]"
     ]
    },
    {
     "name": "stdout",
     "output_type": "stream",
     "text": [
      "Number of causal paths: Total path count: \t\t35542.0 \n",
      "[Unique / Sub paths / Total]: \t[35542.0 / 71234.0 / 106776.0]\n",
      "Nodes:\t\t\t\t5881 \n",
      "Edges:\t\t\t\t35592\n",
      "Max. path length:\t\t2\n",
      "Avg path length:\t\t1.001406786337291 \n",
      "Paths of length k = 0\t\t0.0 [ 0.0 / 71134.0 / 71134.0 ]\n",
      "Paths of length k = 1\t\t35492.0 [ 35492.0 / 100.0 / 35592.0 ]\n",
      "Paths of length k = 2\t\t50.0 [ 50.0 / 0.0 / 50.0 ]\n",
      "\n",
      "\n",
      "2023-12-17 23:52:54 [Severity.INFO]\tConstructing time-unfolded DAG ...\n",
      "2023-12-17 23:52:54 [Severity.INFO]\tfinished.\n",
      "Directed Acyclic Graph\n",
      "Nodes:\t\t106544\n",
      "Roots:\t\t35362\n",
      "Leaves:\t\t71077\n",
      "Links:\t\t71184\n",
      "Acyclic:\tNone\n",
      "\n",
      "2023-12-17 23:52:54 [Severity.INFO]\tGenerating causal trees for 35362 root nodes ...\n",
      "2023-12-17 23:52:55 [Severity.INFO]\tfinished.\n"
     ]
    },
    {
     "name": "stderr",
     "output_type": "stream",
     "text": [
      "\r",
      " 33%|███████████████████████████████████████████████████████████                                                                                                                      | 2/6 [00:02<00:05,  1.26s/it]"
     ]
    },
    {
     "name": "stdout",
     "output_type": "stream",
     "text": [
      "Number of causal paths: Total path count: \t\t35487.0 \n",
      "[Unique / Sub paths / Total]: \t[35487.0 / 71289.0 / 106776.0]\n",
      "Nodes:\t\t\t\t5881 \n",
      "Edges:\t\t\t\t35592\n",
      "Max. path length:\t\t2\n",
      "Avg path length:\t\t1.0029588299940824 \n",
      "Paths of length k = 0\t\t0.0 [ 0.0 / 71079.0 / 71079.0 ]\n",
      "Paths of length k = 1\t\t35382.0 [ 35382.0 / 210.0 / 35592.0 ]\n",
      "Paths of length k = 2\t\t105.0 [ 105.0 / 0.0 / 105.0 ]\n",
      "\n",
      "\n",
      "2023-12-17 23:52:55 [Severity.INFO]\tConstructing time-unfolded DAG ...\n",
      "2023-12-17 23:52:56 [Severity.INFO]\tfinished.\n",
      "Directed Acyclic Graph\n",
      "Nodes:\t\t142082\n",
      "Roots:\t\t35310\n",
      "Leaves:\t\t106615\n",
      "Links:\t\t106776\n",
      "Acyclic:\tNone\n",
      "\n",
      "2023-12-17 23:52:56 [Severity.INFO]\tGenerating causal trees for 35310 root nodes ...\n",
      "2023-12-17 23:52:56 [Severity.INFO]\tAnalyzing tree 3531/35310 ...\n",
      "2023-12-17 23:52:56 [Severity.INFO]\tAnalyzing tree 7062/35310 ...\n",
      "2023-12-17 23:52:56 [Severity.INFO]\tAnalyzing tree 10593/35310 ...\n",
      "2023-12-17 23:52:57 [Severity.INFO]\tAnalyzing tree 14124/35310 ...\n",
      "2023-12-17 23:52:57 [Severity.INFO]\tAnalyzing tree 17655/35310 ...\n",
      "2023-12-17 23:52:57 [Severity.INFO]\tAnalyzing tree 21186/35310 ...\n",
      "2023-12-17 23:52:57 [Severity.INFO]\tAnalyzing tree 24717/35310 ...\n",
      "2023-12-17 23:52:57 [Severity.INFO]\tAnalyzing tree 28248/35310 ...\n",
      "2023-12-17 23:52:57 [Severity.INFO]\tAnalyzing tree 31779/35310 ...\n",
      "2023-12-17 23:52:57 [Severity.INFO]\tAnalyzing tree 35310/35310 ...\n",
      "2023-12-17 23:52:57 [Severity.INFO]\tfinished.\n",
      "Number of causal paths: Total path count: \t\t35435.0 \n",
      "[Unique / Sub paths / Total]: \t[35435.0 / 71341.0 / 106776.0]\n",
      "Nodes:\t\t\t\t5881 \n",
      "Edges:\t\t\t\t35592\n",
      "Max. path length:\t\t2\n",
      "Avg path length:\t\t1.0044306476647382 \n",
      "Paths of length k = 0\t\t0.0 [ 0.0 / 71027.0 / 71027.0 ]\n",
      "Paths of length k = 1\t\t35278.0 [ 35278.0 / 314.0 / 35592.0 ]\n",
      "Paths of length k = 2\t\t157.0 [ 157.0 / 0.0 / 157.0 ]\n",
      "\n",
      "\n"
     ]
    },
    {
     "name": "stderr",
     "output_type": "stream",
     "text": [
      "\r",
      " 50%|████████████████████████████████████████████████████████████████████████████████████████▌                                                                                        | 3/6 [00:04<00:04,  1.57s/it]"
     ]
    },
    {
     "name": "stdout",
     "output_type": "stream",
     "text": [
      "2023-12-17 23:52:57 [Severity.INFO]\tConstructing time-unfolded DAG ...\n",
      "2023-12-17 23:52:58 [Severity.INFO]\tfinished.\n",
      "Directed Acyclic Graph\n",
      "Nodes:\t\t213150\n",
      "Roots:\t\t35213\n",
      "Leaves:\t\t177683\n",
      "Links:\t\t177960\n",
      "Acyclic:\tNone\n",
      "\n",
      "2023-12-17 23:52:58 [Severity.INFO]\tGenerating causal trees for 35213 root nodes ...\n",
      "2023-12-17 23:52:59 [Severity.INFO]\tfinished.\n",
      "Number of causal paths: Total path count: \t\t35338.0 \n",
      "[Unique / Sub paths / Total]: \t[35338.0 / 71441.0 / 106779.0]\n",
      "Nodes:\t\t\t\t5881 \n",
      "Edges:\t\t\t\t35592\n",
      "Max. path length:\t\t2\n",
      "Avg path length:\t\t1.0072160280717641 \n",
      "Paths of length k = 0\t\t0.0 [ 0.0 / 70931.0 / 70931.0 ]\n",
      "Paths of length k = 1\t\t35083.0 [ 35083.0 / 510.0 / 35593.0 ]\n",
      "Paths of length k = 2\t\t255.0 [ 255.0 / 0.0 / 255.0 ]\n",
      "\n",
      "\n"
     ]
    },
    {
     "name": "stderr",
     "output_type": "stream",
     "text": [
      "\r",
      " 67%|██████████████████████████████████████████████████████████████████████████████████████████████████████████████████████                                                           | 4/6 [00:06<00:03,  1.88s/it]"
     ]
    },
    {
     "name": "stdout",
     "output_type": "stream",
     "text": [
      "2023-12-17 23:53:00 [Severity.INFO]\tConstructing time-unfolded DAG ...\n",
      "2023-12-17 23:53:02 [Severity.INFO]\tfinished.\n",
      "Directed Acyclic Graph\n",
      "Nodes:\t\t390688\n",
      "Roots:\t\t34904\n",
      "Leaves:\t\t355221\n",
      "Links:\t\t355920\n",
      "Acyclic:\tNone\n",
      "\n",
      "2023-12-17 23:53:02 [Severity.INFO]\tGenerating causal trees for 34904 root nodes ...\n",
      "2023-12-17 23:53:03 [Severity.INFO]\tfinished.\n",
      "Number of causal paths: Total path count: \t\t35030.0 \n",
      "[Unique / Sub paths / Total]: \t[35030.0 / 71753.0 / 106783.0]\n",
      "Nodes:\t\t\t\t5881 \n",
      "Edges:\t\t\t\t35592\n",
      "Max. path length:\t\t3\n",
      "Avg path length:\t\t1.0161004852983158 \n",
      "Paths of length k = 0\t\t0.0 [ 0.0 / 70624.0 / 70624.0 ]\n",
      "Paths of length k = 1\t\t34467.0 [ 34467.0 / 1127.0 / 35594.0 ]\n",
      "Paths of length k = 2\t\t562.0 [ 562.0 / 2.0 / 564.0 ]\n",
      "Paths of length k = 3\t\t1.0 [ 1.0 / 0.0 / 1.0 ]\n",
      "\n",
      "\n"
     ]
    },
    {
     "name": "stderr",
     "output_type": "stream",
     "text": [
      "\r",
      " 83%|███████████████████████████████████████████████████████████████████████████████████████████████████████████████████████████████████████████████████▌                             | 5/6 [00:10<00:02,  2.49s/it]"
     ]
    },
    {
     "name": "stdout",
     "output_type": "stream",
     "text": [
      "2023-12-17 23:53:03 [Severity.INFO]\tConstructing time-unfolded DAG ...\n",
      "2023-12-17 23:53:07 [Severity.INFO]\tfinished.\n",
      "Directed Acyclic Graph\n",
      "Nodes:\t\t568131\n",
      "Roots:\t\t34586\n",
      "Leaves:\t\t532664\n",
      "Links:\t\t533880\n",
      "Acyclic:\tNone\n",
      "\n",
      "2023-12-17 23:53:07 [Severity.INFO]\tGenerating causal trees for 34586 root nodes ...\n",
      "2023-12-17 23:53:08 [Severity.INFO]\tfinished.\n",
      "Number of causal paths: Total path count: \t\t34713.0 \n",
      "[Unique / Sub paths / Total]: \t[34713.0 / 72075.0 / 106788.0]\n",
      "Nodes:\t\t\t\t5881 \n",
      "Edges:\t\t\t\t35592\n",
      "Max. path length:\t\t3\n",
      "Avg path length:\t\t1.0254083484573502 \n",
      "Paths of length k = 0\t\t0.0 [ 0.0 / 70308.0 / 70308.0 ]\n",
      "Paths of length k = 1\t\t33834.0 [ 33834.0 / 1761.0 / 35595.0 ]\n",
      "Paths of length k = 2\t\t876.0 [ 876.0 / 6.0 / 882.0 ]\n",
      "Paths of length k = 3\t\t3.0 [ 3.0 / 0.0 / 3.0 ]\n",
      "\n",
      "\n"
     ]
    },
    {
     "name": "stderr",
     "output_type": "stream",
     "text": [
      "100%|█████████████████████████████████████████████████████████████████████████████████████████████████████████████████████████████████████████████████████████████████████████████████| 6/6 [00:15<00:00,  2.61s/it]\n"
     ]
    }
   ],
   "source": [
    "results = []\n",
    "for delta_sec, k in tqdm(fixed_k_config):\n",
    "    result = get_total_causal_paths(t, delta_sec, k)\n",
    "    results.append(result)"
   ]
  },
  {
   "cell_type": "code",
   "execution_count": 10,
   "id": "750a7bd4",
   "metadata": {},
   "outputs": [],
   "source": [
    "_, baseline_runtimes_sec = zip(*results)\n",
    "baseline_deltas_sec, _ = zip(*fixed_k_config)"
   ]
  },
  {
   "cell_type": "code",
   "execution_count": 11,
   "id": "a2749a6e",
   "metadata": {},
   "outputs": [
    {
     "name": "stdout",
     "output_type": "stream",
     "text": [
      "2023-12-17 23:53:08 [Severity.INFO]\tConstructing time-unfolded DAG ...\n",
      "2023-12-17 23:54:02 [Severity.INFO]\tfinished.\n",
      "Directed Acyclic Graph\n",
      "Nodes:\t\t4258126\n",
      "Roots:\t\t29762\n",
      "Leaves:\t\t4222659\n",
      "Links:\t\t4271040\n",
      "Acyclic:\tNone\n",
      "\n",
      "2023-12-17 23:54:02 [Severity.INFO]\tGenerating causal trees for 29762 root nodes ...\n",
      "2023-12-17 23:54:11 [Severity.INFO]\tfinished.\n",
      "Number of causal paths: Total path count: \t\t30072.0 \n",
      "[Unique / Sub paths / Total]: \t[30072.0 / 77662.0 / 107734.0]\n",
      "Nodes:\t\t\t\t5881 \n",
      "Edges:\t\t\t\t35592\n",
      "Max. path length:\t\t6\n",
      "Avg path length:\t\t1.1923051343442406 \n",
      "Paths of length k = 0\t\t0.0 [ 0.0 / 65927.0 / 65927.0 ]\n",
      "Paths of length k = 1\t\t24429.0 [ 24429.0 / 11426.0 / 35855.0 ]\n",
      "Paths of length k = 2\t\t5528.0 [ 5528.0 / 255.0 / 5783.0 ]\n",
      "Paths of length k = 3\t\t93.0 [ 93.0 / 47.0 / 140.0 ]\n",
      "Paths of length k = 4\t\t20.0 [ 20.0 / 5.0 / 25.0 ]\n",
      "Paths of length k = 5\t\t1.0 [ 1.0 / 2.0 / 3.0 ]\n",
      "Paths of length k = 6\t\t1.0 [ 1.0 / 0.0 / 1.0 ]\n",
      "\n",
      "\n"
     ]
    },
    {
     "data": {
      "text/plain": [
       "(41778.0, 63.71399402618408)"
      ]
     },
     "execution_count": 11,
     "metadata": {},
     "output_type": "execute_result"
    }
   ],
   "source": [
    "get_total_causal_paths(t, 120, 3)"
   ]
  },
  {
   "cell_type": "markdown",
   "id": "cb084908",
   "metadata": {},
   "source": [
    "## Plots"
   ]
  },
  {
   "cell_type": "code",
   "execution_count": 12,
   "id": "3edbdada",
   "metadata": {},
   "outputs": [
    {
     "data": {
      "image/png": "[encoded data removed]",
      "text/plain": [
       "<Figure size 640x480 with 1 Axes>"
      ]
     },
     "metadata": {},
     "output_type": "display_data"
    }
   ],
   "source": [
    "plt.plot(paco_deltas_sec, paco_runtimes_sec, 's--', color='blue',label=\"PaCo\")\n",
    "plt.plot(baseline_deltas_sec, baseline_runtimes_sec, '^--', color='red',label=\"Baseline\")\n",
    "plt.xlabel(\"δ [sec]\")\n",
    "plt.ylabel(\"run-time [sec]\")\n",
    "plt.grid(True)\n",
    "plt.legend()\n",
    "plt.savefig('plots/socbitcoin_middle_panel.png')\n",
    "plt.show()"
   ]
  }
 ],
 "metadata": {
  "kernelspec": {
   "display_name": "Python 3 (ipykernel)",
   "language": "python",
   "name": "python3"
  },
  "language_info": {
   "codemirror_mode": {
    "name": "ipython",
    "version": 3
   },
   "file_extension": ".py",
   "mimetype": "text/x-python",
   "name": "python",
   "nbconvert_exporter": "python",
   "pygments_lexer": "ipython3",
   "version": "3.10.13"
  }
 },
 "nbformat": 4,
 "nbformat_minor": 5
}
