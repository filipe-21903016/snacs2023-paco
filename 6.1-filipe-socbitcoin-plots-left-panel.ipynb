{
 "cells": [
  {
   "cell_type": "code",
   "execution_count": 1,
   "id": "d61036d6",
   "metadata": {},
   "outputs": [],
   "source": [
    "from main import load_edgelist\n",
    "from typing import List, Dict\n",
    "from paco import TimeStampedLinkList, paco\n",
    "from time import time\n",
    "from tqdm import tqdm, trange\n",
    "import matplotlib.pyplot as plt\n",
    "from baseline import create_temporal_network, get_total_causal_paths\n",
    "import random\n",
    "import pandas as pd"
   ]
  },
  {
   "cell_type": "code",
   "execution_count": 2,
   "id": "6a31e886",
   "metadata": {},
   "outputs": [],
   "source": [
    "dataset = pd.read_csv('soc-sign-bitcoinotc.csv', header=None)\n",
    "dataset.columns = ['source', 'target', 'rating', 'timestamp']\n",
    "edge_list = [(int(row['source']), int(row['target']), int(row['timestamp'])) for _, row in dataset.iterrows()]"
   ]
  },
  {
   "cell_type": "code",
   "execution_count": 3,
   "id": "69d78f9f",
   "metadata": {},
   "outputs": [],
   "source": [
    "delta = 30\n",
    "k = 4"
   ]
  },
  {
   "cell_type": "code",
   "execution_count": 4,
   "id": "b623a4c9",
   "metadata": {},
   "outputs": [],
   "source": [
    "data = TimeStampedLinkList.from_edgelist(edge_list)"
   ]
  },
  {
   "cell_type": "code",
   "execution_count": 5,
   "id": "92b1829d",
   "metadata": {},
   "outputs": [],
   "source": [
    "def random_percentage_subset(input_list, percentage, seed=None):\n",
    "    if not 0 <= percentage <= 100:\n",
    "        raise ValueError(\"Percentage must be between 0 and 100.\")\n",
    "\n",
    "    # Set the seed for reproducibility\n",
    "    random.seed(seed)\n",
    "\n",
    "    # Calculate the number of elements to include\n",
    "    num_elements = int(len(input_list) * (percentage / 100))\n",
    "\n",
    "    # Randomly select elements\n",
    "    subset = random.sample(input_list, num_elements)\n",
    "\n",
    "    return subset"
   ]
  },
  {
   "cell_type": "markdown",
   "id": "e4a76415",
   "metadata": {},
   "source": [
    "## PaCo"
   ]
  },
  {
   "cell_type": "code",
   "execution_count": 6,
   "id": "8290e5bc",
   "metadata": {},
   "outputs": [],
   "source": [
    "def execute_paco(data, delta, k):     \n",
    "    start = time()\n",
    "    C = paco(data, delta, k)\n",
    "    end = time()\n",
    "    count = sum(C.values())\n",
    "    return count, end-start"
   ]
  },
  {
   "cell_type": "code",
   "execution_count": 7,
   "id": "cbb5fe78",
   "metadata": {},
   "outputs": [
    {
     "name": "stderr",
     "output_type": "stream",
     "text": [
      "100%|█████████████████████████████████████████████████████████████████████████████████████████████████████████████████████████████████████████████████████████████████████████████████| 5/5 [00:00<00:00, 10.38it/s]\n"
     ]
    }
   ],
   "source": [
    "splits = 5\n",
    "results = []\n",
    "for s in trange(1, splits + 1):\n",
    "    # Get percentage\n",
    "    percentage = int(100 / splits * s)\n",
    "    # Split dataset\n",
    "    n_edges = random_percentage_subset(edge_list, percentage, 28)\n",
    "    n_links = len(n_edges)\n",
    "    data = TimeStampedLinkList.from_edgelist(n_edges)\n",
    "    count, runtime = execute_paco(data, delta, k)\n",
    "    results.append((count, runtime, round(n_links / 10**3)))"
   ]
  },
  {
   "cell_type": "code",
   "execution_count": 8,
   "id": "4fae4620",
   "metadata": {},
   "outputs": [],
   "source": [
    "_, paco_runtimes_sec, paco_n_links = zip(*results)"
   ]
  },
  {
   "cell_type": "markdown",
   "id": "b7b8eb28",
   "metadata": {},
   "source": [
    "## Baseline"
   ]
  },
  {
   "cell_type": "code",
   "execution_count": 9,
   "id": "d9f2c9f9",
   "metadata": {
    "scrolled": true
   },
   "outputs": [
    {
     "name": "stderr",
     "output_type": "stream",
     "text": [
      "  0%|                                                                                                                                                                                         | 0/5 [00:00<?, ?it/s]\n",
      "  0%|                                                                                                                                                                                      | 0/7118 [00:00<?, ?it/s]\u001b[A\n",
      "100%|████████████████████████████████████████████████████████████████████████████████████████████████████████████████████████████████████████████████████████████████████████| 7118/7118 [00:00<00:00, 50481.58it/s]\u001b[A"
     ]
    },
    {
     "name": "stdout",
     "output_type": "stream",
     "text": [
      "2023-12-17 23:52:57 [Severity.INFO]\tConstructing time-unfolded DAG ...\n"
     ]
    },
    {
     "name": "stderr",
     "output_type": "stream",
     "text": [
      "\n"
     ]
    },
    {
     "name": "stdout",
     "output_type": "stream",
     "text": [
      "2023-12-17 23:52:59 [Severity.INFO]\tfinished.\n",
      "Directed Acyclic Graph\n",
      "Nodes:\t\t220563\n",
      "Roots:\t\t7053\n",
      "Leaves:\t\t213451\n",
      "Links:\t\t213540\n",
      "Acyclic:\tNone\n",
      "\n",
      "2023-12-17 23:52:59 [Severity.INFO]\tGenerating causal trees for 7053 root nodes ...\n",
      "2023-12-17 23:52:59 [Severity.INFO]\tfinished.\n"
     ]
    },
    {
     "name": "stderr",
     "output_type": "stream",
     "text": [
      "\r",
      " 20%|███████████████████████████████████▍                                                                                                                                             | 1/5 [00:02<00:09,  2.27s/it]"
     ]
    },
    {
     "name": "stdout",
     "output_type": "stream",
     "text": [
      "Number of causal paths: Total path count: \t\t7059.0 \n",
      "[Unique / Sub paths / Total]: \t[7059.0 / 14295.0 / 21354.0]\n",
      "Nodes:\t\t\t\t3468 \n",
      "Edges:\t\t\t\t7118\n",
      "Max. path length:\t\t2\n",
      "Avg path length:\t\t1.0083581243802238 \n",
      "Paths of length k = 0\t\t0.0 [ 0.0 / 14177.0 / 14177.0 ]\n",
      "Paths of length k = 1\t\t7000.0 [ 7000.0 / 118.0 / 7118.0 ]\n",
      "Paths of length k = 2\t\t59.0 [ 59.0 / 0.0 / 59.0 ]\n",
      "\n",
      "\n"
     ]
    },
    {
     "name": "stderr",
     "output_type": "stream",
     "text": [
      "\n",
      "  0%|                                                                                                                                                                                     | 0/14236 [00:00<?, ?it/s]\u001b[A\n",
      "100%|██████████████████████████████████████████████████████████████████████████████████████████████████████████████████████████████████████████████████████████████████████| 14236/14236 [00:00<00:00, 59606.04it/s]\u001b[A"
     ]
    },
    {
     "name": "stdout",
     "output_type": "stream",
     "text": [
      "2023-12-17 23:53:00 [Severity.INFO]\tConstructing time-unfolded DAG ...\n"
     ]
    },
    {
     "name": "stderr",
     "output_type": "stream",
     "text": [
      "\n"
     ]
    },
    {
     "name": "stdout",
     "output_type": "stream",
     "text": [
      "2023-12-17 23:53:03 [Severity.INFO]\tfinished.\n",
      "Directed Acyclic Graph\n",
      "Nodes:\t\t440722\n",
      "Roots:\t\t13896\n",
      "Leaves:\t\t426511\n",
      "Links:\t\t427080\n",
      "Acyclic:\tNone\n",
      "\n",
      "2023-12-17 23:53:03 [Severity.INFO]\tGenerating causal trees for 13896 root nodes ...\n",
      "2023-12-17 23:53:04 [Severity.INFO]\tfinished.\n"
     ]
    },
    {
     "name": "stderr",
     "output_type": "stream",
     "text": [
      "\r",
      " 40%|██████████████████████████████████████████████████████████████████████▊                                                                                                          | 2/5 [00:06<00:10,  3.51s/it]"
     ]
    },
    {
     "name": "stdout",
     "output_type": "stream",
     "text": [
      "Number of causal paths: Total path count: \t\t13922.0 \n",
      "[Unique / Sub paths / Total]: \t[13922.0 / 28791.0 / 42713.0]\n",
      "Nodes:\t\t\t\t4591 \n",
      "Edges:\t\t\t\t14236\n",
      "Max. path length:\t\t3\n",
      "Avg path length:\t\t1.0226260594742134 \n",
      "Paths of length k = 0\t\t0.0 [ 0.0 / 28159.0 / 28159.0 ]\n",
      "Paths of length k = 1\t\t13609.0 [ 13609.0 / 628.0 / 14237.0 ]\n",
      "Paths of length k = 2\t\t311.0 [ 311.0 / 4.0 / 315.0 ]\n",
      "Paths of length k = 3\t\t2.0 [ 2.0 / 0.0 / 2.0 ]\n",
      "\n",
      "\n"
     ]
    },
    {
     "name": "stderr",
     "output_type": "stream",
     "text": [
      "\n",
      "  0%|                                                                                                                                                                                     | 0/21355 [00:00<?, ?it/s]\u001b[A\n",
      " 20%|█████████████████████████████████▌                                                                                                                                     | 4288/21355 [00:00<00:00, 42871.86it/s]\u001b[A\n",
      " 45%|██████████████████████████████████████████████████████████████████████████▌                                                                                            | 9527/21355 [00:00<00:00, 48466.62it/s]\u001b[A\n",
      " 69%|██████████████████████████████████████████████████████████████████████████████████████████████████████████████████▎                                                   | 14699/21355 [00:00<00:00, 49949.52it/s]\u001b[A\n",
      "100%|██████████████████████████████████████████████████████████████████████████████████████████████████████████████████████████████████████████████████████████████████████| 21355/21355 [00:00<00:00, 42097.39it/s]\u001b[A"
     ]
    },
    {
     "name": "stdout",
     "output_type": "stream",
     "text": [
      "2023-12-17 23:53:04 [Severity.INFO]\tConstructing time-unfolded DAG ...\n"
     ]
    },
    {
     "name": "stderr",
     "output_type": "stream",
     "text": [
      "\n"
     ]
    },
    {
     "name": "stdout",
     "output_type": "stream",
     "text": [
      "2023-12-17 23:53:10 [Severity.INFO]\tfinished.\n",
      "Directed Acyclic Graph\n",
      "Nodes:\t\t660664\n",
      "Roots:\t\t20572\n",
      "Leaves:\t\t639364\n",
      "Links:\t\t640650\n",
      "Acyclic:\tNone\n",
      "\n",
      "2023-12-17 23:53:10 [Severity.INFO]\tGenerating causal trees for 20572 root nodes ...\n",
      "2023-12-17 23:53:11 [Severity.INFO]\tfinished.\n",
      "Number of causal paths: Total path count: \t\t20630.0 \n",
      "[Unique / Sub paths / Total]: \t[20630.0 / 43451.0 / 64081.0]\n",
      "Nodes:\t\t\t\t5228 \n",
      "Edges:\t\t\t\t21355\n",
      "Max. path length:\t\t3\n",
      "Avg path length:\t\t1.035336888027145 \n",
      "Paths of length k = 0\t\t0.0 [ 0.0 / 41989.0 / 41989.0 ]\n",
      "Paths of length k = 1\t\t19905.0 [ 19905.0 / 1454.0 / 21359.0 ]\n",
      "Paths of length k = 2\t\t721.0 [ 721.0 / 8.0 / 729.0 ]\n",
      "Paths of length k = 3\t\t4.0 [ 4.0 / 0.0 / 4.0 ]\n",
      "\n",
      "\n"
     ]
    },
    {
     "name": "stderr",
     "output_type": "stream",
     "text": [
      " 60%|██████████████████████████████████████████████████████████████████████████████████████████████████████████▏                                                                      | 3/5 [00:13<00:10,  5.23s/it]\n",
      "  0%|                                                                                                                                                                                     | 0/28473 [00:00<?, ?it/s]\u001b[A\n",
      " 25%|██████████████████████████████████████████▍                                                                                                                            | 7231/28473 [00:00<00:00, 72288.35it/s]\u001b[A\n",
      " 51%|████████████████████████████████████████████████████████████████████████████████████▎                                                                                 | 14460/28473 [00:00<00:00, 54682.48it/s]\u001b[A\n",
      " 71%|█████████████████████████████████████████████████████████████████████████████████████████████████████████████████████▋                                                | 20185/28473 [00:00<00:00, 48884.26it/s]\u001b[A\n",
      "100%|██████████████████████████████████████████████████████████████████████████████████████████████████████████████████████████████████████████████████████████████████████| 28473/28473 [00:00<00:00, 46303.79it/s]\u001b[A"
     ]
    },
    {
     "name": "stdout",
     "output_type": "stream",
     "text": [
      "2023-12-17 23:53:12 [Severity.INFO]\tConstructing time-unfolded DAG ...\n"
     ]
    },
    {
     "name": "stderr",
     "output_type": "stream",
     "text": [
      "\n"
     ]
    },
    {
     "name": "stdout",
     "output_type": "stream",
     "text": [
      "2023-12-17 23:53:19 [Severity.INFO]\tfinished.\n",
      "Directed Acyclic Graph\n",
      "Nodes:\t\t880400\n",
      "Roots:\t\t27125\n",
      "Leaves:\t\t852017\n",
      "Links:\t\t854190\n",
      "Acyclic:\tNone\n",
      "\n",
      "2023-12-17 23:53:19 [Severity.INFO]\tGenerating causal trees for 27125 root nodes ...\n",
      "2023-12-17 23:53:19 [Severity.INFO]\tAnalyzing tree 5425/27125 ...\n",
      "2023-12-17 23:53:20 [Severity.INFO]\tAnalyzing tree 10850/27125 ...\n",
      "2023-12-17 23:53:20 [Severity.INFO]\tAnalyzing tree 16275/27125 ...\n",
      "2023-12-17 23:53:20 [Severity.INFO]\tAnalyzing tree 21700/27125 ...\n",
      "2023-12-17 23:53:20 [Severity.INFO]\tAnalyzing tree 27125/27125 ...\n",
      "2023-12-17 23:53:20 [Severity.INFO]\tfinished.\n"
     ]
    },
    {
     "name": "stderr",
     "output_type": "stream",
     "text": [
      "\r",
      " 80%|█████████████████████████████████████████████████████████████████████████████████████████████████████████████████████████████████████████████▌                                   | 4/5 [00:23<00:06,  6.95s/it]"
     ]
    },
    {
     "name": "stdout",
     "output_type": "stream",
     "text": [
      "Number of causal paths: Total path count: \t\t27221.0 \n",
      "[Unique / Sub paths / Total]: \t[27221.0 / 58224.0 / 85445.0]\n",
      "Nodes:\t\t\t\t5645 \n",
      "Edges:\t\t\t\t28473\n",
      "Max. path length:\t\t3\n",
      "Avg path length:\t\t1.0462510561698688 \n",
      "Paths of length k = 0\t\t0.0 [ 0.0 / 55701.0 / 55701.0 ]\n",
      "Paths of length k = 1\t\t25967.0 [ 25967.0 / 2513.0 / 28480.0 ]\n",
      "Paths of length k = 2\t\t1249.0 [ 1249.0 / 10.0 / 1259.0 ]\n",
      "Paths of length k = 3\t\t5.0 [ 5.0 / 0.0 / 5.0 ]\n",
      "\n",
      "\n"
     ]
    },
    {
     "name": "stderr",
     "output_type": "stream",
     "text": [
      "\n",
      "  0%|                                                                                                                                                                                     | 0/35592 [00:00<?, ?it/s]\u001b[A\n",
      " 20%|█████████████████████████████████▍                                                                                                                                     | 7131/35592 [00:00<00:00, 71305.14it/s]\u001b[A\n",
      " 40%|██████████████████████████████████████████████████████████████████▌                                                                                                   | 14262/35592 [00:00<00:00, 57372.57it/s]\u001b[A\n",
      " 57%|██████████████████████████████████████████████████████████████████████████████████████████████                                                                        | 20167/35592 [00:00<00:00, 50677.43it/s]\u001b[A\n",
      " 71%|██████████████████████████████████████████████████████████████████████████████████████████████████████████████████████▎                                               | 25358/35592 [00:00<00:00, 46006.00it/s]\u001b[A\n",
      " 84%|████████████████████████████████████████████████████████████████████████████████████████████████████████████████████████████████████████████                          | 30040/35592 [00:00<00:00, 42898.49it/s]\u001b[A\n",
      "100%|██████████████████████████████████████████████████████████████████████████████████████████████████████████████████████████████████████████████████████████████████████| 35592/35592 [00:00<00:00, 44937.52it/s]\u001b[A"
     ]
    },
    {
     "name": "stdout",
     "output_type": "stream",
     "text": [
      "2023-12-17 23:53:22 [Severity.INFO]\tConstructing time-unfolded DAG ...\n"
     ]
    },
    {
     "name": "stderr",
     "output_type": "stream",
     "text": [
      "\n"
     ]
    },
    {
     "name": "stdout",
     "output_type": "stream",
     "text": [
      "2023-12-17 23:53:30 [Severity.INFO]\tfinished.\n",
      "Directed Acyclic Graph\n",
      "Nodes:\t\t1099766\n",
      "Roots:\t\t33541\n",
      "Leaves:\t\t1064299\n",
      "Links:\t\t1067760\n",
      "Acyclic:\tNone\n",
      "\n",
      "2023-12-17 23:53:30 [Severity.INFO]\tGenerating causal trees for 33541 root nodes ...\n",
      "2023-12-17 23:53:32 [Severity.INFO]\tfinished.\n",
      "Number of causal paths: Total path count: \t\t33678.0 \n",
      "[Unique / Sub paths / Total]: \t[33678.0 / 73155.0 / 106833.0]\n",
      "Nodes:\t\t\t\t5881 \n",
      "Edges:\t\t\t\t35592\n",
      "Max. path length:\t\t3\n",
      "Avg path length:\t\t1.0572480551101608 \n",
      "Paths of length k = 0\t\t0.0 [ 0.0 / 69284.0 / 69284.0 ]\n",
      "Paths of length k = 1\t\t31765.0 [ 31765.0 / 3841.0 / 35606.0 ]\n",
      "Paths of length k = 2\t\t1898.0 [ 1898.0 / 30.0 / 1928.0 ]\n",
      "Paths of length k = 3\t\t15.0 [ 15.0 / 0.0 / 15.0 ]\n",
      "\n",
      "\n"
     ]
    },
    {
     "name": "stderr",
     "output_type": "stream",
     "text": [
      "100%|█████████████████████████████████████████████████████████████████████████████████████████████████████████████████████████████████████████████████████████████████████████████████| 5/5 [00:35<00:00,  7.06s/it]\n"
     ]
    }
   ],
   "source": [
    "splits = 5\n",
    "results = []\n",
    "for s in trange(1, splits + 1):\n",
    "    # Get percentage\n",
    "    percentage = int(100 / splits * s)\n",
    "    \n",
    "    # Split dataset\n",
    "    n_edges = random_percentage_subset(edge_list, percentage, 28)\n",
    "    n_links = len(n_edges)\n",
    "    \n",
    "    # Create pathpy temporal network\n",
    "    t = create_temporal_network(n_edges)\n",
    "    \n",
    "    # Calculate paths\n",
    "    count, runtime = get_total_causal_paths(t, delta, k)\n",
    "    \n",
    "    \n",
    "    results.append((count, runtime, round(n_links / 10**3)))"
   ]
  },
  {
   "cell_type": "code",
   "execution_count": 10,
   "id": "9718d0f0",
   "metadata": {},
   "outputs": [],
   "source": [
    "_, baseline_runtimes_sec, baseline_n_links = zip(*results)"
   ]
  },
  {
   "cell_type": "markdown",
   "id": "4b7f1afc",
   "metadata": {},
   "source": [
    "## Plots"
   ]
  },
  {
   "cell_type": "code",
   "execution_count": 11,
   "id": "39274ace",
   "metadata": {},
   "outputs": [
    {
     "data": {
      "image/png": "[encoded data removed]",
      "text/plain": [
       "<Figure size 640x480 with 1 Axes>"
      ]
     },
     "metadata": {},
     "output_type": "display_data"
    }
   ],
   "source": [
    "plt.plot(paco_n_links, paco_runtimes_sec, 's--', color='blue',label=\"PaCo\")\n",
    "plt.plot(baseline_n_links, baseline_runtimes_sec, '^--', color='red',label=\"Baseline\")\n",
    "plt.xlabel(\"N [x$10^3$]\")\n",
    "plt.ylabel(\"run-time [sec]\")\n",
    "plt.grid(True)\n",
    "plt.legend()\n",
    "plt.savefig('plots/socbitcoin_left_panel.png')\n",
    "plt.show()"
   ]
  }
 ],
 "metadata": {
  "kernelspec": {
   "display_name": "Python 3 (ipykernel)",
   "language": "python",
   "name": "python3"
  },
  "language_info": {
   "codemirror_mode": {
    "name": "ipython",
    "version": 3
   },
   "file_extension": ".py",
   "mimetype": "text/x-python",
   "name": "python",
   "nbconvert_exporter": "python",
   "pygments_lexer": "ipython3",
   "version": "3.10.13"
  }
 },
 "nbformat": 4,
 "nbformat_minor": 5
}
