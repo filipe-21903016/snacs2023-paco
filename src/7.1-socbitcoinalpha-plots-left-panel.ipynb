{
 "cells": [
  {
   "cell_type": "code",
   "execution_count": 1,
   "id": "d61036d6",
   "metadata": {},
   "outputs": [],
   "source": [
    "from main import load_edgelist\n",
    "from typing import List, Dict\n",
    "from paco import TimeStampedLinkList, paco\n",
    "from time import time\n",
    "from tqdm import tqdm, trange\n",
    "import matplotlib.pyplot as plt\n",
    "from baseline import create_temporal_network, get_total_causal_paths\n",
    "import random\n",
    "import pandas as pd"
   ]
  },
  {
   "cell_type": "code",
   "execution_count": 2,
   "id": "6a31e886",
   "metadata": {},
   "outputs": [],
   "source": [
    "dataset = pd.read_csv('soc-sign-bitcoinalpha.csv', header=None)\n",
    "dataset.columns = ['source', 'target', 'rating', 'timestamp']\n",
    "edge_list = [(int(row['source']), int(row['target']), int(row['timestamp'])) for _, row in dataset.iterrows()]"
   ]
  },
  {
   "cell_type": "code",
   "execution_count": 3,
   "id": "69d78f9f",
   "metadata": {},
   "outputs": [],
   "source": [
    "delta = 30\n",
    "k = 4"
   ]
  },
  {
   "cell_type": "code",
   "execution_count": 4,
   "id": "b623a4c9",
   "metadata": {},
   "outputs": [],
   "source": [
    "data = TimeStampedLinkList.from_edgelist(edge_list)"
   ]
  },
  {
   "cell_type": "code",
   "execution_count": 5,
   "id": "92b1829d",
   "metadata": {},
   "outputs": [],
   "source": [
    "def random_percentage_subset(input_list, percentage, seed=None):\n",
    "    if not 0 <= percentage <= 100:\n",
    "        raise ValueError(\"Percentage must be between 0 and 100.\")\n",
    "\n",
    "    # Set the seed for reproducibility\n",
    "    random.seed(seed)\n",
    "\n",
    "    # Calculate the number of elements to include\n",
    "    num_elements = int(len(input_list) * (percentage / 100))\n",
    "\n",
    "    # Randomly select elements\n",
    "    subset = random.sample(input_list, num_elements)\n",
    "\n",
    "    return subset"
   ]
  },
  {
   "cell_type": "markdown",
   "id": "e4a76415",
   "metadata": {},
   "source": [
    "## PaCo"
   ]
  },
  {
   "cell_type": "code",
   "execution_count": 6,
   "id": "8290e5bc",
   "metadata": {},
   "outputs": [],
   "source": [
    "def execute_paco(data, delta, k):     \n",
    "    start = time()\n",
    "    C = paco(data, delta, k)\n",
    "    end = time()\n",
    "    count = sum(C.values())\n",
    "    return count, end-start"
   ]
  },
  {
   "cell_type": "code",
   "execution_count": 7,
   "id": "cbb5fe78",
   "metadata": {},
   "outputs": [
    {
     "name": "stderr",
     "output_type": "stream",
     "text": [
      "100%|█████████████████████████████████████████████████████████████████████████████████████████████████████████████████████████████████████████████████████████████████████████████████| 5/5 [00:00<00:00, 13.19it/s]\n"
     ]
    }
   ],
   "source": [
    "splits = 5\n",
    "results = []\n",
    "for s in trange(1, splits + 1):\n",
    "    # Get percentage\n",
    "    percentage = int(100 / splits * s)\n",
    "    # Split dataset\n",
    "    n_edges = random_percentage_subset(edge_list, percentage, 28)\n",
    "    n_links = len(n_edges)\n",
    "    data = TimeStampedLinkList.from_edgelist(n_edges)\n",
    "    count, runtime = execute_paco(data, delta, k)\n",
    "    results.append((count, runtime, round(n_links / 10**3)))"
   ]
  },
  {
   "cell_type": "code",
   "execution_count": 8,
   "id": "4fae4620",
   "metadata": {},
   "outputs": [],
   "source": [
    "_, paco_runtimes_sec, paco_n_links = zip(*results)"
   ]
  },
  {
   "cell_type": "markdown",
   "id": "b7b8eb28",
   "metadata": {},
   "source": [
    "## Baseline"
   ]
  },
  {
   "cell_type": "code",
   "execution_count": 9,
   "id": "d9f2c9f9",
   "metadata": {
    "scrolled": true
   },
   "outputs": [
    {
     "name": "stderr",
     "output_type": "stream",
     "text": [
      "  0%|                                                                                                                                                                                         | 0/5 [00:00<?, ?it/s]\n",
      "100%|███████████████████████████████████████████████████████████████████████████████████████████████████████████████████████████████████████████████████████████████████████| 4837/4837 [00:00<00:00, 123472.25it/s]\u001b[A"
     ]
    },
    {
     "name": "stdout",
     "output_type": "stream",
     "text": [
      "2023-12-18 00:04:33 [Severity.INFO]\tConstructing time-unfolded DAG ...\n"
     ]
    },
    {
     "name": "stderr",
     "output_type": "stream",
     "text": [
      "\n"
     ]
    },
    {
     "name": "stdout",
     "output_type": "stream",
     "text": [
      "2023-12-18 00:04:34 [Severity.INFO]\tfinished.\n",
      "Directed Acyclic Graph\n",
      "Nodes:\t\t142397\n",
      "Roots:\t\t4487\n",
      "Leaves:\t\t137910\n",
      "Links:\t\t145110\n",
      "Acyclic:\tNone\n",
      "\n",
      "2023-12-18 00:04:34 [Severity.INFO]\tGenerating causal trees for 4487 root nodes ...\n",
      "2023-12-18 00:04:34 [Severity.INFO]\tfinished.\n"
     ]
    },
    {
     "name": "stderr",
     "output_type": "stream",
     "text": [
      "\r",
      " 20%|███████████████████████████████████▍                                                                                                                                             | 1/5 [00:01<00:05,  1.45s/it]"
     ]
    },
    {
     "name": "stdout",
     "output_type": "stream",
     "text": [
      "Number of causal paths: Total path count: \t\t4837.0 \n",
      "[Unique / Sub paths / Total]: \t[4837.0 / 9674.0 / 14511.0]\n",
      "Nodes:\t\t\t\t2261 \n",
      "Edges:\t\t\t\t4837\n",
      "Max. path length:\t\t1\n",
      "Avg path length:\t\t1.0 \n",
      "Paths of length k = 0\t\t0.0 [ 0.0 / 9674.0 / 9674.0 ]\n",
      "Paths of length k = 1\t\t4837.0 [ 4837.0 / 0.0 / 4837.0 ]\n",
      "\n",
      "\n"
     ]
    },
    {
     "name": "stderr",
     "output_type": "stream",
     "text": [
      "\n",
      "100%|████████████████████████████████████████████████████████████████████████████████████████████████████████████████████████████████████████████████████████████████████████| 9674/9674 [00:00<00:00, 99734.04it/s]\u001b[A"
     ]
    },
    {
     "name": "stdout",
     "output_type": "stream",
     "text": [
      "2023-12-18 00:04:34 [Severity.INFO]\tConstructing time-unfolded DAG ...\n"
     ]
    },
    {
     "name": "stderr",
     "output_type": "stream",
     "text": [
      "\n"
     ]
    },
    {
     "name": "stdout",
     "output_type": "stream",
     "text": [
      "2023-12-18 00:04:37 [Severity.INFO]\tfinished.\n",
      "Directed Acyclic Graph\n",
      "Nodes:\t\t273188\n",
      "Roots:\t\t8498\n",
      "Leaves:\t\t264690\n",
      "Links:\t\t290220\n",
      "Acyclic:\tNone\n",
      "\n",
      "2023-12-18 00:04:37 [Severity.INFO]\tGenerating causal trees for 8498 root nodes ...\n",
      "2023-12-18 00:04:37 [Severity.INFO]\tfinished.\n"
     ]
    },
    {
     "name": "stderr",
     "output_type": "stream",
     "text": [
      "\r",
      " 40%|██████████████████████████████████████████████████████████████████████▊                                                                                                          | 2/5 [00:04<00:07,  2.34s/it]"
     ]
    },
    {
     "name": "stdout",
     "output_type": "stream",
     "text": [
      "Number of causal paths: Total path count: \t\t9674.0 \n",
      "[Unique / Sub paths / Total]: \t[9674.0 / 19348.0 / 29022.0]\n",
      "Nodes:\t\t\t\t3014 \n",
      "Edges:\t\t\t\t9674\n",
      "Max. path length:\t\t1\n",
      "Avg path length:\t\t1.0 \n",
      "Paths of length k = 0\t\t0.0 [ 0.0 / 19348.0 / 19348.0 ]\n",
      "Paths of length k = 1\t\t9674.0 [ 9674.0 / 0.0 / 9674.0 ]\n",
      "\n",
      "\n"
     ]
    },
    {
     "name": "stderr",
     "output_type": "stream",
     "text": [
      "\n",
      "  0%|                                                                                                                                                                                     | 0/14511 [00:00<?, ?it/s]\u001b[A\n",
      "100%|█████████████████████████████████████████████████████████████████████████████████████████████████████████████████████████████████████████████████████████████████████| 14511/14511 [00:00<00:00, 105076.83it/s]\u001b[A"
     ]
    },
    {
     "name": "stdout",
     "output_type": "stream",
     "text": [
      "2023-12-18 00:04:37 [Severity.INFO]\tConstructing time-unfolded DAG ...\n"
     ]
    },
    {
     "name": "stderr",
     "output_type": "stream",
     "text": [
      "\n"
     ]
    },
    {
     "name": "stdout",
     "output_type": "stream",
     "text": [
      "2023-12-18 00:04:41 [Severity.INFO]\tfinished.\n",
      "Directed Acyclic Graph\n",
      "Nodes:\t\t396085\n",
      "Roots:\t\t12115\n",
      "Leaves:\t\t383970\n",
      "Links:\t\t435330\n",
      "Acyclic:\tNone\n",
      "\n",
      "2023-12-18 00:04:41 [Severity.INFO]\tGenerating causal trees for 12115 root nodes ...\n",
      "2023-12-18 00:04:41 [Severity.INFO]\tAnalyzing tree 2423/12115 ...\n",
      "2023-12-18 00:04:41 [Severity.INFO]\tAnalyzing tree 4846/12115 ...\n",
      "2023-12-18 00:04:41 [Severity.INFO]\tAnalyzing tree 7269/12115 ...\n",
      "2023-12-18 00:04:42 [Severity.INFO]\tAnalyzing tree 9692/12115 ...\n",
      "2023-12-18 00:04:42 [Severity.INFO]\tAnalyzing tree 12115/12115 ...\n",
      "2023-12-18 00:04:42 [Severity.INFO]\tfinished.\n"
     ]
    },
    {
     "name": "stderr",
     "output_type": "stream",
     "text": [
      "\r",
      " 60%|██████████████████████████████████████████████████████████████████████████████████████████████████████████▏                                                                      | 3/5 [00:09<00:06,  3.38s/it]"
     ]
    },
    {
     "name": "stdout",
     "output_type": "stream",
     "text": [
      "Number of causal paths: Total path count: \t\t14511.0 \n",
      "[Unique / Sub paths / Total]: \t[14511.0 / 29022.0 / 43533.0]\n",
      "Nodes:\t\t\t\t3429 \n",
      "Edges:\t\t\t\t14511\n",
      "Max. path length:\t\t1\n",
      "Avg path length:\t\t1.0 \n",
      "Paths of length k = 0\t\t0.0 [ 0.0 / 29022.0 / 29022.0 ]\n",
      "Paths of length k = 1\t\t14511.0 [ 14511.0 / 0.0 / 14511.0 ]\n",
      "\n",
      "\n"
     ]
    },
    {
     "name": "stderr",
     "output_type": "stream",
     "text": [
      "\n",
      "  0%|                                                                                                                                                                                     | 0/19348 [00:00<?, ?it/s]\u001b[A\n",
      "100%|██████████████████████████████████████████████████████████████████████████████████████████████████████████████████████████████████████████████████████████████████████| 19348/19348 [00:00<00:00, 87327.08it/s]\u001b[A"
     ]
    },
    {
     "name": "stdout",
     "output_type": "stream",
     "text": [
      "2023-12-18 00:04:42 [Severity.INFO]\tConstructing time-unfolded DAG ...\n"
     ]
    },
    {
     "name": "stderr",
     "output_type": "stream",
     "text": [
      "\n"
     ]
    },
    {
     "name": "stdout",
     "output_type": "stream",
     "text": [
      "2023-12-18 00:04:47 [Severity.INFO]\tfinished.\n",
      "Directed Acyclic Graph\n",
      "Nodes:\t\t510680\n",
      "Roots:\t\t15470\n",
      "Leaves:\t\t495210\n",
      "Links:\t\t580440\n",
      "Acyclic:\tNone\n",
      "\n",
      "2023-12-18 00:04:47 [Severity.INFO]\tGenerating causal trees for 15470 root nodes ...\n",
      "2023-12-18 00:04:47 [Severity.INFO]\tAnalyzing tree 1547/15470 ...\n",
      "2023-12-18 00:04:47 [Severity.INFO]\tAnalyzing tree 3094/15470 ...\n",
      "2023-12-18 00:04:47 [Severity.INFO]\tAnalyzing tree 4641/15470 ...\n",
      "2023-12-18 00:04:47 [Severity.INFO]\tAnalyzing tree 6188/15470 ...\n",
      "2023-12-18 00:04:47 [Severity.INFO]\tAnalyzing tree 7735/15470 ...\n",
      "2023-12-18 00:04:47 [Severity.INFO]\tAnalyzing tree 9282/15470 ...\n",
      "2023-12-18 00:04:47 [Severity.INFO]\tAnalyzing tree 10829/15470 ...\n",
      "2023-12-18 00:04:48 [Severity.INFO]\tAnalyzing tree 12376/15470 ...\n",
      "2023-12-18 00:04:48 [Severity.INFO]\tAnalyzing tree 13923/15470 ...\n",
      "2023-12-18 00:04:48 [Severity.INFO]\tAnalyzing tree 15470/15470 ...\n",
      "2023-12-18 00:04:48 [Severity.INFO]\tfinished.\n"
     ]
    },
    {
     "name": "stderr",
     "output_type": "stream",
     "text": [
      "\r",
      " 80%|█████████████████████████████████████████████████████████████████████████████████████████████████████████████████████████████████████████████▌                                   | 4/5 [00:15<00:04,  4.48s/it]"
     ]
    },
    {
     "name": "stdout",
     "output_type": "stream",
     "text": [
      "Number of causal paths: Total path count: \t\t19348.0 \n",
      "[Unique / Sub paths / Total]: \t[19348.0 / 38696.0 / 58044.0]\n",
      "Nodes:\t\t\t\t3653 \n",
      "Edges:\t\t\t\t19348\n",
      "Max. path length:\t\t1\n",
      "Avg path length:\t\t1.0 \n",
      "Paths of length k = 0\t\t0.0 [ 0.0 / 38696.0 / 38696.0 ]\n",
      "Paths of length k = 1\t\t19348.0 [ 19348.0 / 0.0 / 19348.0 ]\n",
      "\n",
      "\n"
     ]
    },
    {
     "name": "stderr",
     "output_type": "stream",
     "text": [
      "\n",
      "  0%|                                                                                                                                                                                     | 0/24186 [00:00<?, ?it/s]\u001b[A\n",
      " 29%|████████████████████████████████████████████████▎                                                                                                                      | 6990/24186 [00:00<00:00, 69887.40it/s]\u001b[A\n",
      "100%|██████████████████████████████████████████████████████████████████████████████████████████████████████████████████████████████████████████████████████████████████████| 24186/24186 [00:00<00:00, 82966.54it/s]\u001b[A"
     ]
    },
    {
     "name": "stdout",
     "output_type": "stream",
     "text": [
      "2023-12-18 00:04:48 [Severity.INFO]\tConstructing time-unfolded DAG ...\n"
     ]
    },
    {
     "name": "stderr",
     "output_type": "stream",
     "text": [
      "\n"
     ]
    },
    {
     "name": "stdout",
     "output_type": "stream",
     "text": [
      "2023-12-18 00:04:55 [Severity.INFO]\tfinished.\n",
      "Directed Acyclic Graph\n",
      "Nodes:\t\t619334\n",
      "Roots:\t\t18584\n",
      "Leaves:\t\t600750\n",
      "Links:\t\t725580\n",
      "Acyclic:\tNone\n",
      "\n",
      "2023-12-18 00:04:55 [Severity.INFO]\tGenerating causal trees for 18584 root nodes ...\n",
      "2023-12-18 00:04:56 [Severity.INFO]\tfinished.\n",
      "Number of causal paths: Total path count: \t\t24186.0 \n",
      "[Unique / Sub paths / Total]: \t[24186.0 / 48372.0 / 72558.0]\n",
      "Nodes:\t\t\t\t3783 \n",
      "Edges:\t\t\t\t24186\n",
      "Max. path length:\t\t1\n",
      "Avg path length:\t\t1.0 \n",
      "Paths of length k = 0\t\t0.0 [ 0.0 / 48372.0 / 48372.0 ]\n",
      "Paths of length k = 1\t\t24186.0 [ 24186.0 / 0.0 / 24186.0 ]\n",
      "\n",
      "\n"
     ]
    },
    {
     "name": "stderr",
     "output_type": "stream",
     "text": [
      "100%|█████████████████████████████████████████████████████████████████████████████████████████████████████████████████████████████████████████████████████████████████████████████████| 5/5 [00:23<00:00,  4.73s/it]\n"
     ]
    }
   ],
   "source": [
    "splits = 5\n",
    "results = []\n",
    "for s in trange(1, splits + 1):\n",
    "    # Get percentage\n",
    "    percentage = int(100 / splits * s)\n",
    "    \n",
    "    # Split dataset\n",
    "    n_edges = random_percentage_subset(edge_list, percentage, 28)\n",
    "    n_links = len(n_edges)\n",
    "    \n",
    "    # Create pathpy temporal network\n",
    "    t = create_temporal_network(n_edges)\n",
    "    \n",
    "    # Calculate paths\n",
    "    count, runtime = get_total_causal_paths(t, delta, k)\n",
    "    \n",
    "    \n",
    "    results.append((count, runtime, round(n_links / 10**3)))"
   ]
  },
  {
   "cell_type": "code",
   "execution_count": 10,
   "id": "9718d0f0",
   "metadata": {},
   "outputs": [],
   "source": [
    "_, baseline_runtimes_sec, baseline_n_links = zip(*results)"
   ]
  },
  {
   "cell_type": "markdown",
   "id": "4b7f1afc",
   "metadata": {},
   "source": [
    "## Plots"
   ]
  },
  {
   "cell_type": "code",
   "execution_count": 11,
   "id": "39274ace",
   "metadata": {},
   "outputs": [
    {
     "data": {
      "image/png": "[encoded data removed]",
      "text/plain": [
       "<Figure size 640x480 with 1 Axes>"
      ]
     },
     "metadata": {},
     "output_type": "display_data"
    }
   ],
   "source": [
    "plt.plot(paco_n_links, paco_runtimes_sec, 's--', color='blue',label=\"PaCo\")\n",
    "plt.plot(baseline_n_links, baseline_runtimes_sec, '^--', color='red',label=\"Baseline\")\n",
    "plt.xlabel(\"N [x$10^3$]\")\n",
    "plt.ylabel(\"run-time [sec]\")\n",
    "plt.grid(True)\n",
    "plt.legend()\n",
    "plt.savefig('plots/socbitcoinalpha_left_panel.png')\n",
    "plt.show()"
   ]
  }
 ],
 "metadata": {
  "kernelspec": {
   "display_name": "Python 3 (ipykernel)",
   "language": "python",
   "name": "python3"
  },
  "language_info": {
   "codemirror_mode": {
    "name": "ipython",
    "version": 3
   },
   "file_extension": ".py",
   "mimetype": "text/x-python",
   "name": "python",
   "nbconvert_exporter": "python",
   "pygments_lexer": "ipython3",
   "version": "3.10.13"
  }
 },
 "nbformat": 4,
 "nbformat_minor": 5
}
