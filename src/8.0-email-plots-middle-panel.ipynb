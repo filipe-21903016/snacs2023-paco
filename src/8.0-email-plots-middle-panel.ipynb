{
 "cells": [
  {
   "cell_type": "code",
   "execution_count": 1,
   "id": "d61036d6",
   "metadata": {},
   "outputs": [],
   "source": [
    "from main import load_edgelist\n",
    "from typing import List, Dict\n",
    "from paco import TimeStampedLinkList, paco\n",
    "from time import time\n",
    "from tqdm import tqdm\n",
    "import matplotlib.pyplot as plt\n",
    "from baseline import create_temporal_network, get_total_causal_paths\n",
    "import pandas as pd"
   ]
  },
  {
   "cell_type": "code",
   "execution_count": 2,
   "id": "eab5d1b0",
   "metadata": {},
   "outputs": [],
   "source": [
    "dataset = pd.read_csv('email-Eu-core-temporal.txt', delimiter=' ', header=None)\n",
    "dataset.columns = ['source', 'target', 'timestamp']\n",
    "edge_list = [(row['source'], row['target'], int(row['timestamp'])) for _, row in dataset.iterrows()]"
   ]
  },
  {
   "cell_type": "code",
   "execution_count": 3,
   "id": "69d78f9f",
   "metadata": {},
   "outputs": [],
   "source": [
    "data = TimeStampedLinkList.from_edgelist(edge_list)"
   ]
  },
  {
   "cell_type": "code",
   "execution_count": 4,
   "id": "269cd382",
   "metadata": {},
   "outputs": [],
   "source": [
    "# delta, K\n",
    "fixed_k_config = [\n",
    "    (1, 3),\n",
    "    (2, 3),\n",
    "    (3, 3),\n",
    "    (5, 3),\n",
    "    (10, 3),\n",
    "    (15, 3)\n",
    "]"
   ]
  },
  {
   "cell_type": "markdown",
   "id": "5d728d8a",
   "metadata": {},
   "source": [
    "## PaCo"
   ]
  },
  {
   "cell_type": "code",
   "execution_count": 5,
   "id": "5e62b757",
   "metadata": {},
   "outputs": [],
   "source": [
    "def execute_paco(delta, k):\n",
    "    start = time()\n",
    "    C = paco(data, delta, k)\n",
    "    end = time()\n",
    "    \n",
    "    count = sum(C.values())\n",
    "    return count, end-start"
   ]
  },
  {
   "cell_type": "code",
   "execution_count": 6,
   "id": "b3527ef2",
   "metadata": {},
   "outputs": [
    {
     "name": "stderr",
     "output_type": "stream",
     "text": [
      "100%|█████████████████████████████████████████████████████████████████████████████████████████████████████████████████████████████████████████████████████████████████████████████████| 6/6 [00:04<00:00,  1.40it/s]\n"
     ]
    }
   ],
   "source": [
    "results = []\n",
    "for delta_sec, k in tqdm(fixed_k_config):\n",
    "    result = execute_paco(delta_sec, k)\n",
    "    results.append(result)"
   ]
  },
  {
   "cell_type": "code",
   "execution_count": 7,
   "id": "bca8fb2f",
   "metadata": {},
   "outputs": [],
   "source": [
    "#runtimes_min = [runtime_sec / 60 for _, runtime_sec in results]\n",
    "#deltas_min = [delta_sec / 60 for delta_sec, _ in fixed_k_config]\n",
    "_, paco_runtimes_sec = zip(*results)\n",
    "paco_deltas_sec, _ = zip(*fixed_k_config)"
   ]
  },
  {
   "cell_type": "markdown",
   "id": "b52791d9",
   "metadata": {},
   "source": [
    "## Baseline"
   ]
  },
  {
   "cell_type": "code",
   "execution_count": 8,
   "id": "f01fae16",
   "metadata": {},
   "outputs": [
    {
     "name": "stderr",
     "output_type": "stream",
     "text": [
      "100%|████████████████████████████████████████████████████████████████████████████████████████████████████████████████████████████████████████████████████████████████████| 332334/332334 [00:04<00:00, 75956.69it/s]\n"
     ]
    }
   ],
   "source": [
    "t = create_temporal_network(edge_list)"
   ]
  },
  {
   "cell_type": "code",
   "execution_count": 9,
   "id": "653c0dcb",
   "metadata": {},
   "outputs": [
    {
     "name": "stderr",
     "output_type": "stream",
     "text": [
      "\r",
      "  0%|                                                                                                                                                                                         | 0/6 [00:00<?, ?it/s]"
     ]
    },
    {
     "name": "stdout",
     "output_type": "stream",
     "text": [
      "2023-12-18 00:26:42 [Severity.INFO]\tConstructing time-unfolded DAG ...\n",
      "2023-12-18 00:26:44 [Severity.INFO]\tfinished.\n",
      "Directed Acyclic Graph\n",
      "Nodes:\t\t536793\n",
      "Roots:\t\t209479\n",
      "Leaves:\t\t327285\n",
      "Links:\t\t327336\n",
      "Acyclic:\tNone\n",
      "\n",
      "2023-12-18 00:26:44 [Severity.INFO]\tGenerating causal trees for 209479 root nodes ...\n",
      "2023-12-18 00:26:50 [Severity.INFO]\tfinished.\n"
     ]
    },
    {
     "name": "stderr",
     "output_type": "stream",
     "text": [
      "\r",
      " 17%|█████████████████████████████▌                                                                                                                                                   | 1/6 [00:08<00:42,  8.57s/it]"
     ]
    },
    {
     "name": "stdout",
     "output_type": "stream",
     "text": [
      "Number of causal paths: Total path count: \t\t327307.0 \n",
      "[Unique / Sub paths / Total]: \t[24961.0 / 654722.0 / 982029.0]\n",
      "Nodes:\t\t\t\t986 \n",
      "Edges:\t\t\t\t24929\n",
      "Max. path length:\t\t2\n",
      "Avg path length:\t\t1.0001099884817617 \n",
      "Paths of length k = 0\t\t0.0 [ 0.0 / 654650.0 / 654650.0 ]\n",
      "Paths of length k = 1\t\t327271.0 [ 24926.0 / 72.0 / 327343.0 ]\n",
      "Paths of length k = 2\t\t36.0 [ 35.0 / 0.0 / 36.0 ]\n",
      "\n",
      "\n",
      "2023-12-18 00:26:50 [Severity.INFO]\tConstructing time-unfolded DAG ...\n",
      "2023-12-18 00:26:55 [Severity.INFO]\tfinished.\n",
      "Directed Acyclic Graph\n",
      "Nodes:\t\t863284\n",
      "Roots:\t\t209448\n",
      "Leaves:\t\t653776\n",
      "Links:\t\t654672\n",
      "Acyclic:\tNone\n",
      "\n",
      "2023-12-18 00:26:55 [Severity.INFO]\tGenerating causal trees for 209448 root nodes ...\n",
      "2023-12-18 00:27:01 [Severity.INFO]\tfinished.\n",
      "Number of causal paths: Total path count: \t\t327276.0 \n",
      "[Unique / Sub paths / Total]: \t[24992.0 / 654783.0 / 982059.0]\n",
      "Nodes:\t\t\t\t986 \n",
      "Edges:\t\t\t\t24929\n",
      "Max. path length:\t\t5\n",
      "Avg path length:\t\t1.000229164375023 \n",
      "Paths of length k = 0\t\t0.0 [ 0.0 / 654627.0 / 654627.0 ]\n",
      "Paths of length k = 1\t\t327204.0 [ 24924.0 / 147.0 / 327351.0 ]\n",
      "Paths of length k = 2\t\t71.0 [ 67.0 / 4.0 / 75.0 ]\n",
      "Paths of length k = 3\t\t0.0 [ 0.0 / 3.0 / 3.0 ]\n",
      "Paths of length k = 4\t\t0.0 [ 0.0 / 2.0 / 2.0 ]\n",
      "Paths of length k = 5\t\t1.0 [ 1.0 / 0.0 / 1.0 ]\n",
      "\n",
      "\n"
     ]
    },
    {
     "name": "stderr",
     "output_type": "stream",
     "text": [
      "\r",
      " 33%|███████████████████████████████████████████████████████████                                                                                                                      | 2/6 [00:19<00:39,  9.83s/it]"
     ]
    },
    {
     "name": "stdout",
     "output_type": "stream",
     "text": [
      "2023-12-18 00:27:01 [Severity.INFO]\tConstructing time-unfolded DAG ...\n",
      "2023-12-18 00:27:09 [Severity.INFO]\tfinished.\n",
      "Directed Acyclic Graph\n",
      "Nodes:\t\t1189405\n",
      "Roots:\t\t209424\n",
      "Leaves:\t\t979897\n",
      "Links:\t\t982008\n",
      "Acyclic:\tNone\n",
      "\n",
      "2023-12-18 00:27:09 [Severity.INFO]\tGenerating causal trees for 209424 root nodes ...\n",
      "2023-12-18 00:27:15 [Severity.INFO]\tfinished.\n"
     ]
    },
    {
     "name": "stderr",
     "output_type": "stream",
     "text": [
      "\r",
      " 50%|████████████████████████████████████████████████████████████████████████████████████████▌                                                                                        | 3/6 [00:33<00:35, 11.91s/it]"
     ]
    },
    {
     "name": "stdout",
     "output_type": "stream",
     "text": [
      "Number of causal paths: Total path count: \t\t327252.0 \n",
      "[Unique / Sub paths / Total]: \t[25012.0 / 654813.0 / 982065.0]\n",
      "Nodes:\t\t\t\t986 \n",
      "Edges:\t\t\t\t24929\n",
      "Max. path length:\t\t5\n",
      "Avg path length:\t\t1.0003086306577194 \n",
      "Paths of length k = 0\t\t0.0 [ 0.0 / 654605.0 / 654605.0 ]\n",
      "Paths of length k = 1\t\t327154.0 [ 24923.0 / 199.0 / 327353.0 ]\n",
      "Paths of length k = 2\t\t97.0 [ 88.0 / 4.0 / 101.0 ]\n",
      "Paths of length k = 3\t\t0.0 [ 0.0 / 3.0 / 3.0 ]\n",
      "Paths of length k = 4\t\t0.0 [ 0.0 / 2.0 / 2.0 ]\n",
      "Paths of length k = 5\t\t1.0 [ 1.0 / 0.0 / 1.0 ]\n",
      "\n",
      "\n",
      "2023-12-18 00:27:16 [Severity.INFO]\tConstructing time-unfolded DAG ...\n",
      "2023-12-18 00:27:28 [Severity.INFO]\tfinished.\n",
      "Directed Acyclic Graph\n",
      "Nodes:\t\t1841028\n",
      "Roots:\t\t209356\n",
      "Leaves:\t\t1631520\n",
      "Links:\t\t1636680\n",
      "Acyclic:\tNone\n",
      "\n",
      "2023-12-18 00:27:28 [Severity.INFO]\tGenerating causal trees for 209356 root nodes ...\n",
      "2023-12-18 00:27:36 [Severity.INFO]\tfinished.\n"
     ]
    },
    {
     "name": "stderr",
     "output_type": "stream",
     "text": [
      "\r",
      " 67%|██████████████████████████████████████████████████████████████████████████████████████████████████████████████████████                                                           | 4/6 [00:54<00:30, 15.35s/it]"
     ]
    },
    {
     "name": "stdout",
     "output_type": "stream",
     "text": [
      "Number of causal paths: Total path count: \t\t327184.0 \n",
      "[Unique / Sub paths / Total]: \t[25119.0 / 655041.0 / 982225.0]\n",
      "Nodes:\t\t\t\t986 \n",
      "Edges:\t\t\t\t24929\n",
      "Max. path length:\t\t5\n",
      "Avg path length:\t\t1.0006785172869088 \n",
      "Paths of length k = 0\t\t0.0 [ 0.0 / 654590.0 / 654590.0 ]\n",
      "Paths of length k = 1\t\t326966.0 [ 24921.0 / 440.0 / 327406.0 ]\n",
      "Paths of length k = 2\t\t216.0 [ 196.0 / 6.0 / 222.0 ]\n",
      "Paths of length k = 3\t\t1.0 [ 1.0 / 3.0 / 4.0 ]\n",
      "Paths of length k = 4\t\t0.0 [ 0.0 / 2.0 / 2.0 ]\n",
      "Paths of length k = 5\t\t1.0 [ 1.0 / 0.0 / 1.0 ]\n",
      "\n",
      "\n",
      "2023-12-18 00:27:36 [Severity.INFO]\tConstructing time-unfolded DAG ...\n",
      "2023-12-18 00:28:07 [Severity.INFO]\tfinished.\n",
      "Directed Acyclic Graph\n",
      "Nodes:\t\t3466884\n",
      "Roots:\t\t209198\n",
      "Leaves:\t\t3257376\n",
      "Links:\t\t3273360\n",
      "Acyclic:\tNone\n",
      "\n",
      "2023-12-18 00:28:07 [Severity.INFO]\tGenerating causal trees for 209198 root nodes ...\n",
      "2023-12-18 00:28:17 [Severity.INFO]\tfinished.\n"
     ]
    },
    {
     "name": "stderr",
     "output_type": "stream",
     "text": [
      "\r",
      " 83%|███████████████████████████████████████████████████████████████████████████████████████████████████████████████████████████████████████████████████▌                             | 5/6 [01:35<00:24, 24.82s/it]"
     ]
    },
    {
     "name": "stdout",
     "output_type": "stream",
     "text": [
      "Number of causal paths: Total path count: \t\t327027.0 \n",
      "[Unique / Sub paths / Total]: \t[25319.0 / 655427.0 / 982454.0]\n",
      "Nodes:\t\t\t\t986 \n",
      "Edges:\t\t\t\t24929\n",
      "Max. path length:\t\t5\n",
      "Avg path length:\t\t1.0013882645775425 \n",
      "Paths of length k = 0\t\t0.0 [ 0.0 / 654508.0 / 654508.0 ]\n",
      "Paths of length k = 1\t\t326581.0 [ 24914.0 / 900.0 / 327481.0 ]\n",
      "Paths of length k = 2\t\t440.0 [ 401.0 / 14.0 / 454.0 ]\n",
      "Paths of length k = 3\t\t5.0 [ 3.0 / 3.0 / 8.0 ]\n",
      "Paths of length k = 4\t\t0.0 [ 0.0 / 2.0 / 2.0 ]\n",
      "Paths of length k = 5\t\t1.0 [ 1.0 / 0.0 / 1.0 ]\n",
      "\n",
      "\n",
      "2023-12-18 00:28:18 [Severity.INFO]\tConstructing time-unfolded DAG ...\n",
      "2023-12-18 00:29:09 [Severity.INFO]\tfinished.\n",
      "Directed Acyclic Graph\n",
      "Nodes:\t\t5088212\n",
      "Roots:\t\t209020\n",
      "Leaves:\t\t4878704\n",
      "Links:\t\t4910040\n",
      "Acyclic:\tNone\n",
      "\n",
      "2023-12-18 00:29:09 [Severity.INFO]\tGenerating causal trees for 209020 root nodes ...\n",
      "2023-12-18 00:29:11 [Severity.INFO]\tAnalyzing tree 20902/209020 ...\n",
      "2023-12-18 00:29:12 [Severity.INFO]\tAnalyzing tree 41804/209020 ...\n",
      "2023-12-18 00:29:13 [Severity.INFO]\tAnalyzing tree 62706/209020 ...\n",
      "2023-12-18 00:29:15 [Severity.INFO]\tAnalyzing tree 83608/209020 ...\n",
      "2023-12-18 00:29:16 [Severity.INFO]\tAnalyzing tree 104510/209020 ...\n",
      "2023-12-18 00:29:17 [Severity.INFO]\tAnalyzing tree 125412/209020 ...\n",
      "2023-12-18 00:29:18 [Severity.INFO]\tAnalyzing tree 146314/209020 ...\n",
      "2023-12-18 00:29:20 [Severity.INFO]\tAnalyzing tree 167216/209020 ...\n",
      "2023-12-18 00:29:21 [Severity.INFO]\tAnalyzing tree 188118/209020 ...\n",
      "2023-12-18 00:29:22 [Severity.INFO]\tAnalyzing tree 209020/209020 ...\n",
      "2023-12-18 00:29:22 [Severity.INFO]\tfinished.\n"
     ]
    },
    {
     "name": "stderr",
     "output_type": "stream",
     "text": [
      "100%|█████████████████████████████████████████████████████████████████████████████████████████████████████████████████████████████████████████████████████████████████████████████████| 6/6 [02:42<00:00, 27.01s/it]"
     ]
    },
    {
     "name": "stdout",
     "output_type": "stream",
     "text": [
      "Number of causal paths: Total path count: \t\t326854.0 \n",
      "[Unique / Sub paths / Total]: \t[25571.0 / 656024.0 / 982878.0]\n",
      "Nodes:\t\t\t\t986 \n",
      "Edges:\t\t\t\t24929\n",
      "Max. path length:\t\t5\n",
      "Avg path length:\t\t1.0023496729426593 \n",
      "Paths of length k = 0\t\t0.0 [ 0.0 / 654476.0 / 654476.0 ]\n",
      "Paths of length k = 1\t\t326095.0 [ 24904.0 / 1527.0 / 327622.0 ]\n",
      "Paths of length k = 2\t\t752.0 [ 663.0 / 16.0 / 768.0 ]\n",
      "Paths of length k = 3\t\t6.0 [ 3.0 / 3.0 / 9.0 ]\n",
      "Paths of length k = 4\t\t0.0 [ 0.0 / 2.0 / 2.0 ]\n",
      "Paths of length k = 5\t\t1.0 [ 1.0 / 0.0 / 1.0 ]\n",
      "\n",
      "\n"
     ]
    },
    {
     "name": "stderr",
     "output_type": "stream",
     "text": [
      "\n"
     ]
    }
   ],
   "source": [
    "results = []\n",
    "for delta_sec, k in tqdm(fixed_k_config):\n",
    "    result = get_total_causal_paths(t, delta_sec, k)\n",
    "    results.append(result)"
   ]
  },
  {
   "cell_type": "code",
   "execution_count": 10,
   "id": "750a7bd4",
   "metadata": {},
   "outputs": [],
   "source": [
    "_, baseline_runtimes_sec = zip(*results)\n",
    "baseline_deltas_sec, _ = zip(*fixed_k_config)"
   ]
  },
  {
   "cell_type": "markdown",
   "id": "cb084908",
   "metadata": {},
   "source": [
    "## Plots"
   ]
  },
  {
   "cell_type": "code",
   "execution_count": 11,
   "id": "3edbdada",
   "metadata": {},
   "outputs": [
    {
     "data": {
      "image/png": "[encoded data removed]",
      "text/plain": [
       "<Figure size 640x480 with 1 Axes>"
      ]
     },
     "metadata": {},
     "output_type": "display_data"
    }
   ],
   "source": [
    "plt.plot(paco_deltas_sec, paco_runtimes_sec, 's--', color='blue',label=\"PaCo\")\n",
    "plt.plot(baseline_deltas_sec, baseline_runtimes_sec, '^--', color='red',label=\"Baseline\")\n",
    "plt.xlabel(\"δ [sec]\")\n",
    "plt.ylabel(\"run-time [sec]\")\n",
    "plt.grid(True)\n",
    "plt.legend()\n",
    "plt.savefig('plots/email_middle_panel.png')\n",
    "plt.show()"
   ]
  }
 ],
 "metadata": {
  "kernelspec": {
   "display_name": "Python 3 (ipykernel)",
   "language": "python",
   "name": "python3"
  },
  "language_info": {
   "codemirror_mode": {
    "name": "ipython",
    "version": 3
   },
   "file_extension": ".py",
   "mimetype": "text/x-python",
   "name": "python",
   "nbconvert_exporter": "python",
   "pygments_lexer": "ipython3",
   "version": "3.10.13"
  }
 },
 "nbformat": 4,
 "nbformat_minor": 5
}
