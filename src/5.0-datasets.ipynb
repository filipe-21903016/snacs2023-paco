{
 "cells": [
  {
   "cell_type": "code",
   "execution_count": 3,
   "id": "d61036d6",
   "metadata": {},
   "outputs": [],
   "source": [
    "from main import load_edgelist\n",
    "from time import time\n",
    "from tqdm import tqdm\n",
    "import networkx as nx\n",
    "import pandas as pd"
   ]
  },
  {
   "cell_type": "code",
   "execution_count": 4,
   "id": "69d78f9f",
   "metadata": {},
   "outputs": [
    {
     "name": "stdout",
     "output_type": "stream",
     "text": [
      "Number of edges: 571927\n",
      "Number of nodes 54075\n"
     ]
    }
   ],
   "source": [
    "reddit_edges = load_edgelist() # reddit\n",
    "print(\"Number of edges:\", len(reddit_edges))\n",
    "sources, targets, _ = zip(*reddit_edges)\n",
    "print(\"Number of nodes\", len(set(sources + targets)))"
   ]
  },
  {
   "cell_type": "code",
   "execution_count": 5,
   "id": "8a177d43",
   "metadata": {},
   "outputs": [
    {
     "name": "stdout",
     "output_type": "stream",
     "text": [
      "Number of edges: 59835\n",
      "Number of nodes 1899\n"
     ]
    }
   ],
   "source": [
    "dataset = pd.read_csv('CollegeMsg.txt', delimiter=' ', header=None)\n",
    "dataset.columns = ['source', 'target', 'timestamp']\n",
    "edge_list = [(row['source'], row['target'], int(row['timestamp'])) for _, row in dataset.iterrows()]\n",
    "\n",
    "print(\"Number of edges:\", len(edge_list))\n",
    "\n",
    "sources, targets, _ = zip(*edge_list)\n",
    "print(\"Number of nodes\", len(set(sources + targets)))"
   ]
  },
  {
   "cell_type": "code",
   "execution_count": 6,
   "id": "3bc64cac",
   "metadata": {},
   "outputs": [
    {
     "name": "stdout",
     "output_type": "stream",
     "text": [
      "Number of edges: 35592\n",
      "Number of nodes 5881\n"
     ]
    }
   ],
   "source": [
    "dataset = pd.read_csv('soc-sign-bitcoinotc.csv', header=None)\n",
    "dataset.columns = ['source', 'target', 'rating', 'timestamp']\n",
    "edge_list = [(int(row['source']), int(row['target']), int(row['timestamp'])) for _, row in dataset.iterrows()]\n",
    "\n",
    "print(\"Number of edges:\", len(edge_list))\n",
    "\n",
    "sources, targets, _ = zip(*edge_list)\n",
    "print(\"Number of nodes\", len(set(sources + targets)))"
   ]
  },
  {
   "cell_type": "code",
   "execution_count": 7,
   "id": "550336c4",
   "metadata": {},
   "outputs": [
    {
     "name": "stdout",
     "output_type": "stream",
     "text": [
      "Number of edges: 24186\n",
      "Number of nodes 3783\n"
     ]
    }
   ],
   "source": [
    "dataset = pd.read_csv('soc-sign-bitcoinalpha.csv', header=None)\n",
    "dataset.columns = ['source', 'target', 'rating', 'timestamp']\n",
    "edge_list = [(int(row['source']), int(row['target']), int(row['timestamp'])) for _, row in dataset.iterrows()]\n",
    "\n",
    "print(\"Number of edges:\", len(edge_list))\n",
    "\n",
    "sources, targets, _ = zip(*edge_list)\n",
    "print(\"Number of nodes\", len(set(sources + targets)))"
   ]
  },
  {
   "cell_type": "code",
   "execution_count": 8,
   "id": "1dc6400e",
   "metadata": {},
   "outputs": [
    {
     "name": "stdout",
     "output_type": "stream",
     "text": [
      "Number of edges: 332334\n",
      "Number of nodes 986\n"
     ]
    }
   ],
   "source": [
    "dataset = pd.read_csv('email-Eu-core-temporal.txt', delimiter=' ', header=None)\n",
    "dataset.columns = ['source', 'target', 'timestamp']\n",
    "edge_list = [(row['source'], row['target'], int(row['timestamp'])) for _, row in dataset.iterrows()]\n",
    "\n",
    "print(\"Number of edges:\", len(edge_list))\n",
    "\n",
    "sources, targets, _ = zip(*edge_list)\n",
    "print(\"Number of nodes\", len(set(sources + targets)))"
   ]
  }
 ],
 "metadata": {
  "kernelspec": {
   "display_name": "Python 3 (ipykernel)",
   "language": "python",
   "name": "python3"
  },
  "language_info": {
   "codemirror_mode": {
    "name": "ipython",
    "version": 3
   },
   "file_extension": ".py",
   "mimetype": "text/x-python",
   "name": "python",
   "nbconvert_exporter": "python",
   "pygments_lexer": "ipython3",
   "version": "3.10.13"
  }
 },
 "nbformat": 4,
 "nbformat_minor": 5
}
