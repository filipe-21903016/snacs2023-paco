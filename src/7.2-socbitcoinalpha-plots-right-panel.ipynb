{
 "cells": [
  {
   "cell_type": "code",
   "execution_count": 1,
   "id": "d61036d6",
   "metadata": {},
   "outputs": [],
   "source": [
    "from main import load_edgelist\n",
    "from typing import List, Dict\n",
    "from paco import TimeStampedLinkList, paco\n",
    "from time import time\n",
    "from tqdm import tqdm, trange\n",
    "import matplotlib.pyplot as plt\n",
    "from baseline import create_temporal_network, get_total_causal_paths\n",
    "import pandas as pd"
   ]
  },
  {
   "cell_type": "code",
   "execution_count": 2,
   "id": "9798c01b",
   "metadata": {},
   "outputs": [],
   "source": [
    "dataset = pd.read_csv('soc-sign-bitcoinalpha.csv', header=None)\n",
    "dataset.columns = ['source', 'target', 'rating', 'timestamp']\n",
    "edge_list = [(int(row['source']), int(row['target']), int(row['timestamp'])) for _, row in dataset.iterrows()]"
   ]
  },
  {
   "cell_type": "code",
   "execution_count": 3,
   "id": "69d78f9f",
   "metadata": {},
   "outputs": [],
   "source": [
    "data = TimeStampedLinkList.from_edgelist(edge_list)"
   ]
  },
  {
   "cell_type": "code",
   "execution_count": 4,
   "id": "269cd382",
   "metadata": {},
   "outputs": [],
   "source": [
    "delta = 30 #seconds"
   ]
  },
  {
   "cell_type": "markdown",
   "id": "5d728d8a",
   "metadata": {},
   "source": [
    "## PaCo"
   ]
  },
  {
   "cell_type": "code",
   "execution_count": 5,
   "id": "5e62b757",
   "metadata": {},
   "outputs": [],
   "source": [
    "def execute_paco(delta, k):\n",
    "    start = time()\n",
    "    C = paco(data, delta, k)\n",
    "    end = time()\n",
    "    \n",
    "    count = sum(C.values())\n",
    "    return count, end-start"
   ]
  },
  {
   "cell_type": "code",
   "execution_count": 6,
   "id": "b3527ef2",
   "metadata": {},
   "outputs": [
    {
     "name": "stderr",
     "output_type": "stream",
     "text": [
      "100%|█████████████████████████████████████████████████████████████████████████████████████████████████████████████████████████████████████████████████████████████████████████████████| 5/5 [00:00<00:00,  9.73it/s]\n"
     ]
    }
   ],
   "source": [
    "results = []\n",
    "for k in trange(1, 6):\n",
    "    count, runtime = execute_paco(delta, k)\n",
    "    results.append((count, runtime, k))"
   ]
  },
  {
   "cell_type": "code",
   "execution_count": 7,
   "id": "bca8fb2f",
   "metadata": {},
   "outputs": [],
   "source": [
    "_, paco_runtimes_sec, paco_k = zip(*results)"
   ]
  },
  {
   "cell_type": "markdown",
   "id": "b52791d9",
   "metadata": {},
   "source": [
    "## Baseline"
   ]
  },
  {
   "cell_type": "code",
   "execution_count": 8,
   "id": "f01fae16",
   "metadata": {},
   "outputs": [
    {
     "name": "stderr",
     "output_type": "stream",
     "text": [
      "100%|██████████████████████████████████████████████████████████████████████████████████████████████████████████████████████████████████████████████████████████████████████| 24186/24186 [00:00<00:00, 69158.37it/s]\n"
     ]
    }
   ],
   "source": [
    "t = create_temporal_network(edge_list)"
   ]
  },
  {
   "cell_type": "code",
   "execution_count": 9,
   "id": "653c0dcb",
   "metadata": {},
   "outputs": [
    {
     "name": "stderr",
     "output_type": "stream",
     "text": [
      "\r",
      "  0%|                                                                                                                                                                                         | 0/5 [00:00<?, ?it/s]"
     ]
    },
    {
     "name": "stdout",
     "output_type": "stream",
     "text": [
      "2023-12-18 00:04:49 [Severity.INFO]\tConstructing time-unfolded DAG ...\n",
      "2023-12-18 00:04:56 [Severity.INFO]\tfinished.\n",
      "Directed Acyclic Graph\n",
      "Nodes:\t\t619334\n",
      "Roots:\t\t18584\n",
      "Leaves:\t\t600750\n",
      "Links:\t\t725580\n",
      "Acyclic:\tNone\n",
      "\n",
      "2023-12-18 00:04:56 [Severity.INFO]\tGenerating causal trees for 18584 root nodes ...\n",
      "2023-12-18 00:04:57 [Severity.INFO]\tfinished.\n",
      "Number of causal paths: Total path count: \t\t24186.0 \n",
      "[Unique / Sub paths / Total]: \t[24186.0 / 48372.0 / 72558.0]\n",
      "Nodes:\t\t\t\t3783 \n",
      "Edges:\t\t\t\t24186\n",
      "Max. path length:\t\t1\n",
      "Avg path length:\t\t1.0 \n",
      "Paths of length k = 0\t\t0.0 [ 0.0 / 48372.0 / 48372.0 ]\n",
      "Paths of length k = 1\t\t24186.0 [ 24186.0 / 0.0 / 24186.0 ]\n",
      "\n",
      "\n"
     ]
    },
    {
     "name": "stderr",
     "output_type": "stream",
     "text": [
      "\r",
      " 20%|███████████████████████████████████▍                                                                                                                                             | 1/5 [00:08<00:32,  8.13s/it]"
     ]
    },
    {
     "name": "stdout",
     "output_type": "stream",
     "text": [
      "2023-12-18 00:04:57 [Severity.INFO]\tConstructing time-unfolded DAG ...\n",
      "2023-12-18 00:05:03 [Severity.INFO]\tfinished.\n",
      "Directed Acyclic Graph\n",
      "Nodes:\t\t619334\n",
      "Roots:\t\t18584\n",
      "Leaves:\t\t600750\n",
      "Links:\t\t725580\n",
      "Acyclic:\tNone\n",
      "\n",
      "2023-12-18 00:05:03 [Severity.INFO]\tGenerating causal trees for 18584 root nodes ...\n",
      "2023-12-18 00:05:05 [Severity.INFO]\tfinished.\n",
      "Number of causal paths: Total path count: \t\t24186.0 \n",
      "[Unique / Sub paths / Total]: \t[24186.0 / 48372.0 / 72558.0]\n",
      "Nodes:\t\t\t\t3783 \n",
      "Edges:\t\t\t\t24186\n",
      "Max. path length:\t\t1\n",
      "Avg path length:\t\t1.0 \n",
      "Paths of length k = 0\t\t0.0 [ 0.0 / 48372.0 / 48372.0 ]\n",
      "Paths of length k = 1\t\t24186.0 [ 24186.0 / 0.0 / 24186.0 ]\n",
      "\n",
      "\n"
     ]
    },
    {
     "name": "stderr",
     "output_type": "stream",
     "text": [
      "\r",
      " 40%|██████████████████████████████████████████████████████████████████████▊                                                                                                          | 2/5 [00:15<00:23,  7.73s/it]"
     ]
    },
    {
     "name": "stdout",
     "output_type": "stream",
     "text": [
      "2023-12-18 00:05:05 [Severity.INFO]\tConstructing time-unfolded DAG ...\n",
      "2023-12-18 00:05:11 [Severity.INFO]\tfinished.\n",
      "Directed Acyclic Graph\n",
      "Nodes:\t\t619334\n",
      "Roots:\t\t18584\n",
      "Leaves:\t\t600750\n",
      "Links:\t\t725580\n",
      "Acyclic:\tNone\n",
      "\n",
      "2023-12-18 00:05:11 [Severity.INFO]\tGenerating causal trees for 18584 root nodes ...\n",
      "2023-12-18 00:05:12 [Severity.INFO]\tfinished.\n",
      "Number of causal paths: Total path count: \t\t24186.0 \n",
      "[Unique / Sub paths / Total]: \t[24186.0 / 48372.0 / 72558.0]\n",
      "Nodes:\t\t\t\t3783 \n",
      "Edges:\t\t\t\t24186\n",
      "Max. path length:\t\t1\n",
      "Avg path length:\t\t1.0 \n",
      "Paths of length k = 0\t\t0.0 [ 0.0 / 48372.0 / 48372.0 ]\n",
      "Paths of length k = 1\t\t24186.0 [ 24186.0 / 0.0 / 24186.0 ]\n",
      "\n",
      "\n"
     ]
    },
    {
     "name": "stderr",
     "output_type": "stream",
     "text": [
      "\r",
      " 60%|██████████████████████████████████████████████████████████████████████████████████████████████████████████▏                                                                      | 3/5 [00:23<00:15,  7.67s/it]"
     ]
    },
    {
     "name": "stdout",
     "output_type": "stream",
     "text": [
      "2023-12-18 00:05:12 [Severity.INFO]\tConstructing time-unfolded DAG ...\n",
      "2023-12-18 00:05:18 [Severity.INFO]\tfinished.\n",
      "Directed Acyclic Graph\n",
      "Nodes:\t\t619334\n",
      "Roots:\t\t18584\n",
      "Leaves:\t\t600750\n",
      "Links:\t\t725580\n",
      "Acyclic:\tNone\n",
      "\n",
      "2023-12-18 00:05:18 [Severity.INFO]\tGenerating causal trees for 18584 root nodes ...\n",
      "2023-12-18 00:05:20 [Severity.INFO]\tfinished.\n",
      "Number of causal paths: Total path count: \t\t24186.0 \n",
      "[Unique / Sub paths / Total]: \t[24186.0 / 48372.0 / 72558.0]\n",
      "Nodes:\t\t\t\t3783 \n",
      "Edges:\t\t\t\t24186\n",
      "Max. path length:\t\t1\n",
      "Avg path length:\t\t1.0 \n",
      "Paths of length k = 0\t\t0.0 [ 0.0 / 48372.0 / 48372.0 ]\n",
      "Paths of length k = 1\t\t24186.0 [ 24186.0 / 0.0 / 24186.0 ]\n",
      "\n",
      "\n"
     ]
    },
    {
     "name": "stderr",
     "output_type": "stream",
     "text": [
      "\r",
      " 80%|█████████████████████████████████████████████████████████████████████████████████████████████████████████████████████████████████████████████▌                                   | 4/5 [00:30<00:07,  7.56s/it]"
     ]
    },
    {
     "name": "stdout",
     "output_type": "stream",
     "text": [
      "2023-12-18 00:05:20 [Severity.INFO]\tConstructing time-unfolded DAG ...\n",
      "2023-12-18 00:05:26 [Severity.INFO]\tfinished.\n",
      "Directed Acyclic Graph\n",
      "Nodes:\t\t619334\n",
      "Roots:\t\t18584\n",
      "Leaves:\t\t600750\n",
      "Links:\t\t725580\n",
      "Acyclic:\tNone\n",
      "\n",
      "2023-12-18 00:05:26 [Severity.INFO]\tGenerating causal trees for 18584 root nodes ...\n",
      "2023-12-18 00:05:27 [Severity.INFO]\tfinished.\n",
      "Number of causal paths: Total path count: \t\t24186.0 \n",
      "[Unique / Sub paths / Total]: \t[24186.0 / 48372.0 / 72558.0]\n",
      "Nodes:\t\t\t\t3783 \n",
      "Edges:\t\t\t\t24186\n",
      "Max. path length:\t\t1\n",
      "Avg path length:\t\t1.0 \n",
      "Paths of length k = 0\t\t0.0 [ 0.0 / 48372.0 / 48372.0 ]\n",
      "Paths of length k = 1\t\t24186.0 [ 24186.0 / 0.0 / 24186.0 ]\n",
      "\n",
      "\n"
     ]
    },
    {
     "name": "stderr",
     "output_type": "stream",
     "text": [
      "100%|█████████████████████████████████████████████████████████████████████████████████████████████████████████████████████████████████████████████████████████████████████████████████| 5/5 [00:38<00:00,  7.61s/it]\n"
     ]
    }
   ],
   "source": [
    "results = []\n",
    "for k in trange(1, 6):\n",
    "    count, runtime = get_total_causal_paths(t, delta, k)\n",
    "    results.append((count, runtime, k))"
   ]
  },
  {
   "cell_type": "code",
   "execution_count": 10,
   "id": "750a7bd4",
   "metadata": {},
   "outputs": [],
   "source": [
    "_, baseline_runtimes_sec, baseline_k = zip(*results)"
   ]
  },
  {
   "cell_type": "markdown",
   "id": "cb084908",
   "metadata": {},
   "source": [
    "## Plots"
   ]
  },
  {
   "cell_type": "code",
   "execution_count": 11,
   "id": "3edbdada",
   "metadata": {},
   "outputs": [
    {
     "data": {
      "image/png": "[encoded data removed]",
      "text/plain": [
       "<Figure size 640x480 with 1 Axes>"
      ]
     },
     "metadata": {},
     "output_type": "display_data"
    }
   ],
   "source": [
    "plt.plot(paco_k, paco_runtimes_sec, 's--', color='blue',label=\"PaCo\")\n",
    "plt.plot(baseline_k, baseline_runtimes_sec, '^--', color='red',label=\"Baseline\")\n",
    "plt.xlabel(\"K\")\n",
    "plt.ylabel(\"run-time [sec]\")\n",
    "plt.grid(True)\n",
    "plt.legend()\n",
    "plt.savefig('plots/socbitcoinalpha_right_panel.png')\n",
    "plt.show()"
   ]
  }
 ],
 "metadata": {
  "kernelspec": {
   "display_name": "Python 3 (ipykernel)",
   "language": "python",
   "name": "python3"
  },
  "language_info": {
   "codemirror_mode": {
    "name": "ipython",
    "version": 3
   },
   "file_extension": ".py",
   "mimetype": "text/x-python",
   "name": "python",
   "nbconvert_exporter": "python",
   "pygments_lexer": "ipython3",
   "version": "3.10.13"
  }
 },
 "nbformat": 4,
 "nbformat_minor": 5
}
