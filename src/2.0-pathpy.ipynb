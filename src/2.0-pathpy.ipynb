{
 "cells": [
  {
   "cell_type": "code",
   "execution_count": 1,
   "metadata": {
    "colab": {
     "base_uri": "https://localhost:8080/"
    },
    "id": "26lb9Zl-2rIY",
    "outputId": "d4975e85-760a-42ed-d1a9-c7aba9571091"
   },
   "outputs": [],
   "source": [
    "# !python -m pip install git+https://github.com/pathpy/pathpyG.git"
   ]
  },
  {
   "cell_type": "code",
   "execution_count": 2,
   "metadata": {},
   "outputs": [],
   "source": [
    "import torch\n",
    "from torch_geometric.data import TemporalData\n",
    "import numpy as np\n",
    "import pathpyG as pp\n",
    "\n",
    "pp.config['torch']['device'] = 'cpu'"
   ]
  },
  {
   "cell_type": "code",
   "execution_count": 3,
   "metadata": {
    "id": "LeNGCQmm2tfu"
   },
   "outputs": [],
   "source": [
    "import pandas as pd\n",
    "from datetime import datetime\n",
    "from tqdm import tqdm"
   ]
  },
  {
   "cell_type": "code",
   "execution_count": 4,
   "metadata": {
    "id": "BtwBgBAV39bt"
   },
   "outputs": [],
   "source": [
    "def load_edgelist():\n",
    "    def date_to_timestamp(date_string: str):\n",
    "        return int(datetime.strptime(date_string, \"%Y-%m-%d %H:%M:%S\").timestamp())\n",
    "\n",
    "    reddit = pd.read_csv('./edges.tsv', delimiter='\\t')\n",
    "    data = data = reddit[['SOURCE_SUBREDDIT', 'TARGET_SUBREDDIT', 'TIMESTAMP']]\n",
    "    data.columns = ['source', 'target', 'timestamp']\n",
    "\n",
    "    return [(row['source'], row['target'], date_to_timestamp(row['timestamp'])) for _, row in data.iterrows()]"
   ]
  },
  {
   "cell_type": "code",
   "execution_count": 5,
   "metadata": {
    "id": "IFm-0pev6pa6"
   },
   "outputs": [],
   "source": [
    "edges = load_edgelist()"
   ]
  },
  {
   "cell_type": "code",
   "execution_count": 6,
   "metadata": {},
   "outputs": [],
   "source": [
    "edges = [list(edge) for edge in edges]"
   ]
  },
  {
   "cell_type": "code",
   "execution_count": 81,
   "metadata": {},
   "outputs": [
    {
     "data": {
      "text/plain": [
       "[['subreddit1', 'subreddit2', 1388504358],\n",
       " ['subreddit2', 'subreddit3', 1388504368],\n",
       " ['subreddit2', 'subreddit3', 1389770565],\n",
       " ['subreddit3', 'subreddit1', 1391339430]]"
      ]
     },
     "execution_count": 81,
     "metadata": {},
     "output_type": "execute_result"
    }
   ],
   "source": [
    "edges"
   ]
  },
  {
   "cell_type": "code",
   "execution_count": 8,
   "metadata": {},
   "outputs": [
    {
     "name": "stdout",
     "output_type": "stream",
     "text": [
      "Temporal Graph with 3 nodes 3 edges and 4 time-stamped events in [1388504358, 1391339430]\n",
      "\n",
      "Node attributes\n",
      "\tnode_id\t\t<class 'list'>\n",
      "\n",
      "Graph attributes\n",
      "\tnum_nodes\t\t<class 'int'>\n",
      "\tdst\t\t<class 'torch.Tensor'> -> torch.Size([4])\n",
      "\tsrc\t\t<class 'torch.Tensor'> -> torch.Size([4])\n",
      "\tt\t\t<class 'torch.Tensor'> -> torch.Size([4])\n",
      "\n"
     ]
    }
   ],
   "source": [
    "g = pp.TemporalGraph.from_edge_list(edges)\n",
    "print(g)"
   ]
  },
  {
   "cell_type": "code",
   "execution_count": 92,
   "metadata": {},
   "outputs": [
    {
     "name": "stdout",
     "output_type": "stream",
     "text": [
      "{'subreddit1-1388504358': tensor([[0],\n",
      "        [1]], dtype=torch.int32), 'subreddit2-1388504368': tensor([[2],\n",
      "        [3]], dtype=torch.int32), 'subreddit2-1389770565': tensor([[4],\n",
      "        [5]], dtype=torch.int32), 'subreddit3-1391339430': tensor([[6],\n",
      "        [7]], dtype=torch.int32)}\n"
     ]
    }
   ],
   "source": [
    "dag = pp.algorithms.temporal_graph_to_event_dag(g, delta = 1)\n",
    "x = pp.algorithms.extract_causal_trees(dag)\n",
    "print(x)\n",
    "paths = pp.PathData.from_temporal_dag(dag)"
   ]
  },
  {
   "cell_type": "code",
   "execution_count": 93,
   "metadata": {},
   "outputs": [
    {
     "name": "stdout",
     "output_type": "stream",
     "text": [
      "4\n"
     ]
    }
   ],
   "source": [
    "print(paths.num_paths)"
   ]
  },
  {
   "cell_type": "code",
   "execution_count": null,
   "metadata": {},
   "outputs": [],
   "source": []
  }
 ],
 "metadata": {
  "colab": {
   "provenance": []
  },
  "kernelspec": {
   "display_name": "Python 3 (ipykernel)",
   "language": "python",
   "name": "python3"
  },
  "language_info": {
   "codemirror_mode": {
    "name": "ipython",
    "version": 3
   },
   "file_extension": ".py",
   "mimetype": "text/x-python",
   "name": "python",
   "nbconvert_exporter": "python",
   "pygments_lexer": "ipython3",
   "version": "3.10.13"
  }
 },
 "nbformat": 4,
 "nbformat_minor": 1
}
