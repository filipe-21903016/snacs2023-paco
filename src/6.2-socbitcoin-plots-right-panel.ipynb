{
 "cells": [
  {
   "cell_type": "code",
   "execution_count": 1,
   "id": "d61036d6",
   "metadata": {},
   "outputs": [],
   "source": [
    "from main import load_edgelist\n",
    "from typing import List, Dict\n",
    "from paco import TimeStampedLinkList, paco\n",
    "from time import time\n",
    "from tqdm import tqdm, trange\n",
    "import matplotlib.pyplot as plt\n",
    "from baseline import create_temporal_network, get_total_causal_paths\n",
    "import pandas as pd"
   ]
  },
  {
   "cell_type": "code",
   "execution_count": 2,
   "id": "9798c01b",
   "metadata": {},
   "outputs": [],
   "source": [
    "dataset = pd.read_csv('soc-sign-bitcoinotc.csv', header=None)\n",
    "dataset.columns = ['source', 'target', 'rating', 'timestamp']\n",
    "edge_list = [(int(row['source']), int(row['target']), int(row['timestamp'])) for _, row in dataset.iterrows()]"
   ]
  },
  {
   "cell_type": "code",
   "execution_count": 3,
   "id": "69d78f9f",
   "metadata": {},
   "outputs": [],
   "source": [
    "data = TimeStampedLinkList.from_edgelist(edge_list)"
   ]
  },
  {
   "cell_type": "code",
   "execution_count": 4,
   "id": "269cd382",
   "metadata": {},
   "outputs": [],
   "source": [
    "delta = 30 #seconds"
   ]
  },
  {
   "cell_type": "markdown",
   "id": "5d728d8a",
   "metadata": {},
   "source": [
    "## PaCo"
   ]
  },
  {
   "cell_type": "code",
   "execution_count": 5,
   "id": "5e62b757",
   "metadata": {},
   "outputs": [],
   "source": [
    "def execute_paco(delta, k):\n",
    "    start = time()\n",
    "    C = paco(data, delta, k)\n",
    "    end = time()\n",
    "    \n",
    "    count = sum(C.values())\n",
    "    return count, end-start"
   ]
  },
  {
   "cell_type": "code",
   "execution_count": 6,
   "id": "b3527ef2",
   "metadata": {},
   "outputs": [
    {
     "name": "stderr",
     "output_type": "stream",
     "text": [
      "100%|█████████████████████████████████████████████████████████████████████████████████████████████████████████████████████████████████████████████████████████████████████████████████| 5/5 [00:00<00:00, 10.39it/s]\n"
     ]
    }
   ],
   "source": [
    "results = []\n",
    "for k in trange(1, 6):\n",
    "    count, runtime = execute_paco(delta, k)\n",
    "    results.append((count, runtime, k))"
   ]
  },
  {
   "cell_type": "code",
   "execution_count": 7,
   "id": "bca8fb2f",
   "metadata": {},
   "outputs": [],
   "source": [
    "_, paco_runtimes_sec, paco_k = zip(*results)"
   ]
  },
  {
   "cell_type": "markdown",
   "id": "b52791d9",
   "metadata": {},
   "source": [
    "## Baseline"
   ]
  },
  {
   "cell_type": "code",
   "execution_count": 8,
   "id": "f01fae16",
   "metadata": {},
   "outputs": [
    {
     "name": "stderr",
     "output_type": "stream",
     "text": [
      "100%|██████████████████████████████████████████████████████████████████████████████████████████████████████████████████████████████████████████████████████████████████████| 35592/35592 [00:01<00:00, 30634.51it/s]\n"
     ]
    }
   ],
   "source": [
    "t = create_temporal_network(edge_list)"
   ]
  },
  {
   "cell_type": "code",
   "execution_count": 9,
   "id": "653c0dcb",
   "metadata": {},
   "outputs": [
    {
     "name": "stderr",
     "output_type": "stream",
     "text": [
      "\r",
      "  0%|                                                                                                                                                                                         | 0/5 [00:00<?, ?it/s]"
     ]
    },
    {
     "name": "stdout",
     "output_type": "stream",
     "text": [
      "2023-12-17 23:53:02 [Severity.INFO]\tConstructing time-unfolded DAG ...\n",
      "2023-12-17 23:53:11 [Severity.INFO]\tfinished.\n",
      "Directed Acyclic Graph\n",
      "Nodes:\t\t1099766\n",
      "Roots:\t\t33541\n",
      "Leaves:\t\t1064299\n",
      "Links:\t\t1067760\n",
      "Acyclic:\tNone\n",
      "\n",
      "2023-12-17 23:53:11 [Severity.INFO]\tGenerating causal trees for 33541 root nodes ...\n",
      "2023-12-17 23:53:13 [Severity.INFO]\tfinished.\n"
     ]
    },
    {
     "name": "stderr",
     "output_type": "stream",
     "text": [
      "\r",
      " 20%|███████████████████████████████████▍                                                                                                                                             | 1/5 [00:11<00:44, 11.13s/it]"
     ]
    },
    {
     "name": "stdout",
     "output_type": "stream",
     "text": [
      "Number of causal paths: Total path count: \t\t33678.0 \n",
      "[Unique / Sub paths / Total]: \t[33678.0 / 73155.0 / 106833.0]\n",
      "Nodes:\t\t\t\t5881 \n",
      "Edges:\t\t\t\t35592\n",
      "Max. path length:\t\t3\n",
      "Avg path length:\t\t1.0572480551101608 \n",
      "Paths of length k = 0\t\t0.0 [ 0.0 / 69284.0 / 69284.0 ]\n",
      "Paths of length k = 1\t\t31765.0 [ 31765.0 / 3841.0 / 35606.0 ]\n",
      "Paths of length k = 2\t\t1898.0 [ 1898.0 / 30.0 / 1928.0 ]\n",
      "Paths of length k = 3\t\t15.0 [ 15.0 / 0.0 / 15.0 ]\n",
      "\n",
      "\n",
      "2023-12-17 23:53:13 [Severity.INFO]\tConstructing time-unfolded DAG ...\n",
      "2023-12-17 23:53:22 [Severity.INFO]\tfinished.\n",
      "Directed Acyclic Graph\n",
      "Nodes:\t\t1099766\n",
      "Roots:\t\t33541\n",
      "Leaves:\t\t1064299\n",
      "Links:\t\t1067760\n",
      "Acyclic:\tNone\n",
      "\n",
      "2023-12-17 23:53:22 [Severity.INFO]\tGenerating causal trees for 33541 root nodes ...\n",
      "2023-12-17 23:53:23 [Severity.INFO]\tfinished.\n"
     ]
    },
    {
     "name": "stderr",
     "output_type": "stream",
     "text": [
      "\r",
      " 40%|██████████████████████████████████████████████████████████████████████▊                                                                                                          | 2/5 [00:21<00:32, 10.97s/it]"
     ]
    },
    {
     "name": "stdout",
     "output_type": "stream",
     "text": [
      "Number of causal paths: Total path count: \t\t33678.0 \n",
      "[Unique / Sub paths / Total]: \t[33678.0 / 73155.0 / 106833.0]\n",
      "Nodes:\t\t\t\t5881 \n",
      "Edges:\t\t\t\t35592\n",
      "Max. path length:\t\t3\n",
      "Avg path length:\t\t1.0572480551101608 \n",
      "Paths of length k = 0\t\t0.0 [ 0.0 / 69284.0 / 69284.0 ]\n",
      "Paths of length k = 1\t\t31765.0 [ 31765.0 / 3841.0 / 35606.0 ]\n",
      "Paths of length k = 2\t\t1898.0 [ 1898.0 / 30.0 / 1928.0 ]\n",
      "Paths of length k = 3\t\t15.0 [ 15.0 / 0.0 / 15.0 ]\n",
      "\n",
      "\n",
      "2023-12-17 23:53:24 [Severity.INFO]\tConstructing time-unfolded DAG ...\n",
      "2023-12-17 23:53:32 [Severity.INFO]\tfinished.\n",
      "Directed Acyclic Graph\n",
      "Nodes:\t\t1099766\n",
      "Roots:\t\t33541\n",
      "Leaves:\t\t1064299\n",
      "Links:\t\t1067760\n",
      "Acyclic:\tNone\n",
      "\n",
      "2023-12-17 23:53:32 [Severity.INFO]\tGenerating causal trees for 33541 root nodes ...\n",
      "2023-12-17 23:53:34 [Severity.INFO]\tfinished.\n"
     ]
    },
    {
     "name": "stderr",
     "output_type": "stream",
     "text": [
      "\r",
      " 60%|██████████████████████████████████████████████████████████████████████████████████████████████████████████▏                                                                      | 3/5 [00:32<00:21, 10.94s/it]"
     ]
    },
    {
     "name": "stdout",
     "output_type": "stream",
     "text": [
      "Number of causal paths: Total path count: \t\t33678.0 \n",
      "[Unique / Sub paths / Total]: \t[33678.0 / 73155.0 / 106833.0]\n",
      "Nodes:\t\t\t\t5881 \n",
      "Edges:\t\t\t\t35592\n",
      "Max. path length:\t\t3\n",
      "Avg path length:\t\t1.0572480551101608 \n",
      "Paths of length k = 0\t\t0.0 [ 0.0 / 69284.0 / 69284.0 ]\n",
      "Paths of length k = 1\t\t31765.0 [ 31765.0 / 3841.0 / 35606.0 ]\n",
      "Paths of length k = 2\t\t1898.0 [ 1898.0 / 30.0 / 1928.0 ]\n",
      "Paths of length k = 3\t\t15.0 [ 15.0 / 0.0 / 15.0 ]\n",
      "\n",
      "\n",
      "2023-12-17 23:53:35 [Severity.INFO]\tConstructing time-unfolded DAG ...\n",
      "2023-12-17 23:53:43 [Severity.INFO]\tfinished.\n",
      "Directed Acyclic Graph\n",
      "Nodes:\t\t1099766\n",
      "Roots:\t\t33541\n",
      "Leaves:\t\t1064299\n",
      "Links:\t\t1067760\n",
      "Acyclic:\tNone\n",
      "\n",
      "2023-12-17 23:53:43 [Severity.INFO]\tGenerating causal trees for 33541 root nodes ...\n",
      "2023-12-17 23:53:45 [Severity.INFO]\tfinished.\n"
     ]
    },
    {
     "name": "stderr",
     "output_type": "stream",
     "text": [
      "\r",
      " 80%|█████████████████████████████████████████████████████████████████████████████████████████████████████████████████████████████████████████████▌                                   | 4/5 [00:43<00:10, 10.68s/it]"
     ]
    },
    {
     "name": "stdout",
     "output_type": "stream",
     "text": [
      "Number of causal paths: Total path count: \t\t33678.0 \n",
      "[Unique / Sub paths / Total]: \t[33678.0 / 73155.0 / 106833.0]\n",
      "Nodes:\t\t\t\t5881 \n",
      "Edges:\t\t\t\t35592\n",
      "Max. path length:\t\t3\n",
      "Avg path length:\t\t1.0572480551101608 \n",
      "Paths of length k = 0\t\t0.0 [ 0.0 / 69284.0 / 69284.0 ]\n",
      "Paths of length k = 1\t\t31765.0 [ 31765.0 / 3841.0 / 35606.0 ]\n",
      "Paths of length k = 2\t\t1898.0 [ 1898.0 / 30.0 / 1928.0 ]\n",
      "Paths of length k = 3\t\t15.0 [ 15.0 / 0.0 / 15.0 ]\n",
      "\n",
      "\n",
      "2023-12-17 23:53:45 [Severity.INFO]\tConstructing time-unfolded DAG ...\n",
      "2023-12-17 23:53:53 [Severity.INFO]\tfinished.\n",
      "Directed Acyclic Graph\n",
      "Nodes:\t\t1099766\n",
      "Roots:\t\t33541\n",
      "Leaves:\t\t1064299\n",
      "Links:\t\t1067760\n",
      "Acyclic:\tNone\n",
      "\n",
      "2023-12-17 23:53:53 [Severity.INFO]\tGenerating causal trees for 33541 root nodes ...\n",
      "2023-12-17 23:53:55 [Severity.INFO]\tfinished.\n"
     ]
    },
    {
     "name": "stderr",
     "output_type": "stream",
     "text": [
      "100%|█████████████████████████████████████████████████████████████████████████████████████████████████████████████████████████████████████████████████████████████████████████████████| 5/5 [00:53<00:00, 10.75s/it]"
     ]
    },
    {
     "name": "stdout",
     "output_type": "stream",
     "text": [
      "Number of causal paths: Total path count: \t\t33678.0 \n",
      "[Unique / Sub paths / Total]: \t[33678.0 / 73155.0 / 106833.0]\n",
      "Nodes:\t\t\t\t5881 \n",
      "Edges:\t\t\t\t35592\n",
      "Max. path length:\t\t3\n",
      "Avg path length:\t\t1.0572480551101608 \n",
      "Paths of length k = 0\t\t0.0 [ 0.0 / 69284.0 / 69284.0 ]\n",
      "Paths of length k = 1\t\t31765.0 [ 31765.0 / 3841.0 / 35606.0 ]\n",
      "Paths of length k = 2\t\t1898.0 [ 1898.0 / 30.0 / 1928.0 ]\n",
      "Paths of length k = 3\t\t15.0 [ 15.0 / 0.0 / 15.0 ]\n",
      "\n",
      "\n"
     ]
    },
    {
     "name": "stderr",
     "output_type": "stream",
     "text": [
      "\n"
     ]
    }
   ],
   "source": [
    "results = []\n",
    "for k in trange(1, 6):\n",
    "    count, runtime = get_total_causal_paths(t, delta, k)\n",
    "    results.append((count, runtime, k))"
   ]
  },
  {
   "cell_type": "code",
   "execution_count": 10,
   "id": "750a7bd4",
   "metadata": {},
   "outputs": [],
   "source": [
    "_, baseline_runtimes_sec, baseline_k = zip(*results)"
   ]
  },
  {
   "cell_type": "markdown",
   "id": "cb084908",
   "metadata": {},
   "source": [
    "## Plots"
   ]
  },
  {
   "cell_type": "code",
   "execution_count": 11,
   "id": "3edbdada",
   "metadata": {},
   "outputs": [
    {
     "data": {
      "image/png": "[encoded data removed]",
      "text/plain": [
       "<Figure size 640x480 with 1 Axes>"
      ]
     },
     "metadata": {},
     "output_type": "display_data"
    }
   ],
   "source": [
    "plt.plot(paco_k, paco_runtimes_sec, 's--', color='blue',label=\"PaCo\")\n",
    "plt.plot(baseline_k, baseline_runtimes_sec, '^--', color='red',label=\"Baseline\")\n",
    "plt.xlabel(\"K\")\n",
    "plt.ylabel(\"run-time [sec]\")\n",
    "plt.grid(True)\n",
    "plt.legend()\n",
    "plt.savefig('plots/socbitcoin_right_panel.png')\n",
    "plt.show()"
   ]
  }
 ],
 "metadata": {
  "kernelspec": {
   "display_name": "Python 3 (ipykernel)",
   "language": "python",
   "name": "python3"
  },
  "language_info": {
   "codemirror_mode": {
    "name": "ipython",
    "version": 3
   },
   "file_extension": ".py",
   "mimetype": "text/x-python",
   "name": "python",
   "nbconvert_exporter": "python",
   "pygments_lexer": "ipython3",
   "version": "3.10.13"
  }
 },
 "nbformat": 4,
 "nbformat_minor": 5
}
