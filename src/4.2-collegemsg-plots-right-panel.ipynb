{
 "cells": [
  {
   "cell_type": "code",
   "execution_count": 1,
   "id": "d61036d6",
   "metadata": {},
   "outputs": [],
   "source": [
    "from main import load_edgelist\n",
    "from typing import List, Dict\n",
    "from paco import TimeStampedLinkList, paco\n",
    "from time import time\n",
    "from tqdm import tqdm, trange\n",
    "import matplotlib.pyplot as plt\n",
    "from baseline import create_temporal_network, get_total_causal_paths\n",
    "import pandas as pd"
   ]
  },
  {
   "cell_type": "code",
   "execution_count": 2,
   "id": "9798c01b",
   "metadata": {},
   "outputs": [],
   "source": [
    "dataset = pd.read_csv('CollegeMsg.txt', delimiter=' ', header=None)\n",
    "dataset.columns = ['source', 'target', 'timestamp']\n",
    "edge_list = [(row['source'], row['target'], int(row['timestamp'])) for _, row in dataset.iterrows()]"
   ]
  },
  {
   "cell_type": "code",
   "execution_count": 3,
   "id": "69d78f9f",
   "metadata": {},
   "outputs": [],
   "source": [
    "data = TimeStampedLinkList.from_edgelist(edge_list)"
   ]
  },
  {
   "cell_type": "code",
   "execution_count": 4,
   "id": "269cd382",
   "metadata": {},
   "outputs": [],
   "source": [
    "delta = 30 #seconds"
   ]
  },
  {
   "cell_type": "markdown",
   "id": "5d728d8a",
   "metadata": {},
   "source": [
    "## PaCo"
   ]
  },
  {
   "cell_type": "code",
   "execution_count": 5,
   "id": "5e62b757",
   "metadata": {},
   "outputs": [],
   "source": [
    "def execute_paco(delta, k):\n",
    "    start = time()\n",
    "    C = paco(data, delta, k)\n",
    "    end = time()\n",
    "    \n",
    "    count = sum(C.values())\n",
    "    return count, end-start"
   ]
  },
  {
   "cell_type": "code",
   "execution_count": 6,
   "id": "b3527ef2",
   "metadata": {},
   "outputs": [
    {
     "name": "stderr",
     "output_type": "stream",
     "text": [
      "100%|█████████████████████████████████████████████████████████████████████████████████████████████████████████████████████████████████████████████████████████████████████████████████| 5/5 [00:00<00:00,  7.76it/s]\n"
     ]
    }
   ],
   "source": [
    "results = []\n",
    "for k in trange(1, 6):\n",
    "    count, runtime = execute_paco(delta, k)\n",
    "    results.append((count, runtime, k))"
   ]
  },
  {
   "cell_type": "code",
   "execution_count": 7,
   "id": "bca8fb2f",
   "metadata": {},
   "outputs": [],
   "source": [
    "_, paco_runtimes_sec, paco_k = zip(*results)"
   ]
  },
  {
   "cell_type": "markdown",
   "id": "b52791d9",
   "metadata": {},
   "source": [
    "## Baseline"
   ]
  },
  {
   "cell_type": "code",
   "execution_count": 8,
   "id": "f01fae16",
   "metadata": {},
   "outputs": [
    {
     "name": "stderr",
     "output_type": "stream",
     "text": [
      "100%|██████████████████████████████████████████████████████████████████████████████████████████████████████████████████████████████████████████████████████████████████████| 59835/59835 [00:01<00:00, 57093.10it/s]\n"
     ]
    }
   ],
   "source": [
    "t = create_temporal_network(edge_list)"
   ]
  },
  {
   "cell_type": "code",
   "execution_count": 9,
   "id": "653c0dcb",
   "metadata": {},
   "outputs": [
    {
     "name": "stderr",
     "output_type": "stream",
     "text": [
      "\r",
      "  0%|                                                                                                                                                                                         | 0/5 [00:00<?, ?it/s]"
     ]
    },
    {
     "name": "stdout",
     "output_type": "stream",
     "text": [
      "2023-12-17 21:14:52 [Severity.INFO]\tConstructing time-unfolded DAG ...\n",
      "2023-12-17 21:15:06 [Severity.INFO]\tfinished.\n",
      "Directed Acyclic Graph\n",
      "Nodes:\t\t1814534\n",
      "Roots:\t\t57872\n",
      "Leaves:\t\t1754873\n",
      "Links:\t\t1793940\n",
      "Acyclic:\tNone\n",
      "\n",
      "2023-12-17 21:15:06 [Severity.INFO]\tGenerating causal trees for 57872 root nodes ...\n",
      "2023-12-17 21:15:10 [Severity.INFO]\tfinished.\n",
      "Number of causal paths: Total path count: \t\t58100.0 \n",
      "[Unique / Sub paths / Total]: \t[21444.0 / 122316.0 / 180416.0]\n",
      "Nodes:\t\t\t\t1899 \n",
      "Edges:\t\t\t\t20296\n",
      "Max. path length:\t\t6\n",
      "Avg path length:\t\t1.0334767641996558 \n",
      "Paths of length k = 0\t\t0.0 [ 0.0 / 118145.0 / 118145.0 ]\n",
      "Paths of length k = 1\t\t56364.0 [ 19940.0 / 3681.0 / 60045.0 ]\n",
      "Paths of length k = 2\t\t1582.0 [ 1354.0 / 363.0 / 1945.0 ]\n",
      "Paths of length k = 3\t\t113.0 [ 111.0 / 96.0 / 209.0 ]\n",
      "Paths of length k = 4\t\t30.0 [ 28.0 / 25.0 / 55.0 ]\n",
      "Paths of length k = 5\t\t8.0 [ 8.0 / 6.0 / 14.0 ]\n",
      "Paths of length k = 6\t\t3.0 [ 3.0 / 0.0 / 3.0 ]\n",
      "\n",
      "\n"
     ]
    },
    {
     "name": "stderr",
     "output_type": "stream",
     "text": [
      "\r",
      " 20%|███████████████████████████████████▍                                                                                                                                             | 1/5 [00:18<01:13, 18.47s/it]"
     ]
    },
    {
     "name": "stdout",
     "output_type": "stream",
     "text": [
      "2023-12-17 21:15:10 [Severity.INFO]\tConstructing time-unfolded DAG ...\n",
      "2023-12-17 21:15:24 [Severity.INFO]\tfinished.\n",
      "Directed Acyclic Graph\n",
      "Nodes:\t\t1814534\n",
      "Roots:\t\t57872\n",
      "Leaves:\t\t1754873\n",
      "Links:\t\t1793940\n",
      "Acyclic:\tNone\n",
      "\n",
      "2023-12-17 21:15:24 [Severity.INFO]\tGenerating causal trees for 57872 root nodes ...\n",
      "2023-12-17 21:15:28 [Severity.INFO]\tfinished.\n"
     ]
    },
    {
     "name": "stderr",
     "output_type": "stream",
     "text": [
      "\r",
      " 40%|██████████████████████████████████████████████████████████████████████▊                                                                                                          | 2/5 [00:36<00:54, 18.24s/it]"
     ]
    },
    {
     "name": "stdout",
     "output_type": "stream",
     "text": [
      "Number of causal paths: Total path count: \t\t58100.0 \n",
      "[Unique / Sub paths / Total]: \t[21444.0 / 122316.0 / 180416.0]\n",
      "Nodes:\t\t\t\t1899 \n",
      "Edges:\t\t\t\t20296\n",
      "Max. path length:\t\t6\n",
      "Avg path length:\t\t1.0334767641996558 \n",
      "Paths of length k = 0\t\t0.0 [ 0.0 / 118145.0 / 118145.0 ]\n",
      "Paths of length k = 1\t\t56364.0 [ 19940.0 / 3681.0 / 60045.0 ]\n",
      "Paths of length k = 2\t\t1582.0 [ 1354.0 / 363.0 / 1945.0 ]\n",
      "Paths of length k = 3\t\t113.0 [ 111.0 / 96.0 / 209.0 ]\n",
      "Paths of length k = 4\t\t30.0 [ 28.0 / 25.0 / 55.0 ]\n",
      "Paths of length k = 5\t\t8.0 [ 8.0 / 6.0 / 14.0 ]\n",
      "Paths of length k = 6\t\t3.0 [ 3.0 / 0.0 / 3.0 ]\n",
      "\n",
      "\n",
      "2023-12-17 21:15:28 [Severity.INFO]\tConstructing time-unfolded DAG ...\n",
      "2023-12-17 21:15:43 [Severity.INFO]\tfinished.\n",
      "Directed Acyclic Graph\n",
      "Nodes:\t\t1814534\n",
      "Roots:\t\t57872\n",
      "Leaves:\t\t1754873\n",
      "Links:\t\t1793940\n",
      "Acyclic:\tNone\n",
      "\n",
      "2023-12-17 21:15:43 [Severity.INFO]\tGenerating causal trees for 57872 root nodes ...\n",
      "2023-12-17 21:15:46 [Severity.INFO]\tfinished.\n"
     ]
    },
    {
     "name": "stderr",
     "output_type": "stream",
     "text": [
      "\r",
      " 60%|██████████████████████████████████████████████████████████████████████████████████████████████████████████▏                                                                      | 3/5 [00:55<00:37, 18.51s/it]"
     ]
    },
    {
     "name": "stdout",
     "output_type": "stream",
     "text": [
      "Number of causal paths: Total path count: \t\t58100.0 \n",
      "[Unique / Sub paths / Total]: \t[21444.0 / 122316.0 / 180416.0]\n",
      "Nodes:\t\t\t\t1899 \n",
      "Edges:\t\t\t\t20296\n",
      "Max. path length:\t\t6\n",
      "Avg path length:\t\t1.0334767641996558 \n",
      "Paths of length k = 0\t\t0.0 [ 0.0 / 118145.0 / 118145.0 ]\n",
      "Paths of length k = 1\t\t56364.0 [ 19940.0 / 3681.0 / 60045.0 ]\n",
      "Paths of length k = 2\t\t1582.0 [ 1354.0 / 363.0 / 1945.0 ]\n",
      "Paths of length k = 3\t\t113.0 [ 111.0 / 96.0 / 209.0 ]\n",
      "Paths of length k = 4\t\t30.0 [ 28.0 / 25.0 / 55.0 ]\n",
      "Paths of length k = 5\t\t8.0 [ 8.0 / 6.0 / 14.0 ]\n",
      "Paths of length k = 6\t\t3.0 [ 3.0 / 0.0 / 3.0 ]\n",
      "\n",
      "\n",
      "2023-12-17 21:15:47 [Severity.INFO]\tConstructing time-unfolded DAG ...\n",
      "2023-12-17 21:16:01 [Severity.INFO]\tfinished.\n",
      "Directed Acyclic Graph\n",
      "Nodes:\t\t1814534\n",
      "Roots:\t\t57872\n",
      "Leaves:\t\t1754873\n",
      "Links:\t\t1793940\n",
      "Acyclic:\tNone\n",
      "\n",
      "2023-12-17 21:16:01 [Severity.INFO]\tGenerating causal trees for 57872 root nodes ...\n",
      "2023-12-17 21:16:04 [Severity.INFO]\tfinished.\n",
      "Number of causal paths: Total path count: \t\t58100.0 \n",
      "[Unique / Sub paths / Total]: \t[21444.0 / 122316.0 / 180416.0]\n",
      "Nodes:\t\t\t\t1899 \n",
      "Edges:\t\t\t\t20296\n",
      "Max. path length:\t\t6\n",
      "Avg path length:\t\t1.0334767641996558 \n",
      "Paths of length k = 0\t\t0.0 [ 0.0 / 118145.0 / 118145.0 ]\n",
      "Paths of length k = 1\t\t56364.0 [ 19940.0 / 3681.0 / 60045.0 ]\n",
      "Paths of length k = 2\t\t1582.0 [ 1354.0 / 363.0 / 1945.0 ]\n",
      "Paths of length k = 3\t\t113.0 [ 111.0 / 96.0 / 209.0 ]\n",
      "Paths of length k = 4\t\t30.0 [ 28.0 / 25.0 / 55.0 ]\n",
      "Paths of length k = 5\t\t8.0 [ 8.0 / 6.0 / 14.0 ]\n",
      "Paths of length k = 6\t\t3.0 [ 3.0 / 0.0 / 3.0 ]\n",
      "\n",
      "\n"
     ]
    },
    {
     "name": "stderr",
     "output_type": "stream",
     "text": [
      "\r",
      " 80%|█████████████████████████████████████████████████████████████████████████████████████████████████████████████████████████████████████████████▌                                   | 4/5 [01:13<00:18, 18.28s/it]"
     ]
    },
    {
     "name": "stdout",
     "output_type": "stream",
     "text": [
      "2023-12-17 21:16:05 [Severity.INFO]\tConstructing time-unfolded DAG ...\n",
      "2023-12-17 21:16:20 [Severity.INFO]\tfinished.\n",
      "Directed Acyclic Graph\n",
      "Nodes:\t\t1814534\n",
      "Roots:\t\t57872\n",
      "Leaves:\t\t1754873\n",
      "Links:\t\t1793940\n",
      "Acyclic:\tNone\n",
      "\n",
      "2023-12-17 21:16:20 [Severity.INFO]\tGenerating causal trees for 57872 root nodes ...\n",
      "2023-12-17 21:16:23 [Severity.INFO]\tfinished.\n"
     ]
    },
    {
     "name": "stderr",
     "output_type": "stream",
     "text": [
      "100%|█████████████████████████████████████████████████████████████████████████████████████████████████████████████████████████████████████████████████████████████████████████████████| 5/5 [01:31<00:00, 18.38s/it]"
     ]
    },
    {
     "name": "stdout",
     "output_type": "stream",
     "text": [
      "Number of causal paths: Total path count: \t\t58100.0 \n",
      "[Unique / Sub paths / Total]: \t[21444.0 / 122316.0 / 180416.0]\n",
      "Nodes:\t\t\t\t1899 \n",
      "Edges:\t\t\t\t20296\n",
      "Max. path length:\t\t6\n",
      "Avg path length:\t\t1.0334767641996558 \n",
      "Paths of length k = 0\t\t0.0 [ 0.0 / 118145.0 / 118145.0 ]\n",
      "Paths of length k = 1\t\t56364.0 [ 19940.0 / 3681.0 / 60045.0 ]\n",
      "Paths of length k = 2\t\t1582.0 [ 1354.0 / 363.0 / 1945.0 ]\n",
      "Paths of length k = 3\t\t113.0 [ 111.0 / 96.0 / 209.0 ]\n",
      "Paths of length k = 4\t\t30.0 [ 28.0 / 25.0 / 55.0 ]\n",
      "Paths of length k = 5\t\t8.0 [ 8.0 / 6.0 / 14.0 ]\n",
      "Paths of length k = 6\t\t3.0 [ 3.0 / 0.0 / 3.0 ]\n",
      "\n",
      "\n"
     ]
    },
    {
     "name": "stderr",
     "output_type": "stream",
     "text": [
      "\n"
     ]
    }
   ],
   "source": [
    "results = []\n",
    "for k in trange(1, 6):\n",
    "    count, runtime = get_total_causal_paths(t, delta, k)\n",
    "    results.append((count, runtime, k))"
   ]
  },
  {
   "cell_type": "code",
   "execution_count": 10,
   "id": "750a7bd4",
   "metadata": {},
   "outputs": [],
   "source": [
    "_, baseline_runtimes_sec, baseline_k = zip(*results)"
   ]
  },
  {
   "cell_type": "markdown",
   "id": "cb084908",
   "metadata": {},
   "source": [
    "## Plots"
   ]
  },
  {
   "cell_type": "code",
   "execution_count": 11,
   "id": "3edbdada",
   "metadata": {},
   "outputs": [
    {
     "data": {
      "image/png": "[encoded data removed]",
      "text/plain": [
       "<Figure size 640x480 with 1 Axes>"
      ]
     },
     "metadata": {},
     "output_type": "display_data"
    }
   ],
   "source": [
    "plt.plot(paco_k, paco_runtimes_sec, 's--', color='blue',label=\"PaCo\")\n",
    "plt.plot(baseline_k, baseline_runtimes_sec, '^--', color='red',label=\"Baseline\")\n",
    "plt.xlabel(\"K\")\n",
    "plt.ylabel(\"run-time [sec]\")\n",
    "plt.grid(True)\n",
    "plt.legend()\n",
    "plt.savefig('plots/collegemsg_right_panel.png')\n",
    "plt.show()"
   ]
  }
 ],
 "metadata": {
  "kernelspec": {
   "display_name": "Python 3 (ipykernel)",
   "language": "python",
   "name": "python3"
  },
  "language_info": {
   "codemirror_mode": {
    "name": "ipython",
    "version": 3
   },
   "file_extension": ".py",
   "mimetype": "text/x-python",
   "name": "python",
   "nbconvert_exporter": "python",
   "pygments_lexer": "ipython3",
   "version": "3.10.13"
  }
 },
 "nbformat": 4,
 "nbformat_minor": 5
}
