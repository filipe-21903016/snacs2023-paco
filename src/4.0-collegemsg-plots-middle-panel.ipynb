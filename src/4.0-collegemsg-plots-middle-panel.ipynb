{
 "cells": [
  {
   "cell_type": "code",
   "execution_count": 1,
   "id": "d61036d6",
   "metadata": {},
   "outputs": [],
   "source": [
    "from main import load_edgelist\n",
    "from typing import List, Dict\n",
    "from paco import TimeStampedLinkList, paco\n",
    "from time import time\n",
    "from tqdm import tqdm\n",
    "import matplotlib.pyplot as plt\n",
    "from baseline import create_temporal_network, get_total_causal_paths\n",
    "import pandas as pd"
   ]
  },
  {
   "cell_type": "code",
   "execution_count": 2,
   "id": "eab5d1b0",
   "metadata": {},
   "outputs": [],
   "source": [
    "dataset = pd.read_csv('CollegeMsg.txt', delimiter=' ', header=None)\n",
    "dataset.columns = ['source', 'target', 'timestamp']\n",
    "edge_list = [(row['source'], row['target'], int(row['timestamp'])) for _, row in dataset.iterrows()]"
   ]
  },
  {
   "cell_type": "code",
   "execution_count": 3,
   "id": "69d78f9f",
   "metadata": {},
   "outputs": [],
   "source": [
    "data = TimeStampedLinkList.from_edgelist(edge_list)"
   ]
  },
  {
   "cell_type": "code",
   "execution_count": 4,
   "id": "269cd382",
   "metadata": {},
   "outputs": [],
   "source": [
    "# delta, K\n",
    "fixed_k_config = [\n",
    "    (1, 3),\n",
    "    (2, 3),\n",
    "    (3, 3),\n",
    "    (5, 3),\n",
    "    (10, 3),\n",
    "    (15, 3)\n",
    "]"
   ]
  },
  {
   "cell_type": "markdown",
   "id": "5d728d8a",
   "metadata": {},
   "source": [
    "## PaCo"
   ]
  },
  {
   "cell_type": "code",
   "execution_count": 5,
   "id": "5e62b757",
   "metadata": {},
   "outputs": [],
   "source": [
    "def execute_paco(delta, k):\n",
    "    start = time()\n",
    "    C = paco(data, delta, k)\n",
    "    end = time()\n",
    "    \n",
    "    count = sum(C.values())\n",
    "    return count, end-start"
   ]
  },
  {
   "cell_type": "code",
   "execution_count": 6,
   "id": "b3527ef2",
   "metadata": {},
   "outputs": [
    {
     "name": "stderr",
     "output_type": "stream",
     "text": [
      "100%|█████████████████████████████████████████████████████████████████████████████████████████████████████████████████████████████████████████████████████████████████████████████████| 6/6 [00:00<00:00,  7.72it/s]\n"
     ]
    }
   ],
   "source": [
    "results = []\n",
    "for delta_sec, k in tqdm(fixed_k_config):\n",
    "    result = execute_paco(delta_sec, k)\n",
    "    results.append(result)"
   ]
  },
  {
   "cell_type": "code",
   "execution_count": 7,
   "id": "bca8fb2f",
   "metadata": {},
   "outputs": [],
   "source": [
    "#runtimes_min = [runtime_sec / 60 for _, runtime_sec in results]\n",
    "#deltas_min = [delta_sec / 60 for delta_sec, _ in fixed_k_config]\n",
    "_, paco_runtimes_sec = zip(*results)\n",
    "paco_deltas_sec, _ = zip(*fixed_k_config)"
   ]
  },
  {
   "cell_type": "markdown",
   "id": "b52791d9",
   "metadata": {},
   "source": [
    "## Baseline"
   ]
  },
  {
   "cell_type": "code",
   "execution_count": 8,
   "id": "f01fae16",
   "metadata": {},
   "outputs": [
    {
     "name": "stderr",
     "output_type": "stream",
     "text": [
      "100%|██████████████████████████████████████████████████████████████████████████████████████████████████████████████████████████████████████████████████████████████████████| 59835/59835 [00:01<00:00, 57184.84it/s]\n"
     ]
    }
   ],
   "source": [
    "t = create_temporal_network(edge_list)"
   ]
  },
  {
   "cell_type": "code",
   "execution_count": 9,
   "id": "653c0dcb",
   "metadata": {},
   "outputs": [
    {
     "name": "stderr",
     "output_type": "stream",
     "text": [
      "\r",
      "  0%|                                                                                                                                                                                         | 0/6 [00:00<?, ?it/s]"
     ]
    },
    {
     "name": "stdout",
     "output_type": "stream",
     "text": [
      "2023-12-17 21:15:16 [Severity.INFO]\tConstructing time-unfolded DAG ...\n",
      "2023-12-17 21:15:16 [Severity.INFO]\tfinished.\n",
      "Directed Acyclic Graph\n",
      "Nodes:\t\t119386\n",
      "Roots:\t\t59607\n",
      "Leaves:\t\t59725\n",
      "Links:\t\t59798\n",
      "Acyclic:\tNone\n",
      "\n",
      "2023-12-17 21:15:16 [Severity.INFO]\tGenerating causal trees for 59607 root nodes ...\n",
      "2023-12-17 21:15:18 [Severity.INFO]\tfinished.\n"
     ]
    },
    {
     "name": "stderr",
     "output_type": "stream",
     "text": [
      "\r",
      " 17%|█████████████████████████████▌                                                                                                                                                   | 1/6 [00:01<00:09,  1.90s/it]"
     ]
    },
    {
     "name": "stdout",
     "output_type": "stream",
     "text": [
      "Number of causal paths: Total path count: \t\t59744.0 \n",
      "[Unique / Sub paths / Total]: \t[20348.0 / 119704.0 / 179448.0]\n",
      "Nodes:\t\t\t\t1899 \n",
      "Edges:\t\t\t\t20296\n",
      "Max. path length:\t\t2\n",
      "Avg path length:\t\t1.0012051419389394 \n",
      "Paths of length k = 0\t\t0.0 [ 0.0 / 119560.0 / 119560.0 ]\n",
      "Paths of length k = 1\t\t59672.0 [ 20276.0 / 144.0 / 59816.0 ]\n",
      "Paths of length k = 2\t\t72.0 [ 72.0 / 0.0 / 72.0 ]\n",
      "\n",
      "\n",
      "2023-12-17 21:15:18 [Severity.INFO]\tConstructing time-unfolded DAG ...\n",
      "2023-12-17 21:15:19 [Severity.INFO]\tfinished.\n",
      "Directed Acyclic Graph\n",
      "Nodes:\t\t179063\n",
      "Roots:\t\t59572\n",
      "Leaves:\t\t119402\n",
      "Links:\t\t119596\n",
      "Acyclic:\tNone\n",
      "\n",
      "2023-12-17 21:15:19 [Severity.INFO]\tGenerating causal trees for 59572 root nodes ...\n",
      "2023-12-17 21:15:20 [Severity.INFO]\tfinished.\n"
     ]
    },
    {
     "name": "stderr",
     "output_type": "stream",
     "text": [
      "\r",
      " 33%|███████████████████████████████████████████████████████████                                                                                                                      | 2/6 [00:04<00:08,  2.15s/it]"
     ]
    },
    {
     "name": "stdout",
     "output_type": "stream",
     "text": [
      "Number of causal paths: Total path count: \t\t59710.0 \n",
      "[Unique / Sub paths / Total]: \t[20387.0 / 119807.0 / 179517.0]\n",
      "Nodes:\t\t\t\t1899 \n",
      "Edges:\t\t\t\t20296\n",
      "Max. path length:\t\t2\n",
      "Avg path length:\t\t1.0021604421369954 \n",
      "Paths of length k = 0\t\t0.0 [ 0.0 / 119549.0 / 119549.0 ]\n",
      "Paths of length k = 1\t\t59581.0 [ 20259.0 / 258.0 / 59839.0 ]\n",
      "Paths of length k = 2\t\t129.0 [ 128.0 / 0.0 / 129.0 ]\n",
      "\n",
      "\n",
      "2023-12-17 21:15:20 [Severity.INFO]\tConstructing time-unfolded DAG ...\n",
      "2023-12-17 21:15:21 [Severity.INFO]\tfinished.\n",
      "Directed Acyclic Graph\n",
      "Nodes:\t\t238657\n",
      "Roots:\t\t59535\n",
      "Leaves:\t\t178996\n",
      "Links:\t\t179394\n",
      "Acyclic:\tNone\n",
      "\n",
      "2023-12-17 21:15:21 [Severity.INFO]\tGenerating causal trees for 59535 root nodes ...\n",
      "2023-12-17 21:15:21 [Severity.INFO]\tAnalyzing tree 11907/59535 ...\n",
      "2023-12-17 21:15:22 [Severity.INFO]\tAnalyzing tree 23814/59535 ...\n",
      "2023-12-17 21:15:22 [Severity.INFO]\tAnalyzing tree 35721/59535 ...\n",
      "2023-12-17 21:15:22 [Severity.INFO]\tAnalyzing tree 47628/59535 ...\n",
      "2023-12-17 21:15:23 [Severity.INFO]\tAnalyzing tree 59535/59535 ...\n",
      "2023-12-17 21:15:23 [Severity.INFO]\tfinished.\n"
     ]
    },
    {
     "name": "stderr",
     "output_type": "stream",
     "text": [
      "\r",
      " 50%|████████████████████████████████████████████████████████████████████████████████████████▌                                                                                        | 3/6 [00:06<00:07,  2.42s/it]"
     ]
    },
    {
     "name": "stdout",
     "output_type": "stream",
     "text": [
      "Number of causal paths: Total path count: \t\t59669.0 \n",
      "[Unique / Sub paths / Total]: \t[20417.0 / 119890.0 / 179559.0]\n",
      "Nodes:\t\t\t\t1899 \n",
      "Edges:\t\t\t\t20296\n",
      "Max. path length:\t\t2\n",
      "Avg path length:\t\t1.0030836782919104 \n",
      "Paths of length k = 0\t\t0.0 [ 0.0 / 119522.0 / 119522.0 ]\n",
      "Paths of length k = 1\t\t59485.0 [ 20235.0 / 368.0 / 59853.0 ]\n",
      "Paths of length k = 2\t\t184.0 [ 182.0 / 0.0 / 184.0 ]\n",
      "\n",
      "\n",
      "2023-12-17 21:15:23 [Severity.INFO]\tConstructing time-unfolded DAG ...\n",
      "2023-12-17 21:15:25 [Severity.INFO]\tfinished.\n",
      "Directed Acyclic Graph\n",
      "Nodes:\t\t357630\n",
      "Roots:\t\t59453\n",
      "Leaves:\t\t297969\n",
      "Links:\t\t298990\n",
      "Acyclic:\tNone\n",
      "\n",
      "2023-12-17 21:15:25 [Severity.INFO]\tGenerating causal trees for 59453 root nodes ...\n",
      "2023-12-17 21:15:26 [Severity.INFO]\tfinished.\n"
     ]
    },
    {
     "name": "stderr",
     "output_type": "stream",
     "text": [
      "\r",
      " 67%|██████████████████████████████████████████████████████████████████████████████████████████████████████████████████████                                                           | 4/6 [00:10<00:05,  2.87s/it]"
     ]
    },
    {
     "name": "stdout",
     "output_type": "stream",
     "text": [
      "Number of causal paths: Total path count: \t\t59588.0 \n",
      "[Unique / Sub paths / Total]: \t[20484.0 / 119986.0 / 179574.0]\n",
      "Nodes:\t\t\t\t1899 \n",
      "Edges:\t\t\t\t20296\n",
      "Max. path length:\t\t2\n",
      "Avg path length:\t\t1.004531113647043 \n",
      "Paths of length k = 0\t\t0.0 [ 0.0 / 119446.0 / 119446.0 ]\n",
      "Paths of length k = 1\t\t59318.0 [ 20220.0 / 540.0 / 59858.0 ]\n",
      "Paths of length k = 2\t\t270.0 [ 264.0 / 0.0 / 270.0 ]\n",
      "\n",
      "\n",
      "2023-12-17 21:15:26 [Severity.INFO]\tConstructing time-unfolded DAG ...\n",
      "2023-12-17 21:15:31 [Severity.INFO]\tfinished.\n",
      "Directed Acyclic Graph\n",
      "Nodes:\t\t653444\n",
      "Roots:\t\t59224\n",
      "Leaves:\t\t593783\n",
      "Links:\t\t597980\n",
      "Acyclic:\tNone\n",
      "\n",
      "2023-12-17 21:15:31 [Severity.INFO]\tGenerating causal trees for 59224 root nodes ...\n",
      "2023-12-17 21:15:32 [Severity.INFO]\tfinished.\n"
     ]
    },
    {
     "name": "stderr",
     "output_type": "stream",
     "text": [
      "\r",
      " 83%|███████████████████████████████████████████████████████████████████████████████████████████████████████████████████████████████████████████████████▌                             | 5/6 [00:16<00:04,  4.09s/it]"
     ]
    },
    {
     "name": "stdout",
     "output_type": "stream",
     "text": [
      "Number of causal paths: Total path count: \t\t59361.0 \n",
      "[Unique / Sub paths / Total]: \t[20637.0 / 120222.0 / 179583.0]\n",
      "Nodes:\t\t\t\t1899 \n",
      "Edges:\t\t\t\t20296\n",
      "Max. path length:\t\t3\n",
      "Avg path length:\t\t1.008406192618049 \n",
      "Paths of length k = 0\t\t0.0 [ 0.0 / 119221.0 / 119221.0 ]\n",
      "Paths of length k = 1\t\t58865.0 [ 20169.0 / 995.0 / 59860.0 ]\n",
      "Paths of length k = 2\t\t493.0 [ 465.0 / 6.0 / 499.0 ]\n",
      "Paths of length k = 3\t\t3.0 [ 3.0 / 0.0 / 3.0 ]\n",
      "\n",
      "\n",
      "2023-12-17 21:15:33 [Severity.INFO]\tConstructing time-unfolded DAG ...\n",
      "2023-12-17 21:15:39 [Severity.INFO]\tfinished.\n",
      "Directed Acyclic Graph\n",
      "Nodes:\t\t947044\n",
      "Roots:\t\t58958\n",
      "Leaves:\t\t887383\n",
      "Links:\t\t896970\n",
      "Acyclic:\tNone\n",
      "\n",
      "2023-12-17 21:15:39 [Severity.INFO]\tGenerating causal trees for 58958 root nodes ...\n",
      "2023-12-17 21:15:41 [Severity.INFO]\tfinished.\n",
      "Number of causal paths: Total path count: \t\t59098.0 \n",
      "[Unique / Sub paths / Total]: \t[20815.0 / 120527.0 / 179625.0]\n",
      "Nodes:\t\t\t\t1899 \n",
      "Edges:\t\t\t\t20296\n",
      "Max. path length:\t\t4\n",
      "Avg path length:\t\t1.0130122846796845 \n",
      "Paths of length k = 0\t\t0.0 [ 0.0 / 118965.0 / 118965.0 ]\n",
      "Paths of length k = 1\t\t58349.0 [ 20128.0 / 1518.0 / 59867.0 ]\n",
      "Paths of length k = 2\t\t733.0 [ 671.0 / 36.0 / 769.0 ]\n",
      "Paths of length k = 3\t\t12.0 [ 12.0 / 8.0 / 20.0 ]\n",
      "Paths of length k = 4\t\t4.0 [ 4.0 / 0.0 / 4.0 ]\n",
      "\n",
      "\n"
     ]
    },
    {
     "name": "stderr",
     "output_type": "stream",
     "text": [
      "100%|█████████████████████████████████████████████████████████████████████████████████████████████████████████████████████████████████████████████████████████████████████████████████| 6/6 [00:25<00:00,  4.27s/it]\n"
     ]
    }
   ],
   "source": [
    "results = []\n",
    "for delta_sec, k in tqdm(fixed_k_config):\n",
    "    result = get_total_causal_paths(t, delta_sec, k)\n",
    "    results.append(result)"
   ]
  },
  {
   "cell_type": "code",
   "execution_count": 10,
   "id": "750a7bd4",
   "metadata": {},
   "outputs": [],
   "source": [
    "_, baseline_runtimes_sec = zip(*results)\n",
    "baseline_deltas_sec, _ = zip(*fixed_k_config)"
   ]
  },
  {
   "cell_type": "markdown",
   "id": "cb084908",
   "metadata": {},
   "source": [
    "## Plots"
   ]
  },
  {
   "cell_type": "code",
   "execution_count": 12,
   "id": "3edbdada",
   "metadata": {},
   "outputs": [
    {
     "data": {
      "image/png": "[encoded data removed]",
      "text/plain": [
       "<Figure size 640x480 with 1 Axes>"
      ]
     },
     "metadata": {},
     "output_type": "display_data"
    }
   ],
   "source": [
    "plt.plot(paco_deltas_sec, paco_runtimes_sec, 's--', color='blue',label=\"PaCo\")\n",
    "plt.plot(baseline_deltas_sec, baseline_runtimes_sec, '^--', color='red',label=\"Baseline\")\n",
    "plt.xlabel(\"δ [sec]\")\n",
    "plt.ylabel(\"run-time [sec]\")\n",
    "plt.grid(True)\n",
    "plt.legend()\n",
    "plt.savefig('plots/collegemsg_middle_panel.png')\n",
    "plt.show()"
   ]
  }
 ],
 "metadata": {
  "kernelspec": {
   "display_name": "Python 3 (ipykernel)",
   "language": "python",
   "name": "python3"
  },
  "language_info": {
   "codemirror_mode": {
    "name": "ipython",
    "version": 3
   },
   "file_extension": ".py",
   "mimetype": "text/x-python",
   "name": "python",
   "nbconvert_exporter": "python",
   "pygments_lexer": "ipython3",
   "version": "3.10.13"
  }
 },
 "nbformat": 4,
 "nbformat_minor": 5
}
