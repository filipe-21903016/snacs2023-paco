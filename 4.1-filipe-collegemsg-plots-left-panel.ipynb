{
 "cells": [
  {
   "cell_type": "code",
   "execution_count": 1,
   "id": "d61036d6",
   "metadata": {},
   "outputs": [],
   "source": [
    "from main import load_edgelist\n",
    "from typing import List, Dict\n",
    "from paco import TimeStampedLinkList, paco\n",
    "from time import time\n",
    "from tqdm import tqdm, trange\n",
    "import matplotlib.pyplot as plt\n",
    "from baseline import create_temporal_network, get_total_causal_paths\n",
    "import random\n",
    "import pandas as pd"
   ]
  },
  {
   "cell_type": "code",
   "execution_count": 2,
   "id": "6a31e886",
   "metadata": {},
   "outputs": [],
   "source": [
    "dataset = pd.read_csv('CollegeMsg.txt', delimiter=' ', header=None)\n",
    "dataset.columns = ['source', 'target', 'timestamp']\n",
    "edge_list = [(row['source'], row['target'], int(row['timestamp'])) for _, row in dataset.iterrows()]"
   ]
  },
  {
   "cell_type": "code",
   "execution_count": 3,
   "id": "69d78f9f",
   "metadata": {},
   "outputs": [],
   "source": [
    "delta = 30\n",
    "k = 4"
   ]
  },
  {
   "cell_type": "code",
   "execution_count": 4,
   "id": "b623a4c9",
   "metadata": {},
   "outputs": [],
   "source": [
    "data = TimeStampedLinkList.from_edgelist(edge_list)"
   ]
  },
  {
   "cell_type": "code",
   "execution_count": 5,
   "id": "92b1829d",
   "metadata": {},
   "outputs": [],
   "source": [
    "def random_percentage_subset(input_list, percentage, seed=None):\n",
    "    if not 0 <= percentage <= 100:\n",
    "        raise ValueError(\"Percentage must be between 0 and 100.\")\n",
    "\n",
    "    # Set the seed for reproducibility\n",
    "    random.seed(seed)\n",
    "\n",
    "    # Calculate the number of elements to include\n",
    "    num_elements = int(len(input_list) * (percentage / 100))\n",
    "\n",
    "    # Randomly select elements\n",
    "    subset = random.sample(input_list, num_elements)\n",
    "\n",
    "    return subset"
   ]
  },
  {
   "cell_type": "markdown",
   "id": "e4a76415",
   "metadata": {},
   "source": [
    "## PaCo"
   ]
  },
  {
   "cell_type": "code",
   "execution_count": 6,
   "id": "8290e5bc",
   "metadata": {},
   "outputs": [],
   "source": [
    "def execute_paco(data, delta, k):     \n",
    "    start = time()\n",
    "    C = paco(data, delta, k)\n",
    "    end = time()\n",
    "    count = sum(C.values())\n",
    "    return count, end-start"
   ]
  },
  {
   "cell_type": "code",
   "execution_count": 7,
   "id": "cbb5fe78",
   "metadata": {},
   "outputs": [
    {
     "name": "stderr",
     "output_type": "stream",
     "text": [
      "100%|█████████████████████████████████████████████████████████████████████████████████████████████████████████████████████████████████████████████████████████████████████████████████| 5/5 [00:00<00:00,  6.94it/s]\n"
     ]
    }
   ],
   "source": [
    "splits = 5\n",
    "results = []\n",
    "for s in trange(1, splits + 1):\n",
    "    # Get percentage\n",
    "    percentage = int(100 / splits * s)\n",
    "    # Split dataset\n",
    "    n_edges = random_percentage_subset(edge_list, percentage, 28)\n",
    "    n_links = len(n_edges)\n",
    "    data = TimeStampedLinkList.from_edgelist(n_edges)\n",
    "    count, runtime = execute_paco(data, delta, k)\n",
    "    results.append((count, runtime, round(n_links / 10**3)))"
   ]
  },
  {
   "cell_type": "code",
   "execution_count": 8,
   "id": "4fae4620",
   "metadata": {},
   "outputs": [],
   "source": [
    "_, paco_runtimes_sec, paco_n_links = zip(*results)"
   ]
  },
  {
   "cell_type": "markdown",
   "id": "b7b8eb28",
   "metadata": {},
   "source": [
    "## Baseline"
   ]
  },
  {
   "cell_type": "code",
   "execution_count": 9,
   "id": "d9f2c9f9",
   "metadata": {
    "scrolled": true
   },
   "outputs": [
    {
     "name": "stderr",
     "output_type": "stream",
     "text": [
      "  0%|                                                                                                                                                                                         | 0/5 [00:00<?, ?it/s]\n",
      "  0%|                                                                                                                                                                                     | 0/11967 [00:00<?, ?it/s]\u001b[A\n",
      "100%|██████████████████████████████████████████████████████████████████████████████████████████████████████████████████████████████████████████████████████████████████████| 11967/11967 [00:00<00:00, 67083.71it/s]\u001b[A"
     ]
    },
    {
     "name": "stdout",
     "output_type": "stream",
     "text": [
      "2023-12-17 21:15:07 [Severity.INFO]\tConstructing time-unfolded DAG ...\n"
     ]
    },
    {
     "name": "stderr",
     "output_type": "stream",
     "text": [
      "\n"
     ]
    },
    {
     "name": "stdout",
     "output_type": "stream",
     "text": [
      "2023-12-17 21:15:10 [Severity.INFO]\tfinished.\n",
      "Directed Acyclic Graph\n",
      "Nodes:\t\t369238\n",
      "Roots:\t\t11848\n",
      "Leaves:\t\t357302\n",
      "Links:\t\t358920\n",
      "Acyclic:\tNone\n",
      "\n",
      "2023-12-17 21:15:10 [Severity.INFO]\tGenerating causal trees for 11848 root nodes ...\n",
      "2023-12-17 21:15:11 [Severity.INFO]\tfinished.\n"
     ]
    },
    {
     "name": "stderr",
     "output_type": "stream",
     "text": [
      "\r",
      " 20%|███████████████████████████████████▍                                                                                                                                             | 1/5 [00:03<00:14,  3.74s/it]"
     ]
    },
    {
     "name": "stdout",
     "output_type": "stream",
     "text": [
      "Number of causal paths: Total path count: \t\t11876.0 \n",
      "[Unique / Sub paths / Total]: \t[7572.0 / 24013.0 / 35889.0]\n",
      "Nodes:\t\t\t\t1391 \n",
      "Edges:\t\t\t\t7541\n",
      "Max. path length:\t\t2\n",
      "Avg path length:\t\t1.0073256988885146 \n",
      "Paths of length k = 0\t\t0.0 [ 0.0 / 23839.0 / 23839.0 ]\n",
      "Paths of length k = 1\t\t11789.0 [ 7485.0 / 174.0 / 11963.0 ]\n",
      "Paths of length k = 2\t\t87.0 [ 87.0 / 0.0 / 87.0 ]\n",
      "\n",
      "\n"
     ]
    },
    {
     "name": "stderr",
     "output_type": "stream",
     "text": [
      "\n",
      "  0%|                                                                                                                                                                                     | 0/23934 [00:00<?, ?it/s]\u001b[A\n",
      " 44%|████████████████████████████████████████████████████████████████████████▊                                                                                            | 10558/23934 [00:00<00:00, 105569.53it/s]\u001b[A\n",
      "100%|██████████████████████████████████████████████████████████████████████████████████████████████████████████████████████████████████████████████████████████████████████| 23934/23934 [00:00<00:00, 66098.35it/s]\u001b[A"
     ]
    },
    {
     "name": "stdout",
     "output_type": "stream",
     "text": [
      "2023-12-17 21:15:11 [Severity.INFO]\tConstructing time-unfolded DAG ...\n"
     ]
    },
    {
     "name": "stderr",
     "output_type": "stream",
     "text": [
      "\n"
     ]
    },
    {
     "name": "stdout",
     "output_type": "stream",
     "text": [
      "2023-12-17 21:15:17 [Severity.INFO]\tfinished.\n",
      "Directed Acyclic Graph\n",
      "Nodes:\t\t734680\n",
      "Roots:\t\t23569\n",
      "Leaves:\t\t710812\n",
      "Links:\t\t717690\n",
      "Acyclic:\tNone\n",
      "\n",
      "2023-12-17 21:15:17 [Severity.INFO]\tGenerating causal trees for 23569 root nodes ...\n",
      "2023-12-17 21:15:18 [Severity.INFO]\tfinished.\n"
     ]
    },
    {
     "name": "stderr",
     "output_type": "stream",
     "text": [
      "\r",
      " 40%|██████████████████████████████████████████████████████████████████████▊                                                                                                          | 2/5 [00:11<00:18,  6.21s/it]"
     ]
    },
    {
     "name": "stdout",
     "output_type": "stream",
     "text": [
      "Number of causal paths: Total path count: \t\t23627.0 \n",
      "[Unique / Sub paths / Total]: \t[12188.0 / 48172.0 / 71799.0]\n",
      "Nodes:\t\t\t\t1622 \n",
      "Edges:\t\t\t\t12028\n",
      "Max. path length:\t\t3\n",
      "Avg path length:\t\t1.0127396622508147 \n",
      "Paths of length k = 0\t\t0.0 [ 0.0 / 47555.0 / 47555.0 ]\n",
      "Paths of length k = 1\t\t23341.0 [ 11908.0 / 587.0 / 23928.0 ]\n",
      "Paths of length k = 2\t\t271.0 [ 265.0 / 30.0 / 301.0 ]\n",
      "Paths of length k = 3\t\t15.0 [ 15.0 / 0.0 / 15.0 ]\n",
      "\n",
      "\n"
     ]
    },
    {
     "name": "stderr",
     "output_type": "stream",
     "text": [
      "\n",
      "  0%|                                                                                                                                                                                     | 0/35901 [00:00<?, ?it/s]\u001b[A\n",
      " 28%|██████████████████████████████████████████████                                                                                                                       | 10035/35901 [00:00<00:00, 100342.20it/s]\u001b[A\n",
      " 56%|████████████████████████████████████████████████████████████████████████████████████████████▊                                                                         | 20070/35901 [00:00<00:00, 79572.87it/s]\u001b[A\n",
      " 79%|██████████████████████████████████████████████████████████████████████████████████████████████████████████████████████████████████▊                                   | 28291/35901 [00:00<00:00, 68411.53it/s]\u001b[A\n",
      "100%|██████████████████████████████████████████████████████████████████████████████████████████████████████████████████████████████████████████████████████████████████████| 35901/35901 [00:00<00:00, 66063.61it/s]\u001b[A"
     ]
    },
    {
     "name": "stdout",
     "output_type": "stream",
     "text": [
      "2023-12-17 21:15:19 [Severity.INFO]\tConstructing time-unfolded DAG ...\n"
     ]
    },
    {
     "name": "stderr",
     "output_type": "stream",
     "text": [
      "\n"
     ]
    },
    {
     "name": "stdout",
     "output_type": "stream",
     "text": [
      "2023-12-17 21:15:28 [Severity.INFO]\tfinished.\n",
      "Directed Acyclic Graph\n",
      "Nodes:\t\t1097448\n",
      "Roots:\t\t35105\n",
      "Leaves:\t\t1061651\n",
      "Links:\t\t1076340\n",
      "Acyclic:\tNone\n",
      "\n",
      "2023-12-17 21:15:28 [Severity.INFO]\tGenerating causal trees for 35105 root nodes ...\n",
      "2023-12-17 21:15:29 [Severity.INFO]\tAnalyzing tree 7021/35105 ...\n",
      "2023-12-17 21:15:29 [Severity.INFO]\tAnalyzing tree 14042/35105 ...\n",
      "2023-12-17 21:15:29 [Severity.INFO]\tAnalyzing tree 21063/35105 ...\n",
      "2023-12-17 21:15:30 [Severity.INFO]\tAnalyzing tree 28084/35105 ...\n",
      "2023-12-17 21:15:30 [Severity.INFO]\tAnalyzing tree 35105/35105 ...\n",
      "2023-12-17 21:15:30 [Severity.INFO]\tfinished.\n"
     ]
    },
    {
     "name": "stderr",
     "output_type": "stream",
     "text": [
      "\r",
      " 60%|██████████████████████████████████████████████████████████████████████████████████████████████████████████▏                                                                      | 3/5 [00:23<00:17,  8.74s/it]"
     ]
    },
    {
     "name": "stdout",
     "output_type": "stream",
     "text": [
      "Number of causal paths: Total path count: \t\t35211.0 \n",
      "[Unique / Sub paths / Total]: \t[15758.0 / 72624.0 / 107835.0]\n",
      "Nodes:\t\t\t\t1751 \n",
      "Edges:\t\t\t\t15358\n",
      "Max. path length:\t\t6\n",
      "Avg path length:\t\t1.0201073528158815 \n",
      "Paths of length k = 0\t\t0.0 [ 0.0 / 71130.0 / 71130.0 ]\n",
      "Paths of length k = 1\t\t34563.0 [ 15160.0 / 1356.0 / 35919.0 ]\n",
      "Paths of length k = 2\t\t601.0 [ 551.0 / 107.0 / 708.0 ]\n",
      "Paths of length k = 3\t\t38.0 [ 38.0 / 22.0 / 60.0 ]\n",
      "Paths of length k = 4\t\t6.0 [ 6.0 / 7.0 / 13.0 ]\n",
      "Paths of length k = 5\t\t2.0 [ 2.0 / 2.0 / 4.0 ]\n",
      "Paths of length k = 6\t\t1.0 [ 1.0 / 0.0 / 1.0 ]\n",
      "\n",
      "\n"
     ]
    },
    {
     "name": "stderr",
     "output_type": "stream",
     "text": [
      "\n",
      "  0%|                                                                                                                                                                                     | 0/47868 [00:00<?, ?it/s]\u001b[A\n",
      " 21%|███████████████████████████████████▏                                                                                                                                 | 10226/47868 [00:00<00:00, 102244.50it/s]\u001b[A\n",
      " 43%|██████████████████████████████████████████████████████████████████████▉                                                                                               | 20451/47868 [00:00<00:00, 78392.51it/s]\u001b[A\n",
      " 60%|███████████████████████████████████████████████████████████████████████████████████████████████████▎                                                                  | 28626/47868 [00:00<00:00, 68166.18it/s]\u001b[A\n",
      " 75%|███████████████████████████████████████████████████████████████████████████████████████████████████████████████████████████▋                                          | 35675/47868 [00:00<00:00, 61217.20it/s]\u001b[A\n",
      " 88%|█████████████████████████████████████████████████████████████████████████████████████████████████████████████████████████████████████████████████▍                    | 41945/47868 [00:00<00:00, 57285.76it/s]\u001b[A\n",
      "100%|██████████████████████████████████████████████████████████████████████████████████████████████████████████████████████████████████████████████████████████████████████| 47868/47868 [00:00<00:00, 60617.95it/s]\u001b[A"
     ]
    },
    {
     "name": "stdout",
     "output_type": "stream",
     "text": [
      "2023-12-17 21:15:31 [Severity.INFO]\tConstructing time-unfolded DAG ...\n"
     ]
    },
    {
     "name": "stderr",
     "output_type": "stream",
     "text": [
      "\n"
     ]
    },
    {
     "name": "stdout",
     "output_type": "stream",
     "text": [
      "2023-12-17 21:15:43 [Severity.INFO]\tfinished.\n",
      "Directed Acyclic Graph\n",
      "Nodes:\t\t1457169\n",
      "Roots:\t\t46527\n",
      "Leaves:\t\t1409441\n",
      "Links:\t\t1435140\n",
      "Acyclic:\tNone\n",
      "\n",
      "2023-12-17 21:15:43 [Severity.INFO]\tGenerating causal trees for 46527 root nodes ...\n",
      "2023-12-17 21:15:46 [Severity.INFO]\tfinished.\n"
     ]
    },
    {
     "name": "stderr",
     "output_type": "stream",
     "text": [
      "\r",
      " 80%|█████████████████████████████████████████████████████████████████████████████████████████████████████████████████████████████████████████████▌                                   | 4/5 [00:39<00:11, 11.49s/it]"
     ]
    },
    {
     "name": "stdout",
     "output_type": "stream",
     "text": [
      "Number of causal paths: Total path count: \t\t46689.0 \n",
      "[Unique / Sub paths / Total]: \t[18822.0 / 97437.0 / 144126.0]\n",
      "Nodes:\t\t\t\t1831 \n",
      "Edges:\t\t\t\t18056\n",
      "Max. path length:\t\t6\n",
      "Avg path length:\t\t1.0278866542440404 \n",
      "Paths of length k = 0\t\t0.0 [ 0.0 / 94680.0 / 94680.0 ]\n",
      "Paths of length k = 1\t\t45511.0 [ 17761.0 / 2480.0 / 47991.0 ]\n",
      "Paths of length k = 2\t\t1077.0 [ 963.0 / 225.0 / 1302.0 ]\n",
      "Paths of length k = 3\t\t83.0 [ 81.0 / 41.0 / 124.0 ]\n",
      "Paths of length k = 4\t\t14.0 [ 13.0 / 9.0 / 23.0 ]\n",
      "Paths of length k = 5\t\t3.0 [ 3.0 / 2.0 / 5.0 ]\n",
      "Paths of length k = 6\t\t1.0 [ 1.0 / 0.0 / 1.0 ]\n",
      "\n",
      "\n"
     ]
    },
    {
     "name": "stderr",
     "output_type": "stream",
     "text": [
      "\n",
      "  0%|                                                                                                                                                                                     | 0/59835 [00:00<?, ?it/s]\u001b[A\n",
      " 17%|████████████████████████████                                                                                                                                         | 10155/59835 [00:00<00:00, 101543.80it/s]\u001b[A\n",
      " 34%|████████████████████████████████████████████████████████▎                                                                                                             | 20310/59835 [00:00<00:00, 80925.43it/s]\u001b[A\n",
      " 48%|███████████████████████████████████████████████████████████████████████████████▌                                                                                      | 28660/59835 [00:00<00:00, 70380.02it/s]\u001b[A\n",
      " 60%|███████████████████████████████████████████████████████████████████████████████████████████████████▌                                                                  | 35901/59835 [00:00<00:00, 49036.71it/s]\u001b[A\n",
      " 69%|███████████████████████████████████████████████████████████████████████████████████████████████████████████████████                                                   | 41494/59835 [00:00<00:00, 48244.46it/s]\u001b[A\n",
      " 78%|█████████████████████████████████████████████████████████████████████████████████████████████████████████████████████████████████▋                                    | 46738/59835 [00:00<00:00, 47120.77it/s]\u001b[A\n",
      " 86%|███████████████████████████████████████████████████████████████████████████████████████████████████████████████████████████████████████████████▍                      | 51704/59835 [00:00<00:00, 45664.30it/s]\u001b[A\n",
      "100%|██████████████████████████████████████████████████████████████████████████████████████████████████████████████████████████████████████████████████████████████████████| 59835/59835 [00:01<00:00, 50554.67it/s]\u001b[A"
     ]
    },
    {
     "name": "stdout",
     "output_type": "stream",
     "text": [
      "2023-12-17 21:15:47 [Severity.INFO]\tConstructing time-unfolded DAG ...\n"
     ]
    },
    {
     "name": "stderr",
     "output_type": "stream",
     "text": [
      "\n"
     ]
    },
    {
     "name": "stdout",
     "output_type": "stream",
     "text": [
      "2023-12-17 21:16:03 [Severity.INFO]\tfinished.\n",
      "Directed Acyclic Graph\n",
      "Nodes:\t\t1814534\n",
      "Roots:\t\t57872\n",
      "Leaves:\t\t1754873\n",
      "Links:\t\t1793940\n",
      "Acyclic:\tNone\n",
      "\n",
      "2023-12-17 21:16:03 [Severity.INFO]\tGenerating causal trees for 57872 root nodes ...\n",
      "2023-12-17 21:16:06 [Severity.INFO]\tfinished.\n"
     ]
    },
    {
     "name": "stderr",
     "output_type": "stream",
     "text": [
      "100%|█████████████████████████████████████████████████████████████████████████████████████████████████████████████████████████████████████████████████████████████████████████████████| 5/5 [00:59<00:00, 11.97s/it]"
     ]
    },
    {
     "name": "stdout",
     "output_type": "stream",
     "text": [
      "Number of causal paths: Total path count: \t\t58100.0 \n",
      "[Unique / Sub paths / Total]: \t[21444.0 / 122316.0 / 180416.0]\n",
      "Nodes:\t\t\t\t1899 \n",
      "Edges:\t\t\t\t20296\n",
      "Max. path length:\t\t6\n",
      "Avg path length:\t\t1.0334767641996558 \n",
      "Paths of length k = 0\t\t0.0 [ 0.0 / 118145.0 / 118145.0 ]\n",
      "Paths of length k = 1\t\t56364.0 [ 19940.0 / 3681.0 / 60045.0 ]\n",
      "Paths of length k = 2\t\t1582.0 [ 1354.0 / 363.0 / 1945.0 ]\n",
      "Paths of length k = 3\t\t113.0 [ 111.0 / 96.0 / 209.0 ]\n",
      "Paths of length k = 4\t\t30.0 [ 28.0 / 25.0 / 55.0 ]\n",
      "Paths of length k = 5\t\t8.0 [ 8.0 / 6.0 / 14.0 ]\n",
      "Paths of length k = 6\t\t3.0 [ 3.0 / 0.0 / 3.0 ]\n",
      "\n",
      "\n"
     ]
    },
    {
     "name": "stderr",
     "output_type": "stream",
     "text": [
      "\n"
     ]
    }
   ],
   "source": [
    "splits = 5\n",
    "results = []\n",
    "for s in trange(1, splits + 1):\n",
    "    # Get percentage\n",
    "    percentage = int(100 / splits * s)\n",
    "    \n",
    "    # Split dataset\n",
    "    n_edges = random_percentage_subset(edge_list, percentage, 28)\n",
    "    n_links = len(n_edges)\n",
    "    \n",
    "    # Create pathpy temporal network\n",
    "    t = create_temporal_network(n_edges)\n",
    "    \n",
    "    # Calculate paths\n",
    "    count, runtime = get_total_causal_paths(t, delta, k)\n",
    "    \n",
    "    \n",
    "    results.append((count, runtime, round(n_links / 10**3)))"
   ]
  },
  {
   "cell_type": "code",
   "execution_count": 10,
   "id": "9718d0f0",
   "metadata": {},
   "outputs": [],
   "source": [
    "_, baseline_runtimes_sec, baseline_n_links = zip(*results)"
   ]
  },
  {
   "cell_type": "markdown",
   "id": "4b7f1afc",
   "metadata": {},
   "source": [
    "## Plots"
   ]
  },
  {
   "cell_type": "code",
   "execution_count": 11,
   "id": "39274ace",
   "metadata": {},
   "outputs": [
    {
     "data": {
      "image/png": "[encoded data removed]",
      "text/plain": [
       "<Figure size 640x480 with 1 Axes>"
      ]
     },
     "metadata": {},
     "output_type": "display_data"
    }
   ],
   "source": [
    "plt.plot(paco_n_links, paco_runtimes_sec, 's--', color='blue',label=\"PaCo\")\n",
    "plt.plot(baseline_n_links, baseline_runtimes_sec, '^--', color='red',label=\"Baseline\")\n",
    "plt.xlabel(\"N [x$10^3$]\")\n",
    "plt.ylabel(\"run-time [sec]\")\n",
    "plt.grid(True)\n",
    "plt.legend()\n",
    "plt.savefig('plots/collegemsg_left_panel.png')\n",
    "plt.show()"
   ]
  }
 ],
 "metadata": {
  "kernelspec": {
   "display_name": "Python 3 (ipykernel)",
   "language": "python",
   "name": "python3"
  },
  "language_info": {
   "codemirror_mode": {
    "name": "ipython",
    "version": 3
   },
   "file_extension": ".py",
   "mimetype": "text/x-python",
   "name": "python",
   "nbconvert_exporter": "python",
   "pygments_lexer": "ipython3",
   "version": "3.10.13"
  }
 },
 "nbformat": 4,
 "nbformat_minor": 5
}
