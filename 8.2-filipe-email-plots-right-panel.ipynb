{
 "cells": [
  {
   "cell_type": "code",
   "execution_count": 1,
   "id": "d61036d6",
   "metadata": {},
   "outputs": [],
   "source": [
    "from main import load_edgelist\n",
    "from typing import List, Dict\n",
    "from paco import TimeStampedLinkList, paco\n",
    "from time import time\n",
    "from tqdm import tqdm, trange\n",
    "import matplotlib.pyplot as plt\n",
    "from baseline import create_temporal_network, get_total_causal_paths\n",
    "import pandas as pd"
   ]
  },
  {
   "cell_type": "code",
   "execution_count": 2,
   "id": "9798c01b",
   "metadata": {},
   "outputs": [],
   "source": [
    "dataset = pd.read_csv('email-Eu-core-temporal.txt', delimiter=' ', header=None)\n",
    "dataset.columns = ['source', 'target', 'timestamp']\n",
    "edge_list = [(row['source'], row['target'], int(row['timestamp'])) for _, row in dataset.iterrows()]"
   ]
  },
  {
   "cell_type": "code",
   "execution_count": 3,
   "id": "69d78f9f",
   "metadata": {},
   "outputs": [],
   "source": [
    "data = TimeStampedLinkList.from_edgelist(edge_list)"
   ]
  },
  {
   "cell_type": "code",
   "execution_count": 4,
   "id": "269cd382",
   "metadata": {},
   "outputs": [],
   "source": [
    "delta = 30 #seconds"
   ]
  },
  {
   "cell_type": "markdown",
   "id": "5d728d8a",
   "metadata": {},
   "source": [
    "## PaCo"
   ]
  },
  {
   "cell_type": "code",
   "execution_count": 5,
   "id": "5e62b757",
   "metadata": {},
   "outputs": [],
   "source": [
    "def execute_paco(delta, k):\n",
    "    start = time()\n",
    "    C = paco(data, delta, k)\n",
    "    end = time()\n",
    "    \n",
    "    count = sum(C.values())\n",
    "    return count, end-start"
   ]
  },
  {
   "cell_type": "code",
   "execution_count": 6,
   "id": "b3527ef2",
   "metadata": {},
   "outputs": [
    {
     "name": "stderr",
     "output_type": "stream",
     "text": [
      "100%|█████████████████████████████████████████████████████████████████████████████████████████████████████████████████████████████████████████████████████████████████████████████████| 5/5 [00:03<00:00,  1.36it/s]\n"
     ]
    }
   ],
   "source": [
    "results = []\n",
    "for k in trange(1, 6):\n",
    "    count, runtime = execute_paco(delta, k)\n",
    "    results.append((count, runtime, k))"
   ]
  },
  {
   "cell_type": "code",
   "execution_count": 7,
   "id": "bca8fb2f",
   "metadata": {},
   "outputs": [],
   "source": [
    "_, paco_runtimes_sec, paco_k = zip(*results)"
   ]
  },
  {
   "cell_type": "markdown",
   "id": "b52791d9",
   "metadata": {},
   "source": [
    "## Baseline"
   ]
  },
  {
   "cell_type": "code",
   "execution_count": 8,
   "id": "f01fae16",
   "metadata": {},
   "outputs": [
    {
     "name": "stderr",
     "output_type": "stream",
     "text": [
      "100%|████████████████████████████████████████████████████████████████████████████████████████████████████████████████████████████████████████████████████████████████████| 332334/332334 [00:04<00:00, 78599.25it/s]\n"
     ]
    }
   ],
   "source": [
    "t = create_temporal_network(edge_list)"
   ]
  },
  {
   "cell_type": "code",
   "execution_count": null,
   "id": "653c0dcb",
   "metadata": {},
   "outputs": [
    {
     "name": "stderr",
     "output_type": "stream",
     "text": [
      "\r",
      "  0%|                                                                                                                                                                                         | 0/5 [00:00<?, ?it/s]"
     ]
    },
    {
     "name": "stdout",
     "output_type": "stream",
     "text": [
      "2023-12-18 00:26:55 [Severity.INFO]\tConstructing time-unfolded DAG ...\n",
      "2023-12-18 00:29:21 [Severity.INFO]\tfinished.\n",
      "Directed Acyclic Graph\n",
      "Nodes:\t\t9922811\n",
      "Roots:\t\t208485\n",
      "Leaves:\t\t9713303\n",
      "Links:\t\t9820080\n",
      "Acyclic:\tNone\n",
      "\n",
      "2023-12-18 00:29:21 [Severity.INFO]\tGenerating causal trees for 208485 root nodes ...\n",
      "2023-12-18 00:29:26 [Severity.INFO]\tAnalyzing tree 41697/208485 ...\n",
      "2023-12-18 00:29:31 [Severity.INFO]\tAnalyzing tree 83394/208485 ...\n",
      "2023-12-18 00:29:36 [Severity.INFO]\tAnalyzing tree 125091/208485 ...\n",
      "2023-12-18 00:29:41 [Severity.INFO]\tAnalyzing tree 166788/208485 ...\n",
      "2023-12-18 00:29:46 [Severity.INFO]\tAnalyzing tree 208485/208485 ...\n",
      "2023-12-18 00:29:46 [Severity.INFO]\tfinished.\n"
     ]
    },
    {
     "name": "stderr",
     "output_type": "stream",
     "text": [
      "\r",
      " 20%|███████████████████████████████████▏                                                                                                                                            | 1/5 [02:53<11:35, 173.96s/it]"
     ]
    },
    {
     "name": "stdout",
     "output_type": "stream",
     "text": [
      "Number of causal paths: Total path count: \t\t326333.0 \n",
      "[Unique / Sub paths / Total]: \t[26109.0 / 657204.0 / 983537.0]\n",
      "Nodes:\t\t\t\t986 \n",
      "Edges:\t\t\t\t24929\n",
      "Max. path length:\t\t7\n",
      "Avg path length:\t\t1.0045658882184763 \n",
      "Paths of length k = 0\t\t0.0 [ 0.0 / 654156.0 / 654156.0 ]\n",
      "Paths of length k = 1\t\t324892.0 [ 24868.0 / 2931.0 / 327823.0 ]\n",
      "Paths of length k = 2\t\t1401.0 [ 1211.0 / 89.0 / 1490.0 ]\n",
      "Paths of length k = 3\t\t37.0 [ 27.0 / 12.0 / 49.0 ]\n",
      "Paths of length k = 4\t\t0.0 [ 0.0 / 9.0 / 9.0 ]\n",
      "Paths of length k = 5\t\t1.0 [ 1.0 / 5.0 / 6.0 ]\n",
      "Paths of length k = 6\t\t1.0 [ 1.0 / 2.0 / 3.0 ]\n",
      "Paths of length k = 7\t\t1.0 [ 1.0 / 0.0 / 1.0 ]\n",
      "\n",
      "\n",
      "2023-12-18 00:29:49 [Severity.INFO]\tConstructing time-unfolded DAG ...\n"
     ]
    }
   ],
   "source": [
    "results = []\n",
    "for k in trange(1, 6):\n",
    "    count, runtime = get_total_causal_paths(t, delta, k)\n",
    "    results.append((count, runtime, k))"
   ]
  },
  {
   "cell_type": "code",
   "execution_count": null,
   "id": "750a7bd4",
   "metadata": {},
   "outputs": [],
   "source": [
    "_, baseline_runtimes_sec, baseline_k = zip(*results)"
   ]
  },
  {
   "cell_type": "markdown",
   "id": "cb084908",
   "metadata": {},
   "source": [
    "## Plots"
   ]
  },
  {
   "cell_type": "code",
   "execution_count": null,
   "id": "3edbdada",
   "metadata": {},
   "outputs": [],
   "source": [
    "plt.plot(paco_k, paco_runtimes_sec, 's--', color='blue',label=\"PaCo\")\n",
    "plt.plot(baseline_k, baseline_runtimes_sec, '^--', color='red',label=\"Baseline\")\n",
    "plt.xlabel(\"K\")\n",
    "plt.ylabel(\"run-time [sec]\")\n",
    "plt.grid(True)\n",
    "plt.legend()\n",
    "plt.savefig('plots/email_right_panel.png')\n",
    "plt.show()"
   ]
  }
 ],
 "metadata": {
  "kernelspec": {
   "display_name": "Python 3 (ipykernel)",
   "language": "python",
   "name": "python3"
  },
  "language_info": {
   "codemirror_mode": {
    "name": "ipython",
    "version": 3
   },
   "file_extension": ".py",
   "mimetype": "text/x-python",
   "name": "python",
   "nbconvert_exporter": "python",
   "pygments_lexer": "ipython3",
   "version": "3.10.13"
  }
 },
 "nbformat": 4,
 "nbformat_minor": 5
}
