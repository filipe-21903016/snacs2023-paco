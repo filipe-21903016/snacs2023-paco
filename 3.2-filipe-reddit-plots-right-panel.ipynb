{
 "cells": [
  {
   "cell_type": "code",
   "execution_count": 4,
   "id": "d61036d6",
   "metadata": {},
   "outputs": [],
   "source": [
    "from main import load_edgelist\n",
    "from typing import List, Dict\n",
    "from paco import TimeStampedLinkList, paco\n",
    "from time import time\n",
    "from tqdm import tqdm, trange\n",
    "import matplotlib.pyplot as plt\n",
    "from baseline import create_temporal_network, get_total_causal_paths"
   ]
  },
  {
   "cell_type": "code",
   "execution_count": 2,
   "id": "69d78f9f",
   "metadata": {},
   "outputs": [],
   "source": [
    "edge_list = load_edgelist()\n",
    "data = TimeStampedLinkList.from_edgelist(edge_list)"
   ]
  },
  {
   "cell_type": "code",
   "execution_count": 3,
   "id": "269cd382",
   "metadata": {},
   "outputs": [],
   "source": [
    "delta = 30 #seconds"
   ]
  },
  {
   "cell_type": "markdown",
   "id": "5d728d8a",
   "metadata": {},
   "source": [
    "## PaCo"
   ]
  },
  {
   "cell_type": "code",
   "execution_count": 5,
   "id": "5e62b757",
   "metadata": {},
   "outputs": [],
   "source": [
    "def execute_paco(delta, k):\n",
    "    start = time()\n",
    "    C = paco(data, delta, k)\n",
    "    end = time()\n",
    "    \n",
    "    count = sum(C.values())\n",
    "    return count, end-start"
   ]
  },
  {
   "cell_type": "code",
   "execution_count": 6,
   "id": "b3527ef2",
   "metadata": {},
   "outputs": [
    {
     "name": "stderr",
     "output_type": "stream",
     "text": [
      "100%|█████████████████████████████████████████████████████████████████████████████████████████████████████████████████████████████████████████████████████████████████████████████████| 5/5 [00:06<00:00,  1.35s/it]\n"
     ]
    }
   ],
   "source": [
    "results = []\n",
    "for k in trange(1, 6):\n",
    "    count, runtime = execute_paco(delta, k)\n",
    "    results.append((count, runtime, k))"
   ]
  },
  {
   "cell_type": "code",
   "execution_count": 10,
   "id": "bca8fb2f",
   "metadata": {},
   "outputs": [],
   "source": [
    "_, paco_runtimes_sec, paco_k = zip(*results)"
   ]
  },
  {
   "cell_type": "markdown",
   "id": "b52791d9",
   "metadata": {},
   "source": [
    "## Baseline"
   ]
  },
  {
   "cell_type": "code",
   "execution_count": 11,
   "id": "f01fae16",
   "metadata": {},
   "outputs": [
    {
     "name": "stderr",
     "output_type": "stream",
     "text": [
      "100%|█████████████████████████████████████████████████████████████████████████████████████████████████████████████████████████████████████████████████████████████████████| 571927/571927 [01:03<00:00, 9041.87it/s]\n"
     ]
    }
   ],
   "source": [
    "t = create_temporal_network(edge_list)"
   ]
  },
  {
   "cell_type": "code",
   "execution_count": 13,
   "id": "653c0dcb",
   "metadata": {},
   "outputs": [
    {
     "name": "stderr",
     "output_type": "stream",
     "text": [
      "\r",
      "  0%|                                                                                                                                                                                         | 0/5 [00:00<?, ?it/s]"
     ]
    },
    {
     "name": "stdout",
     "output_type": "stream",
     "text": [
      "2023-12-17 20:38:47 [Severity.INFO]\tConstructing time-unfolded DAG ...\n",
      "2023-12-17 20:41:29 [Severity.INFO]\tfinished.\n",
      "Directed Acyclic Graph\n",
      "Nodes:\t\t17311921\n",
      "Roots:\t\t487325\n",
      "Leaves:\t\t16824514\n",
      "Links:\t\t16844490\n",
      "Acyclic:\tNone\n",
      "\n",
      "2023-12-17 20:41:29 [Severity.INFO]\tGenerating causal trees for 487325 root nodes ...\n",
      "2023-12-17 20:41:36 [Severity.INFO]\tAnalyzing tree 97465/487325 ...\n",
      "2023-12-17 20:41:43 [Severity.INFO]\tAnalyzing tree 194930/487325 ...\n",
      "2023-12-17 20:41:49 [Severity.INFO]\tAnalyzing tree 292395/487325 ...\n",
      "2023-12-17 20:41:55 [Severity.INFO]\tAnalyzing tree 389860/487325 ...\n",
      "2023-12-17 20:42:02 [Severity.INFO]\tAnalyzing tree 487325/487325 ...\n",
      "2023-12-17 20:42:02 [Severity.INFO]\tfinished.\n",
      "Number of causal paths: Total path count: \t\t561401.0 \n",
      "[Unique / Sub paths / Total]: \t[234842.0 / 1123075.0 / 1684476.0]\n",
      "Nodes:\t\t\t\t54075 \n",
      "Edges:\t\t\t\t234792\n",
      "Max. path length:\t\t2\n",
      "Avg path length:\t\t1.0001620944743597 \n",
      "Paths of length k = 0\t\t0.0 [ 0.0 / 1122893.0 / 1122893.0 ]\n",
      "Paths of length k = 1\t\t561310.0 [ 234751.0 / 182.0 / 561492.0 ]\n",
      "Paths of length k = 2\t\t91.0 [ 91.0 / 0.0 / 91.0 ]\n",
      "\n",
      "\n"
     ]
    },
    {
     "name": "stderr",
     "output_type": "stream",
     "text": [
      "\r",
      " 20%|███████████████████████████████████▏                                                                                                                                            | 1/5 [03:25<13:42, 205.59s/it]"
     ]
    },
    {
     "name": "stdout",
     "output_type": "stream",
     "text": [
      "2023-12-17 20:42:13 [Severity.INFO]\tConstructing time-unfolded DAG ...\n",
      "2023-12-17 20:44:45 [Severity.INFO]\tfinished.\n",
      "Directed Acyclic Graph\n",
      "Nodes:\t\t17311921\n",
      "Roots:\t\t487325\n",
      "Leaves:\t\t16824514\n",
      "Links:\t\t16844490\n",
      "Acyclic:\tNone\n",
      "\n",
      "2023-12-17 20:44:45 [Severity.INFO]\tGenerating causal trees for 487325 root nodes ...\n",
      "2023-12-17 20:44:52 [Severity.INFO]\tAnalyzing tree 97465/487325 ...\n",
      "2023-12-17 20:44:58 [Severity.INFO]\tAnalyzing tree 194930/487325 ...\n",
      "2023-12-17 20:45:05 [Severity.INFO]\tAnalyzing tree 292395/487325 ...\n",
      "2023-12-17 20:45:11 [Severity.INFO]\tAnalyzing tree 389860/487325 ...\n",
      "2023-12-17 20:45:17 [Severity.INFO]\tAnalyzing tree 487325/487325 ...\n",
      "2023-12-17 20:45:17 [Severity.INFO]\tfinished.\n",
      "Number of causal paths: Total path count: \t\t561401.0 \n",
      "[Unique / Sub paths / Total]: \t[234842.0 / 1123075.0 / 1684476.0]\n",
      "Nodes:\t\t\t\t54075 \n",
      "Edges:\t\t\t\t234792\n",
      "Max. path length:\t\t2\n",
      "Avg path length:\t\t1.0001620944743597 \n",
      "Paths of length k = 0\t\t0.0 [ 0.0 / 1122893.0 / 1122893.0 ]\n",
      "Paths of length k = 1\t\t561310.0 [ 234751.0 / 182.0 / 561492.0 ]\n",
      "Paths of length k = 2\t\t91.0 [ 91.0 / 0.0 / 91.0 ]\n",
      "\n",
      "\n"
     ]
    },
    {
     "name": "stderr",
     "output_type": "stream",
     "text": [
      "\r",
      " 40%|██████████████████████████████████████████████████████████████████████▍                                                                                                         | 2/5 [06:40<09:58, 199.34s/it]"
     ]
    },
    {
     "name": "stdout",
     "output_type": "stream",
     "text": [
      "2023-12-17 20:45:27 [Severity.INFO]\tConstructing time-unfolded DAG ...\n",
      "2023-12-17 20:48:08 [Severity.INFO]\tfinished.\n",
      "Directed Acyclic Graph\n",
      "Nodes:\t\t17311921\n",
      "Roots:\t\t487325\n",
      "Leaves:\t\t16824514\n",
      "Links:\t\t16844490\n",
      "Acyclic:\tNone\n",
      "\n",
      "2023-12-17 20:48:08 [Severity.INFO]\tGenerating causal trees for 487325 root nodes ...\n",
      "2023-12-17 20:48:15 [Severity.INFO]\tAnalyzing tree 97465/487325 ...\n",
      "2023-12-17 20:48:21 [Severity.INFO]\tAnalyzing tree 194930/487325 ...\n",
      "2023-12-17 20:48:28 [Severity.INFO]\tAnalyzing tree 292395/487325 ...\n",
      "2023-12-17 20:48:34 [Severity.INFO]\tAnalyzing tree 389860/487325 ...\n",
      "2023-12-17 20:48:40 [Severity.INFO]\tAnalyzing tree 487325/487325 ...\n",
      "2023-12-17 20:48:40 [Severity.INFO]\tfinished.\n",
      "Number of causal paths: Total path count: \t\t561401.0 \n",
      "[Unique / Sub paths / Total]: \t[234842.0 / 1123075.0 / 1684476.0]\n",
      "Nodes:\t\t\t\t54075 \n",
      "Edges:\t\t\t\t234792\n",
      "Max. path length:\t\t2\n",
      "Avg path length:\t\t1.0001620944743597 \n",
      "Paths of length k = 0\t\t0.0 [ 0.0 / 1122893.0 / 1122893.0 ]\n",
      "Paths of length k = 1\t\t561310.0 [ 234751.0 / 182.0 / 561492.0 ]\n",
      "Paths of length k = 2\t\t91.0 [ 91.0 / 0.0 / 91.0 ]\n",
      "\n",
      "\n"
     ]
    },
    {
     "name": "stderr",
     "output_type": "stream",
     "text": [
      "\r",
      " 60%|█████████████████████████████████████████████████████████████████████████████████████████████████████████▌                                                                      | 3/5 [10:03<06:41, 200.97s/it]"
     ]
    },
    {
     "name": "stdout",
     "output_type": "stream",
     "text": [
      "2023-12-17 20:48:50 [Severity.INFO]\tConstructing time-unfolded DAG ...\n",
      "2023-12-17 20:51:26 [Severity.INFO]\tfinished.\n",
      "Directed Acyclic Graph\n",
      "Nodes:\t\t17311921\n",
      "Roots:\t\t487325\n",
      "Leaves:\t\t16824514\n",
      "Links:\t\t16844490\n",
      "Acyclic:\tNone\n",
      "\n",
      "2023-12-17 20:51:26 [Severity.INFO]\tGenerating causal trees for 487325 root nodes ...\n",
      "2023-12-17 20:51:32 [Severity.INFO]\tAnalyzing tree 97465/487325 ...\n",
      "2023-12-17 20:51:39 [Severity.INFO]\tAnalyzing tree 194930/487325 ...\n",
      "2023-12-17 20:51:45 [Severity.INFO]\tAnalyzing tree 292395/487325 ...\n",
      "2023-12-17 20:51:51 [Severity.INFO]\tAnalyzing tree 389860/487325 ...\n",
      "2023-12-17 20:51:58 [Severity.INFO]\tAnalyzing tree 487325/487325 ...\n",
      "2023-12-17 20:51:58 [Severity.INFO]\tfinished.\n",
      "Number of causal paths: Total path count: \t\t561401.0 \n",
      "[Unique / Sub paths / Total]: \t[234842.0 / 1123075.0 / 1684476.0]\n",
      "Nodes:\t\t\t\t54075 \n",
      "Edges:\t\t\t\t234792\n",
      "Max. path length:\t\t2\n",
      "Avg path length:\t\t1.0001620944743597 \n",
      "Paths of length k = 0\t\t0.0 [ 0.0 / 1122893.0 / 1122893.0 ]\n",
      "Paths of length k = 1\t\t561310.0 [ 234751.0 / 182.0 / 561492.0 ]\n",
      "Paths of length k = 2\t\t91.0 [ 91.0 / 0.0 / 91.0 ]\n",
      "\n",
      "\n"
     ]
    },
    {
     "name": "stderr",
     "output_type": "stream",
     "text": [
      "\r",
      " 80%|████████████████████████████████████████████████████████████████████████████████████████████████████████████████████████████████████████████▊                                   | 4/5 [13:20<03:19, 199.53s/it]"
     ]
    },
    {
     "name": "stdout",
     "output_type": "stream",
     "text": [
      "2023-12-17 20:52:08 [Severity.INFO]\tConstructing time-unfolded DAG ...\n",
      "2023-12-17 20:54:43 [Severity.INFO]\tfinished.\n",
      "Directed Acyclic Graph\n",
      "Nodes:\t\t17311921\n",
      "Roots:\t\t487325\n",
      "Leaves:\t\t16824514\n",
      "Links:\t\t16844490\n",
      "Acyclic:\tNone\n",
      "\n",
      "2023-12-17 20:54:43 [Severity.INFO]\tGenerating causal trees for 487325 root nodes ...\n",
      "2023-12-17 20:54:49 [Severity.INFO]\tAnalyzing tree 97465/487325 ...\n",
      "2023-12-17 20:54:55 [Severity.INFO]\tAnalyzing tree 194930/487325 ...\n",
      "2023-12-17 20:55:01 [Severity.INFO]\tAnalyzing tree 292395/487325 ...\n",
      "2023-12-17 20:55:08 [Severity.INFO]\tAnalyzing tree 389860/487325 ...\n",
      "2023-12-17 20:55:14 [Severity.INFO]\tAnalyzing tree 487325/487325 ...\n",
      "2023-12-17 20:55:14 [Severity.INFO]\tfinished.\n",
      "Number of causal paths: Total path count: \t\t561401.0 \n",
      "[Unique / Sub paths / Total]: \t[234842.0 / 1123075.0 / 1684476.0]\n",
      "Nodes:\t\t\t\t54075 \n",
      "Edges:\t\t\t\t234792\n",
      "Max. path length:\t\t2\n",
      "Avg path length:\t\t1.0001620944743597 \n",
      "Paths of length k = 0\t\t0.0 [ 0.0 / 1122893.0 / 1122893.0 ]\n",
      "Paths of length k = 1\t\t561310.0 [ 234751.0 / 182.0 / 561492.0 ]\n",
      "Paths of length k = 2\t\t91.0 [ 91.0 / 0.0 / 91.0 ]\n",
      "\n",
      "\n"
     ]
    },
    {
     "name": "stderr",
     "output_type": "stream",
     "text": [
      "100%|████████████████████████████████████████████████████████████████████████████████████████████████████████████████████████████████████████████████████████████████████████████████| 5/5 [16:37<00:00, 199.40s/it]\n"
     ]
    }
   ],
   "source": [
    "results = []\n",
    "for k in trange(1, 6):\n",
    "    count, runtime = get_total_causal_paths(t, delta, k)\n",
    "    results.append((count, runtime, k))"
   ]
  },
  {
   "cell_type": "code",
   "execution_count": 14,
   "id": "750a7bd4",
   "metadata": {},
   "outputs": [],
   "source": [
    "_, baseline_runtimes_sec, baseline_k = zip(*results)"
   ]
  },
  {
   "cell_type": "markdown",
   "id": "cb084908",
   "metadata": {},
   "source": [
    "## Plots"
   ]
  },
  {
   "cell_type": "code",
   "execution_count": 16,
   "id": "3edbdada",
   "metadata": {},
   "outputs": [
    {
     "data": {
      "image/png": "[encoded data removed]",
      "text/plain": [
       "<Figure size 640x480 with 1 Axes>"
      ]
     },
     "metadata": {},
     "output_type": "display_data"
    }
   ],
   "source": [
    "plt.plot(paco_k, paco_runtimes_sec, 's--', color='blue',label=\"PaCo\")\n",
    "plt.plot(baseline_k, baseline_runtimes_sec, '^--', color='red',label=\"Baseline\")\n",
    "plt.xlabel(\"K\")\n",
    "plt.ylabel(\"run-time [sec]\")\n",
    "plt.grid(True)\n",
    "plt.legend()\n",
    "plt.savefig('plots/reddit_right_panel.png')\n",
    "plt.show()"
   ]
  }
 ],
 "metadata": {
  "kernelspec": {
   "display_name": "Python 3 (ipykernel)",
   "language": "python",
   "name": "python3"
  },
  "language_info": {
   "codemirror_mode": {
    "name": "ipython",
    "version": 3
   },
   "file_extension": ".py",
   "mimetype": "text/x-python",
   "name": "python",
   "nbconvert_exporter": "python",
   "pygments_lexer": "ipython3",
   "version": "3.10.13"
  }
 },
 "nbformat": 4,
 "nbformat_minor": 5
}
