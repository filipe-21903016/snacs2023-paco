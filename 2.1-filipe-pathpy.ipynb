{
 "cells": [
  {
   "cell_type": "code",
   "execution_count": 1,
   "metadata": {
    "id": "GWOaQrpSXDR5"
   },
   "outputs": [],
   "source": [
    "DATASET_PATH = \"./reddit_hyperlink_network.tsv\""
   ]
  },
  {
   "cell_type": "code",
   "execution_count": 11,
   "metadata": {
    "id": "4an1rBuiXMLA"
   },
   "outputs": [],
   "source": [
    "from datetime import datetime\n",
    "import pandas as pd\n",
    "import pathpy as pp\n",
    "from tqdm import tqdm\n",
    "from time import time"
   ]
  },
  {
   "cell_type": "code",
   "execution_count": 3,
   "metadata": {
    "id": "-h0bPf6MXIav"
   },
   "outputs": [],
   "source": [
    "def load_edgelist():\n",
    "    def date_to_timestamp(date_string: str):\n",
    "        return int(datetime.strptime(date_string, \"%Y-%m-%d %H:%M:%S\").timestamp())\n",
    "\n",
    "    reddit = pd.read_csv(DATASET_PATH, delimiter='\\t')\n",
    "\n",
    "    data = data = reddit[['SOURCE_SUBREDDIT', 'TARGET_SUBREDDIT', 'TIMESTAMP']]\n",
    "    data.columns = ['source', 'target', 'timestamp']\n",
    "\n",
    "    return [(row['source'], row['target'], date_to_timestamp(row['timestamp'])) for _, row in data.iterrows()]"
   ]
  },
  {
   "cell_type": "code",
   "execution_count": 4,
   "metadata": {
    "id": "v_N0XSqEXi5C"
   },
   "outputs": [],
   "source": [
    "edge_list = load_edgelist()"
   ]
  },
  {
   "cell_type": "code",
   "execution_count": 5,
   "metadata": {
    "colab": {
     "base_uri": "https://localhost:8080/"
    },
    "id": "icMjwiDQBZln",
    "outputId": "cb5d130e-85bf-4608-8612-e73634d2c9e7"
   },
   "outputs": [
    {
     "name": "stderr",
     "output_type": "stream",
     "text": [
      "100%|█████████████████████████████████████████████████████████| 571927/571927 [01:00<00:00, 9488.81it/s]\n"
     ]
    }
   ],
   "source": [
    "# Create a temporal network\n",
    "t = pp.TemporalNetwork()\n",
    "for edge in tqdm(edge_list):\n",
    "  s, d, ts = edge\n",
    "  t.add_edge(s, d, ts)"
   ]
  },
  {
   "cell_type": "code",
   "execution_count": 12,
   "metadata": {},
   "outputs": [],
   "source": [
    "def path_count(paths, k):\n",
    "  count = 0\n",
    "  for k in range(1, k + 1):\n",
    "      count += sum([v.sum() for v in paths.paths[k].values()])\n",
    "  return count\n",
    "\n",
    "def get_total_causal_paths(temporal_network, delta, K):\n",
    "    start = time()\n",
    "    # Calculate the number of causal paths\n",
    "    paths = pp.path_extraction.temporal_paths.paths_from_temporal_network_dag(t, delta=delta)\n",
    "\n",
    "    print(\"Number of causal paths:\", paths)\n",
    "    print()\n",
    "    \n",
    "    count = path_count(paths, K)\n",
    "    end = time()\n",
    "    runtime = end - start\n",
    "    \n",
    "    return count, runtime"
   ]
  },
  {
   "cell_type": "code",
   "execution_count": null,
   "metadata": {
    "scrolled": true
   },
   "outputs": [
    {
     "name": "stdout",
     "output_type": "stream",
     "text": [
      "2023-12-17 14:00:47 [Severity.INFO]\tConstructing time-unfolded DAG ...\n"
     ]
    }
   ],
   "source": [
    "count, runtime = get_total_causal_paths(t, 2 * 60, 1000)"
   ]
  },
  {
   "cell_type": "code",
   "execution_count": null,
   "metadata": {},
   "outputs": [],
   "source": [
    "count, runtime"
   ]
  }
 ],
 "metadata": {
  "colab": {
   "provenance": []
  },
  "kernelspec": {
   "display_name": "Python 3 (ipykernel)",
   "language": "python",
   "name": "python3"
  },
  "language_info": {
   "codemirror_mode": {
    "name": "ipython",
    "version": 3
   },
   "file_extension": ".py",
   "mimetype": "text/x-python",
   "name": "python",
   "nbconvert_exporter": "python",
   "pygments_lexer": "ipython3",
   "version": "3.10.13"
  }
 },
 "nbformat": 4,
 "nbformat_minor": 1
}
