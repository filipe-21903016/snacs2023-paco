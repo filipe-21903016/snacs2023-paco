{
  "nbformat": 4,
  "nbformat_minor": 0,
  "metadata": {
    "colab": {
      "provenance": []
    },
    "kernelspec": {
      "name": "python3",
      "display_name": "Python 3"
    },
    "language_info": {
      "name": "python"
    }
  },
  "cells": [
    {
      "cell_type": "code",
      "execution_count": 1,
      "metadata": {
        "colab": {
          "base_uri": "https://localhost:8080/"
        },
        "id": "26lb9Zl-2rIY",
        "outputId": "d4975e85-760a-42ed-d1a9-c7aba9571091"
      },
      "outputs": [
        {
          "output_type": "stream",
          "name": "stdout",
          "text": [
            "Requirement already satisfied: pathpy2 in /usr/local/lib/python3.10/dist-packages (2.2.0)\n",
            "Requirement already satisfied: numpy in /usr/local/lib/python3.10/dist-packages (from pathpy2) (1.23.5)\n",
            "Requirement already satisfied: scipy in /usr/local/lib/python3.10/dist-packages (from pathpy2) (1.11.3)\n"
          ]
        }
      ],
      "source": [
        "!pip install pathpy2"
      ]
    },
    {
      "cell_type": "code",
      "source": [
        "import pathpy as pp\n",
        "import pandas as pd\n",
        "from datetime import datetime\n",
        "from tqdm import tqdm"
      ],
      "metadata": {
        "id": "LeNGCQmm2tfu"
      },
      "execution_count": 2,
      "outputs": []
    },
    {
      "cell_type": "code",
      "source": [
        "from google.colab import drive\n",
        "drive.mount('/content/drive')"
      ],
      "metadata": {
        "colab": {
          "base_uri": "https://localhost:8080/"
        },
        "id": "0-O7p9755YU4",
        "outputId": "34caf3c8-20e0-4acc-ab39-27adfa00d41d"
      },
      "execution_count": 3,
      "outputs": [
        {
          "output_type": "stream",
          "name": "stdout",
          "text": [
            "Drive already mounted at /content/drive; to attempt to forcibly remount, call drive.mount(\"/content/drive\", force_remount=True).\n"
          ]
        }
      ]
    },
    {
      "cell_type": "code",
      "source": [
        "def load_edgelist():\n",
        "    def date_to_timestamp(date_string: str):\n",
        "        return int(datetime.strptime(date_string, \"%Y-%m-%d %H:%M:%S\").timestamp())\n",
        "\n",
        "    reddit = pd.read_csv('/content/drive/MyDrive/reddit_hyperlink_network.tsv', delimiter='\\t')\n",
        "    data = data = reddit[['SOURCE_SUBREDDIT', 'TARGET_SUBREDDIT', 'TIMESTAMP']]\n",
        "    data.columns = ['source', 'target', 'timestamp']\n",
        "\n",
        "    return [(row['source'], row['target'], date_to_timestamp(row['timestamp'])) for _, row in data.iterrows()]"
      ],
      "metadata": {
        "id": "BtwBgBAV39bt"
      },
      "execution_count": 4,
      "outputs": []
    },
    {
      "cell_type": "code",
      "source": [
        "edges = load_edgelist()"
      ],
      "metadata": {
        "id": "IFm-0pev6pa6"
      },
      "execution_count": 5,
      "outputs": []
    },
    {
      "cell_type": "code",
      "source": [
        "t = pp.TemporalNetwork()\n",
        "for source, target, timestamp in tqdm(edges):\n",
        "  t.add_edge(source, target, timestamp)"
      ],
      "metadata": {
        "colab": {
          "base_uri": "https://localhost:8080/"
        },
        "id": "d1psk4kl2vAT",
        "outputId": "972bf757-8223-41dc-fa21-f31d679b676d"
      },
      "execution_count": 9,
      "outputs": [
        {
          "output_type": "stream",
          "name": "stderr",
          "text": [
            "100%|██████████| 571927/571927 [04:38<00:00, 2051.65it/s]\n"
          ]
        }
      ]
    },
    {
      "cell_type": "markdown",
      "source": [],
      "metadata": {
        "id": "cykYKBEH4SEQ"
      }
    },
    {
      "cell_type": "code",
      "source": [
        "causal_paths = pp.path_extraction.paths_from_temporal_network_dag(t, delta=3600, max_subpath_length=1000)"
      ],
      "metadata": {
        "colab": {
          "base_uri": "https://localhost:8080/"
        },
        "id": "l4g_JAdd3klV",
        "outputId": "041b8262-948a-4677-cf3d-7bcb5c489536"
      },
      "execution_count": null,
      "outputs": [
        {
          "output_type": "stream",
          "name": "stdout",
          "text": [
            "2023-12-01 01:24:40 [Severity.INFO]\tConstructing time-unfolded DAG ...\n"
          ]
        }
      ]
    }
  ]
}