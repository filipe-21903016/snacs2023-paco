{
 "cells": [
  {
   "cell_type": "code",
   "execution_count": 15,
   "id": "d61036d6",
   "metadata": {},
   "outputs": [],
   "source": [
    "from main import load_edgelist\n",
    "from time import time\n",
    "from tqdm import tqdm\n",
    "import networkx as nx\n",
    "import pandas as pd"
   ]
  },
  {
   "cell_type": "code",
   "execution_count": 8,
   "id": "69d78f9f",
   "metadata": {},
   "outputs": [],
   "source": [
    "reddit_edges = load_edgelist() # reddit"
   ]
  },
  {
   "cell_type": "code",
   "execution_count": 9,
   "id": "c9ff167d",
   "metadata": {},
   "outputs": [
    {
     "data": {
      "text/plain": [
       "571927"
      ]
     },
     "execution_count": 9,
     "metadata": {},
     "output_type": "execute_result"
    }
   ],
   "source": [
    "len(reddit_edges)"
   ]
  },
  {
   "cell_type": "code",
   "execution_count": 12,
   "id": "61636f50",
   "metadata": {},
   "outputs": [],
   "source": [
    "sources, targets, _ = zip(*reddit_edges)"
   ]
  },
  {
   "cell_type": "code",
   "execution_count": 13,
   "id": "691d1096",
   "metadata": {},
   "outputs": [
    {
     "data": {
      "text/plain": [
       "54075"
      ]
     },
     "execution_count": 13,
     "metadata": {},
     "output_type": "execute_result"
    }
   ],
   "source": [
    "len(set(sources + targets))"
   ]
  },
  {
   "cell_type": "code",
   "execution_count": 16,
   "id": "8a177d43",
   "metadata": {},
   "outputs": [],
   "source": [
    "dataset = pd.read_csv('CollegeMsg.txt', delimiter=' ', header=None)\n",
    "dataset.columns = ['source', 'target', 'timestamp']\n",
    "edge_list = [(row['source'], row['target'], int(row['timestamp'])) for _, row in dataset.iterrows()]"
   ]
  },
  {
   "cell_type": "code",
   "execution_count": 17,
   "id": "7b8ca32d",
   "metadata": {},
   "outputs": [
    {
     "data": {
      "text/plain": [
       "59835"
      ]
     },
     "execution_count": 17,
     "metadata": {},
     "output_type": "execute_result"
    }
   ],
   "source": [
    "len(edge_list)"
   ]
  },
  {
   "cell_type": "code",
   "execution_count": 18,
   "id": "f10f9243",
   "metadata": {},
   "outputs": [],
   "source": [
    "sources, targets, _ = zip(*edge_list)"
   ]
  },
  {
   "cell_type": "code",
   "execution_count": 19,
   "id": "2ad8ac42",
   "metadata": {},
   "outputs": [
    {
     "data": {
      "text/plain": [
       "1899"
      ]
     },
     "execution_count": 19,
     "metadata": {},
     "output_type": "execute_result"
    }
   ],
   "source": [
    "len(set(sources + targets))"
   ]
  },
  {
   "cell_type": "code",
   "execution_count": null,
   "id": "3bc64cac",
   "metadata": {},
   "outputs": [],
   "source": []
  }
 ],
 "metadata": {
  "kernelspec": {
   "display_name": "Python 3 (ipykernel)",
   "language": "python",
   "name": "python3"
  },
  "language_info": {
   "codemirror_mode": {
    "name": "ipython",
    "version": 3
   },
   "file_extension": ".py",
   "mimetype": "text/x-python",
   "name": "python",
   "nbconvert_exporter": "python",
   "pygments_lexer": "ipython3",
   "version": "3.10.13"
  }
 },
 "nbformat": 4,
 "nbformat_minor": 5
}
