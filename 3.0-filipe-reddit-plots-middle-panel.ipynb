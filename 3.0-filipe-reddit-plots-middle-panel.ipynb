{
 "cells": [
  {
   "cell_type": "code",
   "execution_count": 1,
   "id": "d61036d6",
   "metadata": {},
   "outputs": [],
   "source": [
    "from main import load_edgelist\n",
    "from typing import List, Dict\n",
    "from paco import TimeStampedLinkList, paco\n",
    "from time import time\n",
    "from tqdm import tqdm\n",
    "import matplotlib.pyplot as plt\n",
    "from baseline import create_temporal_network, get_total_causal_paths"
   ]
  },
  {
   "cell_type": "code",
   "execution_count": 2,
   "id": "69d78f9f",
   "metadata": {},
   "outputs": [],
   "source": [
    "edge_list = load_edgelist()\n",
    "data = TimeStampedLinkList.from_edgelist(edge_list)"
   ]
  },
  {
   "cell_type": "code",
   "execution_count": 3,
   "id": "269cd382",
   "metadata": {},
   "outputs": [],
   "source": [
    "# delta, K\n",
    "fixed_k_config = [\n",
    "    (1, 3),\n",
    "    (2, 3),\n",
    "    (3, 3),\n",
    "    (5, 3),\n",
    "    (10, 3),\n",
    "    (15, 3)\n",
    "]"
   ]
  },
  {
   "cell_type": "markdown",
   "id": "5d728d8a",
   "metadata": {},
   "source": [
    "## PaCo"
   ]
  },
  {
   "cell_type": "code",
   "execution_count": 4,
   "id": "5e62b757",
   "metadata": {},
   "outputs": [],
   "source": [
    "def execute_paco(delta, k):\n",
    "    start = time()\n",
    "    C = paco(data, delta, k)\n",
    "    end = time()\n",
    "    \n",
    "    count = sum(C.values())\n",
    "    return count, end-start"
   ]
  },
  {
   "cell_type": "code",
   "execution_count": 5,
   "id": "b3527ef2",
   "metadata": {},
   "outputs": [
    {
     "name": "stderr",
     "output_type": "stream",
     "text": [
      "100%|█████████████████████████████████████████████████████████████████████████████████████████████████████████████████████████████████████████████████████████████████████████████████| 6/6 [00:08<00:00,  1.36s/it]\n"
     ]
    }
   ],
   "source": [
    "results = []\n",
    "for delta_sec, k in tqdm(fixed_k_config):\n",
    "    result = execute_paco(delta_sec, k)\n",
    "    results.append(result)"
   ]
  },
  {
   "cell_type": "code",
   "execution_count": 6,
   "id": "bca8fb2f",
   "metadata": {},
   "outputs": [],
   "source": [
    "#runtimes_min = [runtime_sec / 60 for _, runtime_sec in results]\n",
    "#deltas_min = [delta_sec / 60 for delta_sec, _ in fixed_k_config]\n",
    "_, paco_runtimes_sec = zip(*results)\n",
    "paco_deltas_sec, _ = zip(*fixed_k_config)"
   ]
  },
  {
   "cell_type": "markdown",
   "id": "b52791d9",
   "metadata": {},
   "source": [
    "## Baseline"
   ]
  },
  {
   "cell_type": "code",
   "execution_count": 7,
   "id": "f01fae16",
   "metadata": {},
   "outputs": [
    {
     "name": "stderr",
     "output_type": "stream",
     "text": [
      "100%|█████████████████████████████████████████████████████████████████████████████████████████████████████████████████████████████████████████████████████████████████████| 571927/571927 [01:01<00:00, 9263.80it/s]\n"
     ]
    }
   ],
   "source": [
    "t = create_temporal_network(edge_list)"
   ]
  },
  {
   "cell_type": "code",
   "execution_count": 9,
   "id": "653c0dcb",
   "metadata": {},
   "outputs": [
    {
     "name": "stderr",
     "output_type": "stream",
     "text": [
      "\r",
      "  0%|                                                                                                                                                                                         | 0/6 [00:00<?, ?it/s]"
     ]
    },
    {
     "name": "stdout",
     "output_type": "stream",
     "text": [
      "2023-12-17 19:35:39 [Severity.INFO]\tConstructing time-unfolded DAG ...\n",
      "2023-12-17 19:35:45 [Severity.INFO]\tfinished.\n",
      "Directed Acyclic Graph\n",
      "Nodes:\t\t1048873\n",
      "Roots:\t\t487404\n",
      "Leaves:\t\t561466\n",
      "Links:\t\t561483\n",
      "Acyclic:\tNone\n",
      "\n",
      "2023-12-17 19:35:45 [Severity.INFO]\tGenerating causal trees for 487404 root nodes ...\n",
      "2023-12-17 19:35:55 [Severity.INFO]\tfinished.\n",
      "Number of causal paths: Total path count: \t\t561480.0 \n",
      "[Unique / Sub paths / Total]: \t[234794.0 / 1122969.0 / 1684449.0]\n",
      "Nodes:\t\t\t\t54075 \n",
      "Edges:\t\t\t\t234792\n",
      "Max. path length:\t\t2\n",
      "Avg path length:\t\t1.0000053430220133 \n",
      "Paths of length k = 0\t\t0.0 [ 0.0 / 1122963.0 / 1122963.0 ]\n",
      "Paths of length k = 1\t\t561477.0 [ 234791.0 / 6.0 / 561483.0 ]\n",
      "Paths of length k = 2\t\t3.0 [ 3.0 / 0.0 / 3.0 ]\n",
      "\n",
      "\n"
     ]
    },
    {
     "name": "stderr",
     "output_type": "stream",
     "text": [
      "\r",
      " 17%|█████████████████████████████▌                                                                                                                                                   | 1/6 [00:16<01:23, 16.74s/it]"
     ]
    },
    {
     "name": "stdout",
     "output_type": "stream",
     "text": [
      "2023-12-17 19:35:56 [Severity.INFO]\tConstructing time-unfolded DAG ...\n",
      "2023-12-17 19:36:04 [Severity.INFO]\tfinished.\n",
      "Directed Acyclic Graph\n",
      "Nodes:\t\t1610312\n",
      "Roots:\t\t487403\n",
      "Leaves:\t\t1122905\n",
      "Links:\t\t1122966\n",
      "Acyclic:\tNone\n",
      "\n",
      "2023-12-17 19:36:04 [Severity.INFO]\tGenerating causal trees for 487403 root nodes ...\n",
      "2023-12-17 19:36:15 [Severity.INFO]\tfinished.\n",
      "Number of causal paths: Total path count: \t\t561479.0 \n",
      "[Unique / Sub paths / Total]: \t[234794.0 / 1122970.0 / 1684449.0]\n",
      "Nodes:\t\t\t\t54075 \n",
      "Edges:\t\t\t\t234792\n",
      "Max. path length:\t\t2\n",
      "Avg path length:\t\t1.000007124042039 \n",
      "Paths of length k = 0\t\t0.0 [ 0.0 / 1122962.0 / 1122962.0 ]\n",
      "Paths of length k = 1\t\t561475.0 [ 234790.0 / 8.0 / 561483.0 ]\n",
      "Paths of length k = 2\t\t4.0 [ 4.0 / 0.0 / 4.0 ]\n",
      "\n",
      "\n"
     ]
    },
    {
     "name": "stderr",
     "output_type": "stream",
     "text": [
      "\r",
      " 33%|███████████████████████████████████████████████████████████                                                                                                                      | 2/6 [00:37<01:15, 18.83s/it]"
     ]
    },
    {
     "name": "stdout",
     "output_type": "stream",
     "text": [
      "2023-12-17 19:36:16 [Severity.INFO]\tConstructing time-unfolded DAG ...\n",
      "2023-12-17 19:36:29 [Severity.INFO]\tfinished.\n",
      "Directed Acyclic Graph\n",
      "Nodes:\t\t2171700\n",
      "Roots:\t\t487400\n",
      "Leaves:\t\t1684293\n",
      "Links:\t\t1684449\n",
      "Acyclic:\tNone\n",
      "\n",
      "2023-12-17 19:36:29 [Severity.INFO]\tGenerating causal trees for 487400 root nodes ...\n",
      "2023-12-17 19:36:30 [Severity.INFO]\tAnalyzing tree 48740/487400 ...\n",
      "2023-12-17 19:36:32 [Severity.INFO]\tAnalyzing tree 97480/487400 ...\n",
      "2023-12-17 19:36:33 [Severity.INFO]\tAnalyzing tree 146220/487400 ...\n",
      "2023-12-17 19:36:34 [Severity.INFO]\tAnalyzing tree 194960/487400 ...\n",
      "2023-12-17 19:36:35 [Severity.INFO]\tAnalyzing tree 243700/487400 ...\n",
      "2023-12-17 19:36:37 [Severity.INFO]\tAnalyzing tree 292440/487400 ...\n",
      "2023-12-17 19:36:38 [Severity.INFO]\tAnalyzing tree 341180/487400 ...\n",
      "2023-12-17 19:36:39 [Severity.INFO]\tAnalyzing tree 389920/487400 ...\n",
      "2023-12-17 19:36:40 [Severity.INFO]\tAnalyzing tree 438660/487400 ...\n",
      "2023-12-17 19:36:41 [Severity.INFO]\tAnalyzing tree 487400/487400 ...\n",
      "2023-12-17 19:36:41 [Severity.INFO]\tfinished.\n",
      "Number of causal paths: Total path count: \t\t561476.0 \n",
      "[Unique / Sub paths / Total]: \t[234796.0 / 1122973.0 / 1684449.0]\n",
      "Nodes:\t\t\t\t54075 \n",
      "Edges:\t\t\t\t234792\n",
      "Max. path length:\t\t2\n",
      "Avg path length:\t\t1.0000124671401804 \n",
      "Paths of length k = 0\t\t0.0 [ 0.0 / 1122959.0 / 1122959.0 ]\n",
      "Paths of length k = 1\t\t561469.0 [ 234789.0 / 14.0 / 561483.0 ]\n",
      "Paths of length k = 2\t\t7.0 [ 7.0 / 0.0 / 7.0 ]\n",
      "\n",
      "\n"
     ]
    },
    {
     "name": "stderr",
     "output_type": "stream",
     "text": [
      "\r",
      " 50%|████████████████████████████████████████████████████████████████████████████████████████▌                                                                                        | 3/6 [01:03<01:06, 22.25s/it]"
     ]
    },
    {
     "name": "stdout",
     "output_type": "stream",
     "text": [
      "2023-12-17 19:36:43 [Severity.INFO]\tConstructing time-unfolded DAG ...\n",
      "2023-12-17 19:37:04 [Severity.INFO]\tfinished.\n",
      "Directed Acyclic Graph\n",
      "Nodes:\t\t3294318\n",
      "Roots:\t\t487393\n",
      "Leaves:\t\t2806911\n",
      "Links:\t\t2807415\n",
      "Acyclic:\tNone\n",
      "\n",
      "2023-12-17 19:37:04 [Severity.INFO]\tGenerating causal trees for 487393 root nodes ...\n",
      "2023-12-17 19:37:16 [Severity.INFO]\tfinished.\n",
      "Number of causal paths: Total path count: \t\t561469.0 \n",
      "[Unique / Sub paths / Total]: \t[234803.0 / 1122980.0 / 1684449.0]\n",
      "Nodes:\t\t\t\t54075 \n",
      "Edges:\t\t\t\t234792\n",
      "Max. path length:\t\t2\n",
      "Avg path length:\t\t1.000024934591224 \n",
      "Paths of length k = 0\t\t0.0 [ 0.0 / 1122952.0 / 1122952.0 ]\n",
      "Paths of length k = 1\t\t561455.0 [ 234789.0 / 28.0 / 561483.0 ]\n",
      "Paths of length k = 2\t\t14.0 [ 14.0 / 0.0 / 14.0 ]\n",
      "\n",
      "\n"
     ]
    },
    {
     "name": "stderr",
     "output_type": "stream",
     "text": [
      "\r",
      " 67%|██████████████████████████████████████████████████████████████████████████████████████████████████████████████████████                                                           | 4/6 [01:38<00:54, 27.31s/it]"
     ]
    },
    {
     "name": "stdout",
     "output_type": "stream",
     "text": [
      "2023-12-17 19:37:18 [Severity.INFO]\tConstructing time-unfolded DAG ...\n",
      "2023-12-17 19:37:59 [Severity.INFO]\tfinished.\n",
      "Directed Acyclic Graph\n",
      "Nodes:\t\t6100019\n",
      "Roots:\t\t487379\n",
      "Leaves:\t\t5612612\n",
      "Links:\t\t5614830\n",
      "Acyclic:\tNone\n",
      "\n",
      "2023-12-17 19:37:59 [Severity.INFO]\tGenerating causal trees for 487379 root nodes ...\n",
      "2023-12-17 19:38:14 [Severity.INFO]\tfinished.\n",
      "Number of causal paths: Total path count: \t\t561455.0 \n",
      "[Unique / Sub paths / Total]: \t[234812.0 / 1123003.0 / 1684458.0]\n",
      "Nodes:\t\t\t\t54075 \n",
      "Edges:\t\t\t\t234792\n",
      "Max. path length:\t\t2\n",
      "Avg path length:\t\t1.0000552136858698 \n",
      "Paths of length k = 0\t\t0.0 [ 0.0 / 1122941.0 / 1122941.0 ]\n",
      "Paths of length k = 1\t\t561424.0 [ 234781.0 / 62.0 / 561486.0 ]\n",
      "Paths of length k = 2\t\t31.0 [ 31.0 / 0.0 / 31.0 ]\n",
      "\n",
      "\n"
     ]
    },
    {
     "name": "stderr",
     "output_type": "stream",
     "text": [
      "\r",
      " 83%|███████████████████████████████████████████████████████████████████████████████████████████████████████████████████████████████████████████████████▌                             | 5/6 [02:36<00:38, 38.54s/it]"
     ]
    },
    {
     "name": "stdout",
     "output_type": "stream",
     "text": [
      "2023-12-17 19:38:16 [Severity.INFO]\tConstructing time-unfolded DAG ...\n",
      "2023-12-17 19:39:25 [Severity.INFO]\tfinished.\n",
      "Directed Acyclic Graph\n",
      "Nodes:\t\t8904646\n",
      "Roots:\t\t487364\n",
      "Leaves:\t\t8417239\n",
      "Links:\t\t8422245\n",
      "Acyclic:\tNone\n",
      "\n",
      "2023-12-17 19:39:25 [Severity.INFO]\tGenerating causal trees for 487364 root nodes ...\n",
      "2023-12-17 19:39:44 [Severity.INFO]\tfinished.\n",
      "Number of causal paths: Total path count: \t\t561440.0 \n",
      "[Unique / Sub paths / Total]: \t[234825.0 / 1123030.0 / 1684470.0]\n",
      "Nodes:\t\t\t\t54075 \n",
      "Edges:\t\t\t\t234792\n",
      "Max. path length:\t\t2\n",
      "Avg path length:\t\t1.0000890567113139 \n",
      "Paths of length k = 0\t\t0.0 [ 0.0 / 1122930.0 / 1122930.0 ]\n",
      "Paths of length k = 1\t\t561390.0 [ 234775.0 / 100.0 / 561490.0 ]\n",
      "Paths of length k = 2\t\t50.0 [ 50.0 / 0.0 / 50.0 ]\n",
      "\n",
      "\n"
     ]
    },
    {
     "name": "stderr",
     "output_type": "stream",
     "text": [
      "100%|█████████████████████████████████████████████████████████████████████████████████████████████████████████████████████████████████████████████████████████████████████████████████| 6/6 [04:07<00:00, 41.25s/it]\n"
     ]
    }
   ],
   "source": [
    "results = []\n",
    "for delta_sec, k in tqdm(fixed_k_config):\n",
    "    result = get_total_causal_paths(t, delta_sec, k)\n",
    "    results.append(result)"
   ]
  },
  {
   "cell_type": "code",
   "execution_count": 11,
   "id": "750a7bd4",
   "metadata": {},
   "outputs": [],
   "source": [
    "_, baseline_runtimes_sec = zip(*results)\n",
    "baseline_deltas_sec, _ = zip(*fixed_k_config)"
   ]
  },
  {
   "cell_type": "code",
   "execution_count": null,
   "id": "a2749a6e",
   "metadata": {},
   "outputs": [
    {
     "name": "stdout",
     "output_type": "stream",
     "text": [
      "2023-12-17 19:45:07 [Severity.INFO]\tConstructing time-unfolded DAG ...\n"
     ]
    }
   ],
   "source": [
    "get_total_causal_paths(t, 120, 3)"
   ]
  },
  {
   "cell_type": "markdown",
   "id": "cb084908",
   "metadata": {},
   "source": [
    "## Plots"
   ]
  },
  {
   "cell_type": "code",
   "execution_count": 15,
   "id": "3edbdada",
   "metadata": {},
   "outputs": [
    {
     "data": {
      "image/png": "[encoded data removed]",
      "text/plain": [
       "<Figure size 640x480 with 1 Axes>"
      ]
     },
     "metadata": {},
     "output_type": "display_data"
    }
   ],
   "source": [
    "plt.plot(paco_deltas_sec, paco_runtimes_sec, 's--', color='blue',label=\"PaCo\")\n",
    "plt.plot(baseline_deltas_sec, baseline_runtimes_sec, '^--', color='red',label=\"Baseline\")\n",
    "plt.xlabel(\"δ [sec]\")\n",
    "plt.ylabel(\"run-time [sec]\")\n",
    "plt.grid(True)\n",
    "plt.legend()\n",
    "plt.savefig('plots/reddit_middle_panel.png')\n",
    "plt.show()"
   ]
  }
 ],
 "metadata": {
  "kernelspec": {
   "display_name": "Python 3 (ipykernel)",
   "language": "python",
   "name": "python3"
  },
  "language_info": {
   "codemirror_mode": {
    "name": "ipython",
    "version": 3
   },
   "file_extension": ".py",
   "mimetype": "text/x-python",
   "name": "python",
   "nbconvert_exporter": "python",
   "pygments_lexer": "ipython3",
   "version": "3.10.13"
  }
 },
 "nbformat": 4,
 "nbformat_minor": 5
}
