{
 "cells": [
  {
   "cell_type": "code",
   "execution_count": 1,
   "id": "d61036d6",
   "metadata": {},
   "outputs": [],
   "source": [
    "from main import load_edgelist\n",
    "from typing import List, Dict\n",
    "from paco import TimeStampedLinkList, paco\n",
    "from time import time\n",
    "from tqdm import tqdm\n",
    "import matplotlib.pyplot as plt\n",
    "from baseline import create_temporal_network, get_total_causal_paths\n",
    "import pandas as pd"
   ]
  },
  {
   "cell_type": "code",
   "execution_count": 2,
   "id": "eab5d1b0",
   "metadata": {},
   "outputs": [],
   "source": [
    "dataset = pd.read_csv('soc-sign-bitcoinalpha.csv', header=None)\n",
    "dataset.columns = ['source', 'target', 'rating', 'timestamp']\n",
    "edge_list = [(int(row['source']), int(row['target']), int(row['timestamp'])) for _, row in dataset.iterrows()]"
   ]
  },
  {
   "cell_type": "code",
   "execution_count": 3,
   "id": "69d78f9f",
   "metadata": {},
   "outputs": [],
   "source": [
    "data = TimeStampedLinkList.from_edgelist(edge_list)"
   ]
  },
  {
   "cell_type": "code",
   "execution_count": 4,
   "id": "269cd382",
   "metadata": {},
   "outputs": [],
   "source": [
    "# delta, K\n",
    "fixed_k_config = [\n",
    "    (1, 3),\n",
    "    (2, 3),\n",
    "    (3, 3),\n",
    "    (5, 3),\n",
    "    (10, 3),\n",
    "    (15, 3)\n",
    "]"
   ]
  },
  {
   "cell_type": "markdown",
   "id": "5d728d8a",
   "metadata": {},
   "source": [
    "## PaCo"
   ]
  },
  {
   "cell_type": "code",
   "execution_count": 5,
   "id": "5e62b757",
   "metadata": {},
   "outputs": [],
   "source": [
    "def execute_paco(delta, k):\n",
    "    start = time()\n",
    "    C = paco(data, delta, k)\n",
    "    end = time()\n",
    "    \n",
    "    count = sum(C.values())\n",
    "    return count, end-start"
   ]
  },
  {
   "cell_type": "code",
   "execution_count": 6,
   "id": "b3527ef2",
   "metadata": {},
   "outputs": [
    {
     "name": "stderr",
     "output_type": "stream",
     "text": [
      "100%|█████████████████████████████████████████████████████████████████████████████████████████████████████████████████████████████████████████████████████████████████████████████████| 6/6 [00:00<00:00,  9.73it/s]\n"
     ]
    }
   ],
   "source": [
    "results = []\n",
    "for delta_sec, k in tqdm(fixed_k_config):\n",
    "    result = execute_paco(delta_sec, k)\n",
    "    results.append(result)"
   ]
  },
  {
   "cell_type": "code",
   "execution_count": 7,
   "id": "bca8fb2f",
   "metadata": {},
   "outputs": [],
   "source": [
    "#runtimes_min = [runtime_sec / 60 for _, runtime_sec in results]\n",
    "#deltas_min = [delta_sec / 60 for delta_sec, _ in fixed_k_config]\n",
    "_, paco_runtimes_sec = zip(*results)\n",
    "paco_deltas_sec, _ = zip(*fixed_k_config)"
   ]
  },
  {
   "cell_type": "markdown",
   "id": "b52791d9",
   "metadata": {},
   "source": [
    "## Baseline"
   ]
  },
  {
   "cell_type": "code",
   "execution_count": 8,
   "id": "f01fae16",
   "metadata": {},
   "outputs": [
    {
     "name": "stderr",
     "output_type": "stream",
     "text": [
      "100%|██████████████████████████████████████████████████████████████████████████████████████████████████████████████████████████████████████████████████████████████████████| 24186/24186 [00:00<00:00, 71929.32it/s]\n"
     ]
    }
   ],
   "source": [
    "t = create_temporal_network(edge_list)"
   ]
  },
  {
   "cell_type": "code",
   "execution_count": 9,
   "id": "653c0dcb",
   "metadata": {},
   "outputs": [
    {
     "name": "stderr",
     "output_type": "stream",
     "text": [
      "\r",
      "  0%|                                                                                                                                                                                         | 0/6 [00:00<?, ?it/s]"
     ]
    },
    {
     "name": "stdout",
     "output_type": "stream",
     "text": [
      "2023-12-18 00:04:20 [Severity.INFO]\tConstructing time-unfolded DAG ...\n",
      "2023-12-18 00:04:20 [Severity.INFO]\tfinished.\n",
      "Directed Acyclic Graph\n",
      "Nodes:\t\t38609\n",
      "Roots:\t\t18584\n",
      "Leaves:\t\t20025\n",
      "Links:\t\t24186\n",
      "Acyclic:\tNone\n",
      "\n",
      "2023-12-18 00:04:20 [Severity.INFO]\tGenerating causal trees for 18584 root nodes ...\n",
      "2023-12-18 00:04:21 [Severity.INFO]\tfinished.\n"
     ]
    },
    {
     "name": "stderr",
     "output_type": "stream",
     "text": [
      "\r",
      " 17%|█████████████████████████████▌                                                                                                                                                   | 1/6 [00:00<00:03,  1.36it/s]"
     ]
    },
    {
     "name": "stdout",
     "output_type": "stream",
     "text": [
      "Number of causal paths: Total path count: \t\t24186.0 \n",
      "[Unique / Sub paths / Total]: \t[24186.0 / 48372.0 / 72558.0]\n",
      "Nodes:\t\t\t\t3783 \n",
      "Edges:\t\t\t\t24186\n",
      "Max. path length:\t\t1\n",
      "Avg path length:\t\t1.0 \n",
      "Paths of length k = 0\t\t0.0 [ 0.0 / 48372.0 / 48372.0 ]\n",
      "Paths of length k = 1\t\t24186.0 [ 24186.0 / 0.0 / 24186.0 ]\n",
      "\n",
      "\n",
      "2023-12-18 00:04:21 [Severity.INFO]\tConstructing time-unfolded DAG ...\n",
      "2023-12-18 00:04:21 [Severity.INFO]\tfinished.\n",
      "Directed Acyclic Graph\n",
      "Nodes:\t\t58634\n",
      "Roots:\t\t18584\n",
      "Leaves:\t\t40050\n",
      "Links:\t\t48372\n",
      "Acyclic:\tNone\n",
      "\n",
      "2023-12-18 00:04:21 [Severity.INFO]\tGenerating causal trees for 18584 root nodes ...\n",
      "2023-12-18 00:04:21 [Severity.INFO]\tfinished.\n"
     ]
    },
    {
     "name": "stderr",
     "output_type": "stream",
     "text": [
      "\r",
      " 33%|███████████████████████████████████████████████████████████                                                                                                                      | 2/6 [00:01<00:03,  1.17it/s]"
     ]
    },
    {
     "name": "stdout",
     "output_type": "stream",
     "text": [
      "Number of causal paths: Total path count: \t\t24186.0 \n",
      "[Unique / Sub paths / Total]: \t[24186.0 / 48372.0 / 72558.0]\n",
      "Nodes:\t\t\t\t3783 \n",
      "Edges:\t\t\t\t24186\n",
      "Max. path length:\t\t1\n",
      "Avg path length:\t\t1.0 \n",
      "Paths of length k = 0\t\t0.0 [ 0.0 / 48372.0 / 48372.0 ]\n",
      "Paths of length k = 1\t\t24186.0 [ 24186.0 / 0.0 / 24186.0 ]\n",
      "\n",
      "\n",
      "2023-12-18 00:04:22 [Severity.INFO]\tConstructing time-unfolded DAG ...\n",
      "2023-12-18 00:04:22 [Severity.INFO]\tfinished.\n",
      "Directed Acyclic Graph\n",
      "Nodes:\t\t78659\n",
      "Roots:\t\t18584\n",
      "Leaves:\t\t60075\n",
      "Links:\t\t72558\n",
      "Acyclic:\tNone\n",
      "\n",
      "2023-12-18 00:04:22 [Severity.INFO]\tGenerating causal trees for 18584 root nodes ...\n",
      "2023-12-18 00:04:23 [Severity.INFO]\tfinished.\n"
     ]
    },
    {
     "name": "stderr",
     "output_type": "stream",
     "text": [
      "\r",
      " 50%|████████████████████████████████████████████████████████████████████████████████████████▌                                                                                        | 3/6 [00:02<00:02,  1.05it/s]"
     ]
    },
    {
     "name": "stdout",
     "output_type": "stream",
     "text": [
      "Number of causal paths: Total path count: \t\t24186.0 \n",
      "[Unique / Sub paths / Total]: \t[24186.0 / 48372.0 / 72558.0]\n",
      "Nodes:\t\t\t\t3783 \n",
      "Edges:\t\t\t\t24186\n",
      "Max. path length:\t\t1\n",
      "Avg path length:\t\t1.0 \n",
      "Paths of length k = 0\t\t0.0 [ 0.0 / 48372.0 / 48372.0 ]\n",
      "Paths of length k = 1\t\t24186.0 [ 24186.0 / 0.0 / 24186.0 ]\n",
      "\n",
      "\n",
      "2023-12-18 00:04:23 [Severity.INFO]\tConstructing time-unfolded DAG ...\n",
      "2023-12-18 00:04:23 [Severity.INFO]\tfinished.\n",
      "Directed Acyclic Graph\n",
      "Nodes:\t\t118709\n",
      "Roots:\t\t18584\n",
      "Leaves:\t\t100125\n",
      "Links:\t\t120930\n",
      "Acyclic:\tNone\n",
      "\n",
      "2023-12-18 00:04:23 [Severity.INFO]\tGenerating causal trees for 18584 root nodes ...\n",
      "2023-12-18 00:04:24 [Severity.INFO]\tfinished.\n"
     ]
    },
    {
     "name": "stderr",
     "output_type": "stream",
     "text": [
      "\r",
      " 67%|██████████████████████████████████████████████████████████████████████████████████████████████████████████████████████                                                           | 4/6 [00:04<00:02,  1.12s/it]"
     ]
    },
    {
     "name": "stdout",
     "output_type": "stream",
     "text": [
      "Number of causal paths: Total path count: \t\t24186.0 \n",
      "[Unique / Sub paths / Total]: \t[24186.0 / 48372.0 / 72558.0]\n",
      "Nodes:\t\t\t\t3783 \n",
      "Edges:\t\t\t\t24186\n",
      "Max. path length:\t\t1\n",
      "Avg path length:\t\t1.0 \n",
      "Paths of length k = 0\t\t0.0 [ 0.0 / 48372.0 / 48372.0 ]\n",
      "Paths of length k = 1\t\t24186.0 [ 24186.0 / 0.0 / 24186.0 ]\n",
      "\n",
      "\n",
      "2023-12-18 00:04:24 [Severity.INFO]\tConstructing time-unfolded DAG ...\n",
      "2023-12-18 00:04:26 [Severity.INFO]\tfinished.\n",
      "Directed Acyclic Graph\n",
      "Nodes:\t\t218834\n",
      "Roots:\t\t18584\n",
      "Leaves:\t\t200250\n",
      "Links:\t\t241860\n",
      "Acyclic:\tNone\n",
      "\n",
      "2023-12-18 00:04:26 [Severity.INFO]\tGenerating causal trees for 18584 root nodes ...\n",
      "2023-12-18 00:04:26 [Severity.INFO]\tfinished.\n"
     ]
    },
    {
     "name": "stderr",
     "output_type": "stream",
     "text": [
      "\r",
      " 83%|███████████████████████████████████████████████████████████████████████████████████████████████████████████████████████████████████████████████████▌                             | 5/6 [00:06<00:01,  1.60s/it]"
     ]
    },
    {
     "name": "stdout",
     "output_type": "stream",
     "text": [
      "Number of causal paths: Total path count: \t\t24186.0 \n",
      "[Unique / Sub paths / Total]: \t[24186.0 / 48372.0 / 72558.0]\n",
      "Nodes:\t\t\t\t3783 \n",
      "Edges:\t\t\t\t24186\n",
      "Max. path length:\t\t1\n",
      "Avg path length:\t\t1.0 \n",
      "Paths of length k = 0\t\t0.0 [ 0.0 / 48372.0 / 48372.0 ]\n",
      "Paths of length k = 1\t\t24186.0 [ 24186.0 / 0.0 / 24186.0 ]\n",
      "\n",
      "\n",
      "2023-12-18 00:04:26 [Severity.INFO]\tConstructing time-unfolded DAG ...\n",
      "2023-12-18 00:04:29 [Severity.INFO]\tfinished.\n",
      "Directed Acyclic Graph\n",
      "Nodes:\t\t318959\n",
      "Roots:\t\t18584\n",
      "Leaves:\t\t300375\n",
      "Links:\t\t362790\n",
      "Acyclic:\tNone\n",
      "\n",
      "2023-12-18 00:04:29 [Severity.INFO]\tGenerating causal trees for 18584 root nodes ...\n",
      "2023-12-18 00:04:30 [Severity.INFO]\tfinished.\n"
     ]
    },
    {
     "name": "stderr",
     "output_type": "stream",
     "text": [
      "100%|█████████████████████████████████████████████████████████████████████████████████████████████████████████████████████████████████████████████████████████████████████████████████| 6/6 [00:09<00:00,  1.65s/it]"
     ]
    },
    {
     "name": "stdout",
     "output_type": "stream",
     "text": [
      "Number of causal paths: Total path count: \t\t24186.0 \n",
      "[Unique / Sub paths / Total]: \t[24186.0 / 48372.0 / 72558.0]\n",
      "Nodes:\t\t\t\t3783 \n",
      "Edges:\t\t\t\t24186\n",
      "Max. path length:\t\t1\n",
      "Avg path length:\t\t1.0 \n",
      "Paths of length k = 0\t\t0.0 [ 0.0 / 48372.0 / 48372.0 ]\n",
      "Paths of length k = 1\t\t24186.0 [ 24186.0 / 0.0 / 24186.0 ]\n",
      "\n",
      "\n"
     ]
    },
    {
     "name": "stderr",
     "output_type": "stream",
     "text": [
      "\n"
     ]
    }
   ],
   "source": [
    "results = []\n",
    "for delta_sec, k in tqdm(fixed_k_config):\n",
    "    result = get_total_causal_paths(t, delta_sec, k)\n",
    "    results.append(result)"
   ]
  },
  {
   "cell_type": "code",
   "execution_count": 10,
   "id": "750a7bd4",
   "metadata": {},
   "outputs": [],
   "source": [
    "_, baseline_runtimes_sec = zip(*results)\n",
    "baseline_deltas_sec, _ = zip(*fixed_k_config)"
   ]
  },
  {
   "cell_type": "code",
   "execution_count": null,
   "id": "a2749a6e",
   "metadata": {},
   "outputs": [
    {
     "name": "stdout",
     "output_type": "stream",
     "text": [
      "2023-12-18 00:04:30 [Severity.INFO]\tConstructing time-unfolded DAG ...\n"
     ]
    }
   ],
   "source": [
    "get_total_causal_paths(t, 120, 3)"
   ]
  },
  {
   "cell_type": "markdown",
   "id": "cb084908",
   "metadata": {},
   "source": [
    "## Plots"
   ]
  },
  {
   "cell_type": "code",
   "execution_count": null,
   "id": "3edbdada",
   "metadata": {},
   "outputs": [],
   "source": [
    "plt.plot(paco_deltas_sec, paco_runtimes_sec, 's--', color='blue',label=\"PaCo\")\n",
    "plt.plot(baseline_deltas_sec, baseline_runtimes_sec, '^--', color='red',label=\"Baseline\")\n",
    "plt.xlabel(\"δ [sec]\")\n",
    "plt.ylabel(\"run-time [sec]\")\n",
    "plt.grid(True)\n",
    "plt.legend()\n",
    "plt.savefig('plots/socbitcoinalpha_middle_panel.png')\n",
    "plt.show()"
   ]
  }
 ],
 "metadata": {
  "kernelspec": {
   "display_name": "Python 3 (ipykernel)",
   "language": "python",
   "name": "python3"
  },
  "language_info": {
   "codemirror_mode": {
    "name": "ipython",
    "version": 3
   },
   "file_extension": ".py",
   "mimetype": "text/x-python",
   "name": "python",
   "nbconvert_exporter": "python",
   "pygments_lexer": "ipython3",
   "version": "3.10.13"
  }
 },
 "nbformat": 4,
 "nbformat_minor": 5
}
