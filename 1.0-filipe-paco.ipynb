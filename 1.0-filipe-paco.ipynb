{
 "cells": [
  {
   "cell_type": "code",
   "execution_count": 5,
   "id": "d61036d6",
   "metadata": {},
   "outputs": [
    {
     "ename": "ModuleNotFoundError",
     "evalue": "No module named 'pathpy'",
     "output_type": "error",
     "traceback": [
      "\u001b[0;31m---------------------------------------------------------------------------\u001b[0m",
      "\u001b[0;31mModuleNotFoundError\u001b[0m                       Traceback (most recent call last)",
      "Cell \u001b[0;32mIn[5], line 3\u001b[0m\n\u001b[1;32m      1\u001b[0m \u001b[38;5;28;01mfrom\u001b[39;00m \u001b[38;5;21;01mpaco\u001b[39;00m \u001b[38;5;28;01mimport\u001b[39;00m TimeStampedLinkList, paco\n\u001b[1;32m      2\u001b[0m \u001b[38;5;28;01mfrom\u001b[39;00m \u001b[38;5;21;01mmain\u001b[39;00m \u001b[38;5;28;01mimport\u001b[39;00m load_edgelist\n\u001b[0;32m----> 3\u001b[0m \u001b[38;5;28;01mimport\u001b[39;00m \u001b[38;5;21;01mpathpy\u001b[39;00m \u001b[38;5;28;01mas\u001b[39;00m \u001b[38;5;21;01mpp\u001b[39;00m\n",
      "\u001b[0;31mModuleNotFoundError\u001b[0m: No module named 'pathpy'"
     ]
    }
   ],
   "source": [
    "from paco import TimeStampedLinkList, paco\n",
    "from main import load_edgelist"
   ]
  },
  {
   "cell_type": "code",
   "execution_count": null,
   "id": "efd6d54b",
   "metadata": {},
   "outputs": [],
   "source": [
    "delta = 3600\n",
    "K = 1000"
   ]
  },
  {
   "cell_type": "code",
   "execution_count": null,
   "id": "69d78f9f",
   "metadata": {},
   "outputs": [],
   "source": [
    "edge_list = load_edgelist()\n",
    "data = TimeStampedLinkList.from_edgelist(edge_list)"
   ]
  },
  {
   "cell_type": "code",
   "execution_count": null,
   "id": "3d510ed1",
   "metadata": {},
   "outputs": [],
   "source": [
    "C = paco(data, delta, K)"
   ]
  },
  {
   "cell_type": "code",
   "execution_count": null,
   "id": "0d5d0aa0",
   "metadata": {},
   "outputs": [],
   "source": [
    "sum(C.values())"
   ]
  },
  {
   "cell_type": "code",
   "execution_count": null,
   "id": "45a52dc1",
   "metadata": {},
   "outputs": [],
   "source": []
  },
  {
   "cell_type": "code",
   "execution_count": null,
   "id": "c5a00c0e",
   "metadata": {},
   "outputs": [],
   "source": []
  }
 ],
 "metadata": {
  "kernelspec": {
   "display_name": "Python 3 (ipykernel)",
   "language": "python",
   "name": "python3"
  },
  "language_info": {
   "codemirror_mode": {
    "name": "ipython",
    "version": 3
   },
   "file_extension": ".py",
   "mimetype": "text/x-python",
   "name": "python",
   "nbconvert_exporter": "python",
   "pygments_lexer": "ipython3",
   "version": "3.11.4"
  }
 },
 "nbformat": 4,
 "nbformat_minor": 5
}
