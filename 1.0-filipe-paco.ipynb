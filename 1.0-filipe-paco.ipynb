{
 "cells": [
  {
   "cell_type": "code",
   "execution_count": 1,
   "id": "d61036d6",
   "metadata": {},
   "outputs": [],
   "source": [
    "from main import load_edgelist\n",
    "from typing import List, Dict"
   ]
  },
  {
   "cell_type": "code",
   "execution_count": null,
   "id": "75b6083a",
   "metadata": {},
   "outputs": [],
   "source": [
    "class CausalPath:\n",
    "    def __init__(self, nodes: List[str]) -> None: self.nodes = nodes\n",
    "\n",
    "    def extend(self, node: str):\n",
    "        return CausalPath([node] + self.nodes)\n",
    "\n",
    "    def __str__(self) -> str:\n",
    "        return f'({\", \".join(self.nodes)})'\n",
    "\n",
    "    def __hash__(self) -> int:\n",
    "        return hash(tuple(self.nodes))\n",
    "\n",
    "    def __eq__(self, other):\n",
    "        return isinstance(other, CausalPath) and self.nodes == other.nodes"
   ]
  },
  {
   "cell_type": "code",
   "execution_count": null,
   "id": "69fd8b3b",
   "metadata": {},
   "outputs": [],
   "source": [
    "class TimeStampedLink:\n",
    "    def __init__(self, source: str, target: str, timestamp: int) -> None:\n",
    "        self.source, self.target, self.timestamp = source, target, timestamp\n",
    "\n",
    "    def as_causal_path(self):\n",
    "        return CausalPath([self.source, self.target])\n",
    "\n",
    "    def __str__(self) -> str:\n",
    "        return f'{self.source} -> {self.target} ({self.timestamp})'"
   ]
  },
  {
   "cell_type": "code",
   "execution_count": null,
   "id": "1631944f",
   "metadata": {},
   "outputs": [],
   "source": [
    "class TimeStampedLinkWithCount(TimeStampedLink):\n",
    "    def __init__(self, source: str, target: str, timestamp: int, c: Dict[CausalPath, int]) -> None:\n",
    "        super().__init__(source, target, timestamp)\n",
    "        self.c = c\n",
    "\n",
    "    def __str__(self) -> str:\n",
    "        return f'{self.source} -> {self.target} ({self.timestamp})'"
   ]
  },
  {
   "cell_type": "code",
   "execution_count": null,
   "id": "9d2ea89f",
   "metadata": {},
   "outputs": [],
   "source": [
    "class TimeStampedLinkList:\n",
    "    def __init__(self, links: List[TimeStampedLink]) -> None:\n",
    "        self.links = sorted(links, key=lambda x: x.timestamp)\n",
    "\n",
    "    def __iter__(self):\n",
    "        return iter(self.links)\n",
    "\n",
    "    def __str__(self) -> str:\n",
    "        return '\\n'.join([link.__str__() for link in self.links])\n",
    "\n",
    "    @staticmethod\n",
    "    def from_edgelist(edge_list: List):\n",
    "        timestamped_links = [TimeStampedLink(\n",
    "            e[0], e[1], e[2]) for e in edge_list]\n",
    "        return TimeStampedLinkList(timestamped_links)\n"
   ]
  },
  {
   "cell_type": "code",
   "execution_count": 67,
   "id": "efd6d54b",
   "metadata": {},
   "outputs": [],
   "source": [
    "def paco(data: TimeStampedLinkList, max_time: int, max_steps: int):\n",
    "    \"\"\"\n",
    "    Function counts all instances of causal paths of lengths k <= K for a given maximum path length K and a maximum time difference (delta) between subsequent links on causal paths.\n",
    "\n",
    "    :param data: Timestamp links (D)\n",
    "    :param max_steps: Represents maximum path length (K)\n",
    "    :param max_time: Represents maximum time difference (𝛿)\n",
    "    \"\"\"\n",
    "\n",
    "    # Define C\n",
    "    C = {}\n",
    "\n",
    "    # Define W\n",
    "    window: List[TimeStampedLinkWithCount] = []\n",
    "\n",
    "    for link in data:\n",
    "        c_i: Dict[CausalPath, int] = {}\n",
    "        c_i[link.as_causal_path()] = 1\n",
    "\n",
    "        for link1 in window:\n",
    "            print(window)\n",
    "            if link1.timestamp < link.timestamp - max_time:\n",
    "                window.remove(link1)\n",
    "            else:\n",
    "                if link1.target == link.source and link.timestamp > link1.timestamp:\n",
    "                    for p in link1.c.keys():\n",
    "                        if len(p.nodes) <= max_steps:\n",
    "                            p_d = p.extend(link.target)\n",
    "                            if p_d not in c_i.keys():\n",
    "                                c_i[p_d] = link1.c[p]\n",
    "                            else:\n",
    "                                c_i[p_d] += link1.c[p]\n",
    "\n",
    "        for p in c_i.keys():\n",
    "            if p not in C.keys():\n",
    "                C[p] = c_i[p]\n",
    "            else:\n",
    "                C[p] += c_i[p]\n",
    "        window.append(TimeStampedLinkWithCount(\n",
    "            link.source, link.target, link.timestamp, c_i))\n",
    "    return C"
   ]
  },
  {
   "cell_type": "code",
   "execution_count": 68,
   "id": "69d78f9f",
   "metadata": {},
   "outputs": [],
   "source": [
    "edge_list = load_edgelist()\n",
    "data = TimeStampedLinkList.from_edgelist(edge_list)"
   ]
  },
  {
   "cell_type": "code",
   "execution_count": 69,
   "id": "af12224a",
   "metadata": {
    "scrolled": true
   },
   "outputs": [
    {
     "data": {
      "text/plain": [
       "[('subreddit1', 'subreddit2', 1388504358),\n",
       " ('subreddit2', 'subreddit3', 1388504368),\n",
       " ('subreddit2', 'subreddit3', 1389770565),\n",
       " ('subreddit3', 'subreddit1', 1391339430)]"
      ]
     },
     "execution_count": 69,
     "metadata": {},
     "output_type": "execute_result"
    }
   ],
   "source": [
    "edge_list"
   ]
  },
  {
   "cell_type": "code",
   "execution_count": 70,
   "id": "feeb45c6",
   "metadata": {},
   "outputs": [
    {
     "name": "stdout",
     "output_type": "stream",
     "text": [
      "[<__main__.TimeStampedLinkWithCount object at 0x122cbc6d0>]\n",
      "[<__main__.TimeStampedLinkWithCount object at 0x122d00f10>]\n",
      "[<__main__.TimeStampedLinkWithCount object at 0x122cbc6d0>]\n"
     ]
    }
   ],
   "source": [
    "C = paco(data, 1, 1)"
   ]
  },
  {
   "cell_type": "code",
   "execution_count": 71,
   "id": "2414f02f",
   "metadata": {},
   "outputs": [
    {
     "name": "stdout",
     "output_type": "stream",
     "text": [
      "(subreddit1, subreddit2) 1\n",
      "(subreddit2, subreddit3) 2\n",
      "(subreddit3, subreddit1) 1\n"
     ]
    }
   ],
   "source": [
    "for k, i  in C.items():\n",
    "    print(k, i)"
   ]
  },
  {
   "cell_type": "code",
   "execution_count": null,
   "id": "8290ce33",
   "metadata": {},
   "outputs": [],
   "source": []
  },
  {
   "cell_type": "code",
   "execution_count": null,
   "id": "e34b7a36",
   "metadata": {},
   "outputs": [],
   "source": []
  }
 ],
 "metadata": {
  "kernelspec": {
   "display_name": "Python 3 (ipykernel)",
   "language": "python",
   "name": "python3"
  },
  "language_info": {
   "codemirror_mode": {
    "name": "ipython",
    "version": 3
   },
   "file_extension": ".py",
   "mimetype": "text/x-python",
   "name": "python",
   "nbconvert_exporter": "python",
   "pygments_lexer": "ipython3",
   "version": "3.10.13"
  }
 },
 "nbformat": 4,
 "nbformat_minor": 5
}
